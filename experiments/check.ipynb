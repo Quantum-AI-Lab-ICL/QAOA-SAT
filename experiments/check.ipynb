{
 "cells": [
  {
   "cell_type": "code",
   "execution_count": 1,
   "metadata": {},
   "outputs": [],
   "source": [
    "import os\n",
    "import torch\n",
    "import h5py\n",
    "import sys\n",
    "import json\n",
    "import matplotlib.pyplot as plt\n",
    "import numpy as np\n",
    "\n",
    "nb_dir = os.path.split(os.getcwd())[0]\n",
    "if nb_dir not in sys.path:\n",
    "    sys.path.append(nb_dir)\n",
    "parent_dir = os.path.dirname(os.getcwd())"
   ]
  },
  {
   "cell_type": "code",
   "execution_count": 2,
   "metadata": {},
   "outputs": [],
   "source": [
    "from benchmark.cnf.random_cnf import RandomCNF\n",
    "\n",
    "rcnf = RandomCNF(type='knaesat')\n",
    "\n",
    "formulas = rcnf.from_poisson(15, 8, from_file=0, calc_naive=True, instances=10)"
   ]
  },
  {
   "cell_type": "code",
   "execution_count": 3,
   "metadata": {},
   "outputs": [
    {
     "name": "stdout",
     "output_type": "stream",
     "text": [
      "9\n",
      "9\n",
      "9.0\n",
      "9.0\n"
     ]
    }
   ],
   "source": [
    "f1 = formulas[0]\n",
    "\n",
    "print(f1.assignment_weight('000000000000000'))\n",
    "print(f1.assignment_weight('111111111111111'))\n",
    "print(f1.naive_counts[0])\n",
    "print(f1.naive_counts[2**15 - 1])"
   ]
  },
  {
   "cell_type": "code",
   "execution_count": 4,
   "metadata": {},
   "outputs": [
    {
     "name": "stdout",
     "output_type": "stream",
     "text": [
      "8\n",
      "8\n",
      "16.0\n",
      "16.0\n"
     ]
    }
   ],
   "source": [
    "formulas = rcnf.from_poisson(15, 8, from_file=4000, calc_naive=True, instances=10)\n",
    "f2 = formulas[0]\n",
    "print(f2.assignment_weight('000000000000000'))\n",
    "print(f2.assignment_weight('111111111111111'))\n",
    "print(f2.naive_counts[0])\n",
    "print(f2.naive_counts[2**15 - 1])"
   ]
  }
 ],
 "metadata": {
  "kernelspec": {
   "display_name": "venv",
   "language": "python",
   "name": "python3"
  },
  "language_info": {
   "codemirror_mode": {
    "name": "ipython",
    "version": 3
   },
   "file_extension": ".py",
   "mimetype": "text/x-python",
   "name": "python",
   "nbconvert_exporter": "python",
   "pygments_lexer": "ipython3",
   "version": "3.8.10 (default, Nov 14 2022, 12:59:47) \n[GCC 9.4.0]"
  },
  "orig_nbformat": 4,
  "vscode": {
   "interpreter": {
    "hash": "29f951cdabef12836e9083df8eafb20f1eb0d7cdacd07dedd12ec492edce1f03"
   }
  }
 },
 "nbformat": 4,
 "nbformat_minor": 2
}
