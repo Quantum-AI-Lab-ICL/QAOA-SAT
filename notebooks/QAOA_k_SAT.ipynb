{
 "cells": [
  {
   "cell_type": "code",
   "execution_count": 1,
   "metadata": {},
   "outputs": [],
   "source": [
    "import os\n",
    "import sys\n",
    "nb_dir = os.path.split(os.getcwd())[0]\n",
    "if nb_dir not in sys.path:\n",
    "    sys.path.append(nb_dir)"
   ]
  },
  {
   "attachments": {},
   "cell_type": "markdown",
   "metadata": {},
   "source": [
    "We generalise our results for 3-SAT to k-SAT and in doing so, recast our problem as a minimisation.\n",
    "\n",
    "As introduced in Section 4.1, let $\\underline{\\sigma} \\sim CNF(n, k, r)$ a problem instance such that \n",
    "\n",
    "$$\\underline{\\sigma} := \\bigwedge\\limits_{i = 1}^m \\sigma_i$$\n",
    "\n",
    "where\n",
    "\n",
    "$$ \\sigma_i = \\bigvee_{j = 1}^{k} l_{\\sigma_{ij}} $$\n",
    "\n",
    "$ l_{\\sigma_{ij}}$ is a boolean literal such that $ l_{\\sigma_{ij}} = x_{\\sigma_{ij}}$ or $\\neg x_{\\sigma_{ij}}$ and $\\sigma_{ij} \\in \\{1, \\dots, n\\}$ is an index into the $n$ variables.\n",
    "\n",
    "We seek the representing Hamiltonian $\\hat{\\mathcal{H}}_{\\underline{\\sigma}}$. This is recognised as a Pseudo-Boolean function, meaning that\n",
    "\n",
    "$$\\hat{\\mathcal{H}}_{\\underline{\\sigma}} = \\sum_{i = 1}^m \\hat{\\mathcal{H}}_{\\sigma_i}$$\n",
    "\n",
    "We identify (De Morgan's)\n",
    "\n",
    "$$\\sigma_i = \\bigvee_{j = 1}^{k} l_{\\sigma_{ij}} \\equiv \\neg \\left( \\bigwedge_{j = 1}^{k} \\neg l_{\\sigma_{ij}} \\right)$$\n",
    "\n",
    "$$\\Rightarrow \\hat{\\mathcal{H}}_{\\sigma_i} \\equiv \\hat{\\mathcal{H}}_{\\neg \\left( \\bigwedge_{j = 1}^{k} \\neg l_{\\sigma_{ij}} \\right)} = \\mathbb{I} - \\hat{\\mathcal{H}}_{\\left( \\bigwedge_{j = 1}^{k} \\neg l_{\\sigma_{ij}} \\right)} = \\mathbb{I} - \\prod_{j = 1}^{k}\\hat{\\mathcal{H}}_{\\neg l_{\\sigma_{ij}}} = \\mathbb{I} - \\prod_{j = 1}^{k}(\\mathbb{I} - \\hat{\\mathcal{H}}_{l_{\\sigma_{ij}}})$$\n",
    "\n",
    "Recall\n",
    "\n",
    "$$ \\hat{\\mathcal{H}}_{l_{\\sigma_{ij}}} = \\frac{1}{2}\\mathbb{I} + s_{\\sigma_{ij}}\\frac{1}{2}Z_{\\sigma_{ij}} $$\n",
    "\n",
    "represents $l_{\\sigma_{ij}}$, where $l_{\\sigma_{ij}} = x_{\\sigma_{ij}} \\Rightarrow s_{\\sigma_{ij}} = -1$ and $l_{\\sigma_{ij}} = \\neg x_{\\sigma_{ij}} \\Rightarrow s_{\\sigma_{ij}} = 1$ \n",
    "\n",
    "$$\\Rightarrow \\hat{\\mathcal{H}}_{\\sigma_i} = \\mathbb{I} - \\prod_{j = 1}^{k}(\\mathbb{I} - \\hat{\\mathcal{H}}_{l_{\\sigma_{ij}}}) = \\mathbb{I} - \\prod_{j = 1}^{k}(\\mathbb{I} - \\frac{1}{2}\\mathbb{I} - s_{\\sigma_{ij}}\\frac{1}{2}Z_{\\sigma_{ij}}) = \\mathbb{I} - \\frac{1}{2^k}\\prod_{j = 1}^{k}\\left( \\mathbb{I} - s_{\\sigma_{ij}}Z_{\\sigma_{ij}} \\right)$$\n",
    "\n",
    "Reformulating as a minimisation problem and ignoring constansts\n",
    "\n",
    "$$ \\rightarrow \\hat{\\mathcal{H}}_{\\sigma_i} = \\frac{1}{2^k}\\prod_{j = 1}^{k}\\left( \\mathbb{I} - s_{\\sigma_{ij}}Z_{\\sigma_{ij}} \\right)$$\n",
    "\n",
    "We expand this (again ignoring constant terms) to arrive at \n",
    "\n",
    "$$ \\hat{\\mathcal{H}}_{\\sigma_i} = \\frac{1}{2^k}\\left(-\\sum_{a = 1}^{k} s_{\\sigma_{ia}}Z_{\\sigma_{ia}} + \\sum_{b > a}^{k} s_{\\sigma_{ia}}s_{\\sigma_{ib}}Z_{\\sigma_{ia}}Z_{\\sigma_{ib}} - \\sum_{c > b > a}^{k} s_{\\sigma_{ia}}s_{\\sigma_{ib}}s_{\\sigma_{ic}}Z_{\\sigma_{ia}}Z_{\\sigma_{ib}}Z_{\\sigma_{ic}} \\dots \\right) $$"
   ]
  },
  {
   "attachments": {},
   "cell_type": "markdown",
   "metadata": {},
   "source": [
    "Next, we consider the corresponding unitary operator\n",
    "\n",
    "\\begin{equation}\n",
    "\\begin{split}\n",
    "\t\\hat{\\mathcal{U}}_{\\underline{\\sigma}}(\\gamma) &= \\exp\\left[-i \\gamma \\hat{\\mathcal{H}}_{\\underline{\\sigma}}\\right] \\\\\n",
    "\t&= \\exp \\left[-i \\gamma \\sum_{i = 1}^m \\hat{\\mathcal{H}}_{\\sigma_i}\\right] \\\\\n",
    "\t&= \\prod_{i = 1}^m \\exp \\left[-i \\gamma \\hat{\\mathcal{H}}_{\\sigma_i}\\right] \\\\\n",
    "\t&:= \\prod_{i = 1}^m \\hat{\\mathcal{U}}_{\\sigma_i}(\\gamma)\n",
    "\\end{split}\n",
    "\\end{equation}\n",
    "\n",
    "\\begin{equation}\n",
    "\\begin{split}\n",
    "\t\\hat{\\mathcal{U}}_{\\sigma_i}(\\gamma) &= \\exp \\left[-i \\gamma \\frac{1}{2^k}\\left(-\\sum_{a = 1}^{k} s_{\\sigma_{ia}}Z_{\\sigma_{ia}} + \\sum_{b > a}^{k} s_{\\sigma_{ia}}s_{\\sigma_{ib}}Z_{\\sigma_{ia}}Z_{\\sigma_{ib}} - \\sum_{c > b > a}^{k} s_{\\sigma_{ia}}s_{\\sigma_{ib}}s_{\\sigma_{ic}}Z_{\\sigma_{ia}}Z_{\\sigma_{ib}}Z_{\\sigma_{ic}} \\dots \\right) \\right] \\\\\n",
    "\t&= \\exp \\left[i \\gamma \\frac{1}{2^k}\\sum_{a = 1}^{k} s_{\\sigma_{ia}}Z_{\\sigma_{ia}} \\right] \\exp \\left[-i \\gamma \\frac{1}{2^k} \\sum_{b > a}^{k} s_{\\sigma_{ia}}s_{\\sigma_{ib}}Z_{\\sigma_{ia}}Z_{\\sigma_{ib}} \\right] \\exp \\left[i \\gamma \\frac{1}{2^k} \\sum_{c > b > a}^{k} s_{\\sigma_{ia}}s_{\\sigma_{ib}}s_{\\sigma_{ic}}Z_{\\sigma_{ia}}Z_{\\sigma_{ib}}Z_{\\sigma_{ic}} \\right] \\dots \\\\\n",
    "\t&= \\prod_{a = 1}^{k} \\exp \\left[i \\gamma \\frac{1}{2^k} s_{\\sigma_{ia}}Z_{\\sigma_{ia}} \\right] \\prod_{b > a}^{k}\\exp \\left[-i \\gamma \\frac{1}{2^k}  s_{\\sigma_{ia}}s_{\\sigma_{ib}}Z_{\\sigma_{ia}}Z_{\\sigma_{ib}} \\right] \\prod_{c > b > a}^{k}\\exp \\left[i \\gamma \\frac{1}{2^k}  s_{\\sigma_{ia}}s_{\\sigma_{ib}}s_{\\sigma_{ic}}Z_{\\sigma_{ia}}Z_{\\sigma_{ib}}Z_{\\sigma_{ic}} \\right] \\dots \\\\\n",
    "\t&= \\prod_{a = 1}^{k} R_{Z_{\\sigma_{ia}}}\\left[-\\frac{\\gamma}{2^{k-1}} s_{\\sigma_{ia}} \\right] \\prod_{b > a}^{k}R_{Z_{\\sigma_{ia}}Z_{\\sigma_{ib}}} \\left[\\frac{\\gamma}{2^{k-1}}  s_{\\sigma_{ia}}s_{\\sigma_{ib}} \\right] \\prod_{c > b > a}^{k}R_{Z_{\\sigma_{ia}}Z_{\\sigma_{ib}}Z_{\\sigma_{ic}}} \\left[-\\frac{\\gamma}{2^{k-1}}  s_{\\sigma_{ia}}s_{\\sigma_{ib}}s_{\\sigma_{ic}} \\right] \\dots \\\\\n",
    "\n",
    "\\end{split}\n",
    "\\end{equation}"
   ]
  },
  {
   "attachments": {},
   "cell_type": "markdown",
   "metadata": {},
   "source": [
    "Qiskit provides a `UnitaryGate` class that creates a gate from a matrix. However, as seen below, it appears the decomposition is not the most efficient. "
   ]
  },
  {
   "cell_type": "code",
   "execution_count": 2,
   "metadata": {},
   "outputs": [
    {
     "data": {
      "image/png": "[encoded data removed]",
      "text/plain": [
       "<Figure size 454.517x200.667 with 1 Axes>"
      ]
     },
     "execution_count": 2,
     "metadata": {},
     "output_type": "execute_result"
    }
   ],
   "source": [
    "from qiskit import QuantumCircuit\n",
    "from qiskit.extensions import UnitaryGate\n",
    "\n",
    "# Implement CNOT from matrix\n",
    "matrix = [[1, 0, 0, 0],\n",
    "          [0, 0, 0, 1],\n",
    "          [0, 0, 1, 0],\n",
    "          [0, 1, 0, 0]]\n",
    "gate = UnitaryGate(matrix)\n",
    "\n",
    "circuit = QuantumCircuit(2)\n",
    "circuit.append(gate, [0, 1])\n",
    "circuit.decompose().draw(\"mpl\")"
   ]
  },
  {
   "cell_type": "code",
   "execution_count": 3,
   "metadata": {},
   "outputs": [
    {
     "data": {
      "image/png": "[encoded data removed]",
      "text/plain": [
       "<Figure size 203.683x200.667 with 1 Axes>"
      ]
     },
     "execution_count": 3,
     "metadata": {},
     "output_type": "execute_result"
    }
   ],
   "source": [
    "# Compare to actual CNOT\n",
    "qc = QuantumCircuit(2)\n",
    "qc.cx(0, 1)\n",
    "qc.draw(\"mpl\")"
   ]
  },
  {
   "attachments": {},
   "cell_type": "markdown",
   "metadata": {},
   "source": [
    "**Theorem** \n",
    "\n",
    "$$ \\exp \\left[-i \\gamma \\prod_{i = 1}^{k} Z_i \\right] = \\exp \\left[-i \\gamma Z^{\\otimes k} \\right] = \\left(\\prod_{i = 1}^{k - 1}\\text{CX}_{k - i, k - i + 1}\\right)R_{Z_{k}}(2\\gamma)\\left(\\prod_{i = 1}^{k - 1}\\text{CX}_{i, i+1}\\right) $$\n",
    "\n",
    "where $CX_{a,b}$ is the controlled-not gate with control qubit $a$ and target qubit $b$.\n",
    "\n",
    "**Proof**\n",
    "\n",
    "Base case: $k = 2$\n",
    "\n",
    "$$\n",
    "\\text{CX}_{1, 2}R_{Z_2}(2\\gamma)\\text{CX}_{1, 2} = \n",
    "\\left(\\begin{matrix}\n",
    "1 & 0 & 0 & 0\\\\\n",
    "0 & 1 & 0 & 0\\\\\n",
    "0 & 0 & 0 & 1\\\\\n",
    "0 & 0 & 1 & 0\\\\\n",
    "\\end{matrix}\\right)\n",
    "\\left(\\begin{matrix}\n",
    "e^{-i \\gamma}& 0 & 0 & 0\\\\\n",
    "0 & e^{i \\gamma} & 0 & 0\\\\\n",
    "0 & 0 & e^{-i \\gamma} & 0\\\\\n",
    "0 & 0 & 0 & e^{i \\gamma}\\\\\n",
    "\\end{matrix}\\right)\n",
    "\\left(\\begin{matrix}\n",
    "1 & 0 & 0 & 0\\\\\n",
    "0 & 1 & 0 & 0\\\\\n",
    "0 & 0 & 0 & 1\\\\\n",
    "0 & 0 & 1 & 0\\\\\n",
    "\\end{matrix}\\right)\n",
    "= \n",
    "\\left(\\begin{matrix}\n",
    "e^{-i \\gamma}& 0 & 0 & 0\\\\\n",
    "0 & e^{i \\gamma} & 0 & 0\\\\\n",
    "0 & 0 & e^{i \\gamma} & 0\\\\\n",
    "0 & 0 & 0 & e^{-i \\gamma}\\\\\n",
    "\\end{matrix}\\right)\n",
    "= \n",
    "\\exp \\left[-i \\gamma \\left(\\begin{matrix}\n",
    "1 & 0 & 0 & 0\\\\\n",
    "0 & -1 & 0 & 0\\\\\n",
    "0 & 0 & -1 & 0\\\\\n",
    "0 & 0 & 0 & 1\\\\\n",
    "\\end{matrix}\\right)\\right]\n",
    "= \\exp \\left[-i \\gamma Z_1Z_2\\right]\n",
    "$$\n",
    "\n",
    "Inductive case:\n",
    "\n",
    "Assumption: $$ \\exp \\left[-i \\gamma \\prod_{i = 1}^{n} Z_i \\right] = \\left(\\prod_{i = 1}^{n - 1}\\text{CX}_{n - i - 1, n - i}\\right)R_{Z_{n}}(2\\gamma)\\left(\\prod_{i = 1}^{n - 1}\\text{CX}_{i, i+1}\\right) $$\n",
    "\n",
    "Consider $k = n + 1$\n",
    "\n",
    "$$ \\exp \\left[-i \\gamma \\prod_{i = 2}^{n+1} Z_i \\right] = \\exp \\left[-i \\gamma Z^{\\otimes (n + 1)}\\right] =  \\exp \\left[-i \\gamma Z \\otimes Z^{\\otimes n} \\right] = \\sum_k \\frac{}{} $$ "
   ]
  },
  {
   "attachments": {},
   "cell_type": "markdown",
   "metadata": {},
   "source": [
    "We demonstrate solving a $k$-SAT problem using `QAOA` vs `WalkSATlm`"
   ]
  },
  {
   "attachments": {},
   "cell_type": "markdown",
   "metadata": {},
   "source": [
    "We first set up a trivial problem that has assignment solution $x = 111$"
   ]
  },
  {
   "cell_type": "code",
   "execution_count": 4,
   "metadata": {},
   "outputs": [],
   "source": [
    "from formula.cnf import CNF\n",
    "from formula.clause import Clause\n",
    "from formula.variable import Variable"
   ]
  },
  {
   "cell_type": "code",
   "execution_count": 5,
   "metadata": {},
   "outputs": [
    {
     "data": {
      "text/plain": [
       "(x0 ∨ x1 ∨ x2)∧\n",
       "(x0 ∨ x1 ∨ ¬x2)∧\n",
       "(x0 ∨ ¬x1 ∨ x2)∧\n",
       "(x0 ∨ ¬x1 ∨ ¬x2)∧\n",
       "(¬x0 ∨ x1 ∨ x2)∧\n",
       "(¬x0 ∨ x1 ∨ ¬x2)∧\n",
       "(¬x0 ∨ ¬x1 ∨ x2)"
      ]
     },
     "execution_count": 5,
     "metadata": {},
     "output_type": "execute_result"
    }
   ],
   "source": [
    "x0 = Variable(0, False) \n",
    "x1 = Variable(1, False) \n",
    "x2 = Variable(2, False) \n",
    "notx0 = Variable(0, True) \n",
    "notx1 = Variable(1, True) \n",
    "notx2 = Variable(2, True) \n",
    "\n",
    "c1 = Clause([x0, x1, x2])\n",
    "c2 = Clause([x0, x1, notx2])\n",
    "c3 = Clause([x0, notx1, x2])\n",
    "c4 = Clause([x0, notx1, notx2])\n",
    "c5 = Clause([notx0, x1, x2])\n",
    "c6 = Clause([notx0, x1, notx2])\n",
    "c7 = Clause([notx0, notx1, x2])\n",
    "\n",
    "cnf = CNF([c1, c2, c3, c4, c5, c6, c7])\n",
    "cnf"
   ]
  },
  {
   "attachments": {},
   "cell_type": "markdown",
   "metadata": {},
   "source": [
    "Use `QAOA` to solve"
   ]
  },
  {
   "cell_type": "code",
   "execution_count": 6,
   "metadata": {},
   "outputs": [],
   "source": [
    "from k_sat.qiskit_solver.qiskit_solver import QiskitSolver\n",
    "qs = QiskitSolver()"
   ]
  },
  {
   "cell_type": "code",
   "execution_count": 7,
   "metadata": {},
   "outputs": [
    {
     "name": "stdout",
     "output_type": "stream",
     "text": [
      "Encoding training formulas into quantum circuits\n",
      "Finding optimal parameters for training circuits\n",
      "Finding/evaluating satisfying assignment\n"
     ]
    },
    {
     "data": {
      "text/plain": [
       "('111', 1)"
      ]
     },
     "execution_count": 7,
     "metadata": {},
     "output_type": "execute_result"
    }
   ],
   "source": [
    "qs.sat(cnf)"
   ]
  },
  {
   "cell_type": "code",
   "execution_count": 8,
   "metadata": {},
   "outputs": [
    {
     "data": {
      "image/png": "[encoded data removed]",
      "text/plain": [
       "<Figure size 700x500 with 1 Axes>"
      ]
     },
     "execution_count": 8,
     "metadata": {},
     "output_type": "execute_result"
    }
   ],
   "source": [
    "qs.visualise_result(cnf)"
   ]
  },
  {
   "attachments": {},
   "cell_type": "markdown",
   "metadata": {},
   "source": [
    "Now we solve the instance using `WalkSATlm` and compare the run time"
   ]
  },
  {
   "cell_type": "code",
   "execution_count": 9,
   "metadata": {},
   "outputs": [],
   "source": [
    "from k_sat.walkSATlm.walkSATlm import WalkSATlm\n",
    "\n",
    "wslm = WalkSATlm()"
   ]
  },
  {
   "cell_type": "code",
   "execution_count": 10,
   "metadata": {},
   "outputs": [
    {
     "data": {
      "text/plain": [
       "('111', 2)"
      ]
     },
     "execution_count": 10,
     "metadata": {},
     "output_type": "execute_result"
    }
   ],
   "source": [
    "wslm.sat(cnf)"
   ]
  },
  {
   "cell_type": "code",
   "execution_count": 12,
   "metadata": {},
   "outputs": [
    {
     "name": "stdout",
     "output_type": "stream",
     "text": [
      "Initialising network\n",
      "Finding optimal params\n",
      "Success probability: 0.12544932961463928\n",
      "Success probability: 0.7080139517784119\n",
      "Success probability: 0.9788180589675903\n",
      "Success probability: 0.9997613430023193\n",
      "Success probability: 0.9999922513961792\n",
      "Success probability: 0.9999998807907104\n",
      "Success probability: 1.0\n",
      "Success probability: 1.0\n",
      "Success probability: 1.0\n",
      "Success probability: 1.0\n"
     ]
    },
    {
     "data": {
      "text/plain": [
       "('111', 1)"
      ]
     },
     "execution_count": 12,
     "metadata": {},
     "output_type": "execute_result"
    }
   ],
   "source": [
    "from k_sat.pytorch_solver.pytorch_solver import PytorchSolver\n",
    "\n",
    "ps = PytorchSolver(layers=3)\n",
    "ps.sat(cnf)"
   ]
  },
  {
   "cell_type": "code",
   "execution_count": 13,
   "metadata": {},
   "outputs": [],
   "source": [
    "#with profile(activities=[ProfilerActivity.CPU], record_shapes=True) as prof:\n",
    "#\tps.sat(cnf)\n",
    "#print(prof.key_averages(group_by_input_shape=True).table(sort_by=\"cpu_time_total\", row_limit=10))"
   ]
  }
 ],
 "metadata": {
  "kernelspec": {
   "display_name": "venv",
   "language": "python",
   "name": "python3"
  },
  "language_info": {
   "codemirror_mode": {
    "name": "ipython",
    "version": 3
   },
   "file_extension": ".py",
   "mimetype": "text/x-python",
   "name": "python",
   "nbconvert_exporter": "python",
   "pygments_lexer": "ipython3",
   "version": "3.8.10"
  },
  "orig_nbformat": 4,
  "vscode": {
   "interpreter": {
    "hash": "29f951cdabef12836e9083df8eafb20f1eb0d7cdacd07dedd12ec492edce1f03"
   }
  }
 },
 "nbformat": 4,
 "nbformat_minor": 2
}
