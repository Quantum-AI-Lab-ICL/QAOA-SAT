{
 "cells": [
  {
   "attachments": {},
   "cell_type": "markdown",
   "metadata": {},
   "source": [
    "We generalise our results for 3-SAT to k-SAT and in doing so, recast our problem as a minimisation.\n",
    "\n",
    "As introduced in Section 4.1, let $\\underline{\\sigma} \\sim CNF(n, k, r)$ a problem instance such that \n",
    "\n",
    "$$\\underline{\\sigma} := \\bigwedge\\limits_{i = 1}^m \\sigma_i$$\n",
    "\n",
    "where\n",
    "\n",
    "$$ \\sigma_i = \\bigvee_{j = 1}^{k} l_{\\sigma_{ij}} $$\n",
    "\n",
    "$ l_{\\sigma_{ij}}$ is a boolean literal such that $ l_{\\sigma_{ij}} = x_{\\sigma_{ij}}$ or $\\neg x_{\\sigma_{ij}}$ and $\\sigma_{ij} \\in \\{1, \\dots, n\\}$ is an index into the $n$ variables.\n",
    "\n",
    "We seek the representing Hamiltonian $\\hat{\\mathcal{H}}_{\\underline{\\sigma}}$. This is recognised as a Pseudo-Boolean function, meaning that\n",
    "\n",
    "$$\\hat{\\mathcal{H}}_{\\underline{\\sigma}} = \\sum_{i = 1}^m \\hat{\\mathcal{H}}_{\\sigma_i}$$\n",
    "\n",
    "We identify (De Morgan's)\n",
    "\n",
    "$$\\sigma_i = \\bigvee_{j = 1}^{k} l_{\\sigma_{ij}} \\equiv \\neg \\left( \\bigwedge_{j = 1}^{k} \\neg l_{\\sigma_{ij}} \\right)$$\n",
    "\n",
    "$$\\Rightarrow \\hat{\\mathcal{H}}_{\\sigma_i} \\equiv \\hat{\\mathcal{H}}_{\\neg \\left( \\bigwedge_{j = 1}^{k} \\neg l_{\\sigma_{ij}} \\right)} = \\mathbb{I} - \\hat{\\mathcal{H}}_{\\left( \\bigwedge_{j = 1}^{k} \\neg l_{\\sigma_{ij}} \\right)} = \\mathbb{I} - \\prod_{j = 1}^{k}\\hat{\\mathcal{H}}_{\\neg l_{\\sigma_{ij}}} = \\mathbb{I} - \\prod_{j = 1}^{k}(\\mathbb{I} - \\hat{\\mathcal{H}}_{l_{\\sigma_{ij}}})$$\n",
    "\n",
    "Recall\n",
    "\n",
    "$$ \\hat{\\mathcal{H}}_{l_{\\sigma_{ij}}} = \\frac{1}{2}\\mathbb{I} + s_{\\sigma_{ij}}\\frac{1}{2}Z_{\\sigma_{ij}} $$\n",
    "\n",
    "represents $l_{\\sigma_{ij}}$, where $l_{\\sigma_{ij}} = x_{\\sigma_{ij}} \\Rightarrow s_{\\sigma_{ij}} = -1$ and $l_{\\sigma_{ij}} = \\neg x_{\\sigma_{ij}} \\Rightarrow s_{\\sigma_{ij}} = 1$ \n",
    "\n",
    "$$\\Rightarrow \\hat{\\mathcal{H}}_{\\sigma_i} = \\mathbb{I} - \\prod_{j = 1}^{k}(\\mathbb{I} - \\hat{\\mathcal{H}}_{l_{\\sigma_{ij}}}) = \\mathbb{I} - \\prod_{j = 1}^{k}(\\mathbb{I} - \\frac{1}{2}\\mathbb{I} + s_{\\sigma_{ij}}\\frac{1}{2}Z_{\\sigma_{ij}}) = \\mathbb{I} - \\frac{1}{2^k}\\prod_{j = 1}^{k}\\left( \\mathbb{I} + s_{\\sigma_{ij}}Z_{\\sigma_{ij}} \\right)$$\n",
    "\n",
    "Reformulating as a minimisation problem and ignoring constansts\n",
    "\n",
    "$$ \\rightarrow \\hat{\\mathcal{H}}_{\\sigma_i} = \\frac{1}{2^k}\\prod_{j = 1}^{k}\\left( \\mathbb{I} + s_{\\sigma_{ij}}Z_{\\sigma_{ij}} \\right)$$\n",
    "\n",
    "We expand this (again ignoring constant terms) to arrive at \n",
    "\n",
    "$$ \\hat{\\mathcal{H}}_{\\sigma_i} = \\frac{1}{2^k}\\left(\\sum_{a = 1}^{k} s_{\\sigma_{ia}}Z_{\\sigma_{ia}} + \\sum_{b > a}^{k} s_{\\sigma_{ia}}s_{\\sigma_{ib}}Z_{\\sigma_{ia}}Z_{\\sigma_{ib}} + \\sum_{c > b > a}^{k} s_{\\sigma_{ia}}s_{\\sigma_{ib}}s_{\\sigma_{ic}}Z_{\\sigma_{ia}}Z_{\\sigma_{ib}}Z_{\\sigma_{ic}} \\dots \\right) $$"
   ]
  }
 ],
 "metadata": {
  "kernelspec": {
   "display_name": "venv",
   "language": "python",
   "name": "python3"
  },
  "language_info": {
   "name": "python",
   "version": "3.8.10 (default, Nov 14 2022, 12:59:47) \n[GCC 9.4.0]"
  },
  "orig_nbformat": 4,
  "vscode": {
   "interpreter": {
    "hash": "29f951cdabef12836e9083df8eafb20f1eb0d7cdacd07dedd12ec492edce1f03"
   }
  }
 },
 "nbformat": 4,
 "nbformat_minor": 2
}
