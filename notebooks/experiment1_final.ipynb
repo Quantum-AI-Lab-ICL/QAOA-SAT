{
 "cells": [
  {
   "attachments": {},
   "cell_type": "markdown",
   "metadata": {},
   "source": [
    "The local experiment is converted into scripts and run using `condor` to parallelise execution.\n",
    "\n",
    "We follow the procedure outlined in 3.1.2.1 (Experiment 1), with\n",
    "\n",
    "* $n \\in \\{12, \\dots, 20 \\}$\n",
    "* $k = 8$\n",
    "* $p \\in \\{1, 2, 4, 8, 16\\}$\n",
    "* training instances = $100$\n",
    "* evaluation instances = $2500$\n"
   ]
  },
  {
   "cell_type": "code",
   "execution_count": null,
   "metadata": {},
   "outputs": [],
   "source": [
    "import os\n",
    "import sys\n",
    "nb_dir = os.path.split(os.getcwd())[0]\n",
    "if nb_dir not in sys.path:\n",
    "    sys.path.append(nb_dir)"
   ]
  },
  {
   "cell_type": "code",
   "execution_count": null,
   "metadata": {},
   "outputs": [],
   "source": []
  }
 ],
 "metadata": {
  "kernelspec": {
   "display_name": "venv",
   "language": "python",
   "name": "python3"
  },
  "language_info": {
   "name": "python",
   "version": "3.8.10 (default, Nov 14 2022, 12:59:47) \n[GCC 9.4.0]"
  },
  "orig_nbformat": 4,
  "vscode": {
   "interpreter": {
    "hash": "29f951cdabef12836e9083df8eafb20f1eb0d7cdacd07dedd12ec492edce1f03"
   }
  }
 },
 "nbformat": 4,
 "nbformat_minor": 2
}
