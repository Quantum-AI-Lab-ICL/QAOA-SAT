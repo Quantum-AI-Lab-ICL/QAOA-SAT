{
  "cells": [
    {
      "cell_type": "code",
      "execution_count": 1,
      "metadata": {},
      "outputs": [],
      "source": [
        "import os\n",
        "import sys\n",
        "nb_dir = os.path.split(os.getcwd())[0]\n",
        "if nb_dir not in sys.path:\n",
        "    sys.path.append(nb_dir)"
      ]
    },
    {
      "cell_type": "markdown",
      "metadata": {
        "id": "LK5rp8gvJ0-z"
      },
      "source": [
        "Notebook to sketch out implementation of QAOA algorithm in pytorch.\n",
        "\n",
        "Final impementation in `k_sat/pytorch_solver/`"
      ]
    },
    {
      "cell_type": "code",
      "execution_count": 2,
      "metadata": {
        "id": "RrGrypeQJyJj"
      },
      "outputs": [],
      "source": [
        "import torch\n",
        "import numpy as np"
      ]
    },
    {
      "cell_type": "code",
      "execution_count": 3,
      "metadata": {
        "id": "8Ugtu7y9XY2h"
      },
      "outputs": [],
      "source": [
        "from math import log\n",
        "def t_to_sv(t):\n",
        "  t = t.detach().clone()\n",
        "  # For easier visualisation\n",
        "  t.real[torch.abs(t.real) < 1e-6] = 0\n",
        "  t.imag[torch.abs(t.imag) < 1e-6] = 0\n",
        "  return Statevector(t.numpy())\n"
      ]
    },
    {
      "cell_type": "code",
      "execution_count": 4,
      "metadata": {
        "colab": {
          "base_uri": "https://localhost:8080/",
          "height": 37
        },
        "id": "csMkw2PNX9Uj",
        "outputId": "9b9294b2-3a0e-4d4f-b77d-8f9fcd3fc00e"
      },
      "outputs": [
        {
          "data": {
            "text/latex": [
              "$$ |0\\rangle$$"
            ],
            "text/plain": [
              "<IPython.core.display.Latex object>"
            ]
          },
          "execution_count": 4,
          "metadata": {},
          "output_type": "execute_result"
        }
      ],
      "source": [
        "from qiskit.quantum_info.states.statevector import Statevector \n",
        "real = torch.tensor([1., 0.])\n",
        "imag = torch.tensor([0., 0.])\n",
        "a = torch.complex(real, imag)\n",
        "t_to_sv(a).draw(\"latex\")"
      ]
    },
    {
      "cell_type": "markdown",
      "metadata": {
        "id": "s-IMvQsIU7_m"
      },
      "source": [
        "Application of cost unitary:"
      ]
    },
    {
      "cell_type": "code",
      "execution_count": 5,
      "metadata": {
        "id": "JfHLHm46Urkz"
      },
      "outputs": [],
      "source": [
        "def cost(z, h, g_j):\n",
        "  hg = torch.complex(torch.tensor(0.), h * g_j)\n",
        "  hg_exp = torch.exp(hg)\n",
        "  z = hg_exp * z\n",
        "  return z"
      ]
    },
    {
      "cell_type": "markdown",
      "metadata": {
        "id": "gG5f2tIrVVLF"
      },
      "source": [
        "Application of mixing unitary:"
      ]
    },
    {
      "cell_type": "code",
      "execution_count": 6,
      "metadata": {
        "id": "eC4WJbwHVXr9"
      },
      "outputs": [],
      "source": [
        "def mix(z, g_j):\n",
        "  cg = torch.complex(torch.cos(g_j), torch.tensor(0.))\n",
        "  sg = torch.complex(torch.tensor(0.), torch.sin(g_j))\n",
        "\n",
        "  for i in range(n):\n",
        "    cz = cg * z\n",
        "\n",
        "    # swap indices\n",
        "    z = z.reshape((2,) * n)\n",
        "    z = z.transpose(0, i)\n",
        "    fh, sh = z.split(1)\n",
        "    z = torch.cat((sh, fh))\n",
        "    z = z.transpose(0, i)\n",
        "    z = z.reshape(N)\n",
        "\n",
        "    # reduce for iteration to continue\n",
        "    z = cz + sg * z\n",
        "  \n",
        "  return z\n",
        "\n"
      ]
    },
    {
      "attachments": {},
      "cell_type": "markdown",
      "metadata": {
        "id": "P7yyoNpZhtKe"
      },
      "source": [
        "E.g. we'd expect $\\ket{000} + \\ket{001}$ to be mixed to $\\ket{111} + \\ket{100}$ when using an angle $\\beta_j = \\frac{\\pi}{2}$"
      ]
    },
    {
      "cell_type": "code",
      "execution_count": 7,
      "metadata": {
        "id": "Lue7jOEuhsUG"
      },
      "outputs": [],
      "source": [
        "n = 3\n",
        "N = 2 ** n\n",
        "real = torch.zeros(size=(N,), dtype=torch.float32)\n",
        "imag = torch.zeros(size=(N,), dtype=torch.float32)\n",
        "\n",
        "# |000> + |001> \n",
        "real[0] = 1\n",
        "real[1] = 1\n",
        "y = torch.complex(real, imag)\n",
        "\n",
        "ry = mix(y, torch.tensor(torch.pi/2))"
      ]
    },
    {
      "cell_type": "code",
      "execution_count": 8,
      "metadata": {
        "colab": {
          "base_uri": "https://localhost:8080/",
          "height": 37
        },
        "id": "fU3Rb5UTgEHm",
        "outputId": "4c20a01c-435c-44f1-9c76-8f30a1d48150"
      },
      "outputs": [
        {
          "data": {
            "text/latex": [
              "$$ |000\\rangle+ |001\\rangle$$"
            ],
            "text/plain": [
              "<IPython.core.display.Latex object>"
            ]
          },
          "execution_count": 8,
          "metadata": {},
          "output_type": "execute_result"
        }
      ],
      "source": [
        "t_to_sv(y).draw(\"latex\")"
      ]
    },
    {
      "cell_type": "code",
      "execution_count": 9,
      "metadata": {
        "colab": {
          "base_uri": "https://localhost:8080/",
          "height": 39
        },
        "id": "N-_mMaW6giWZ",
        "outputId": "83281cd8-5406-4703-c39c-a32b5c9ad061"
      },
      "outputs": [
        {
          "data": {
            "text/latex": [
              "$$- i |110\\rangle- i |111\\rangle$$"
            ],
            "text/plain": [
              "<IPython.core.display.Latex object>"
            ]
          },
          "execution_count": 9,
          "metadata": {},
          "output_type": "execute_result"
        }
      ],
      "source": [
        "t_to_sv(ry).draw(\"latex\")"
      ]
    },
    {
      "cell_type": "markdown",
      "metadata": {
        "id": "fnAO3ePyMeac"
      },
      "source": [
        "Putting this all together:"
      ]
    },
    {
      "cell_type": "code",
      "execution_count": 10,
      "metadata": {
        "id": "te0QrRJOJz2G"
      },
      "outputs": [],
      "source": [
        "def qaoa(z, gamma, beta, p, h):\n",
        "\n",
        "  # Apply layers\n",
        "  for j in range(p):\n",
        "    z = cost(z, h, gamma[j])\n",
        "    z = mix(z, beta[j])\n",
        "  \n",
        "  return z\n",
        "\n",
        "def succ_prob(circuit, hS):\n",
        "  circuit = (circuit * circuit.conj()).real\n",
        "  return torch.dot(circuit, hS)"
      ]
    },
    {
      "cell_type": "code",
      "execution_count": 11,
      "metadata": {},
      "outputs": [],
      "source": [
        "from formula.cnf import CNF\n",
        "from formula.clause import Clause\n",
        "from formula.variable import Variable\n",
        "x0 = Variable(0, False) \n",
        "x1 = Variable(1, False) \n",
        "x2 = Variable(2, False) \n",
        "notx0 = Variable(0, True) \n",
        "notx1 = Variable(1, True) \n",
        "notx2 = Variable(2, True) \n",
        "\n",
        "c1 = Clause([x0, x1, x2])\n",
        "c2 = Clause([x0, x1, notx2])\n",
        "c3 = Clause([x0, notx1, x2])\n",
        "c4 = Clause([x0, notx1, notx2])\n",
        "c5 = Clause([notx0, x1, x2])\n",
        "c6 = Clause([notx0, x1, notx2])\n",
        "c7 = Clause([notx0, notx1, x2])\n",
        "\n",
        "cnf = CNF([c1, c2, c3, c4, c5, c6, c7])"
      ]
    },
    {
      "cell_type": "code",
      "execution_count": 25,
      "metadata": {
        "colab": {
          "base_uri": "https://localhost:8080/"
        },
        "id": "zbOcSQUUNCzC",
        "outputId": "e1792f28-3852-4d7c-976c-fbf08f4edb8e"
      },
      "outputs": [
        {
          "name": "stdout",
          "output_type": "stream",
          "text": [
            "Success probability: 0.1254493147134781\n",
            "Success probability: 0.7080141305923462\n",
            "Success probability: 0.9788187742233276\n",
            "Success probability: 0.9997613430023193\n",
            "Success probability: 0.9999926090240479\n",
            "Success probability: 0.9999998807907104\n",
            "Success probability: 1.0\n",
            "Success probability: 1.0\n",
            "Success probability: 0.9999996423721313\n",
            "Success probability: 0.9999995231628418\n"
          ]
        }
      ],
      "source": [
        "p = 3\n",
        "n = 3\n",
        "N = 2 ** n\n",
        "\n",
        "# Starting state\n",
        "coeff = 1 / (2 ** (n / 2))\n",
        "s = torch.full((N, ), coeff, dtype=torch.cfloat)\n",
        "\n",
        "# initial values\n",
        "gamma_i = torch.full(size=(p, ), fill_value=-0.01)\n",
        "beta_i = torch.full(size=(p, ), fill_value=0.01)\n",
        "\n",
        "# optimisable parameters\n",
        "gamma = torch.nn.Parameter(gamma_i)\n",
        "beta = torch.nn.Parameter(beta_i)\n",
        "\n",
        "# Optimisation\n",
        "epochs = 1000\n",
        "optimiser = torch.optim.Adam([gamma, beta], lr=0.01, maximize=True)\n",
        "\n",
        "for i in range(epochs):\n",
        "  optimiser.zero_grad()\n",
        "  z = qaoa(s, gamma, beta, p, cnf.naive_counts)\n",
        "  p_succ = succ_prob(z, cnf.naive_sats)\n",
        "  p_succ.backward()\n",
        "  optimiser.step()\n",
        "  if i % 100 == 0:\n",
        "    print(f'Success probability: {p_succ.item()}')"
      ]
    },
    {
      "cell_type": "markdown",
      "metadata": {
        "id": "JbMOTfVaV6iI"
      },
      "source": [
        "Check output state of circuit"
      ]
    },
    {
      "cell_type": "code",
      "execution_count": 26,
      "metadata": {
        "id": "udTnTTlwV56L"
      },
      "outputs": [],
      "source": [
        "gamma_f = gamma.detach().clone()\n",
        "beta_f = beta.detach().clone()\n",
        "\n",
        "output = qaoa(s, gamma_f, beta_f, p, cnf.naive_counts)"
      ]
    },
    {
      "cell_type": "code",
      "execution_count": 27,
      "metadata": {
        "colab": {
          "base_uri": "https://localhost:8080/",
          "height": 82
        },
        "id": "nxQAsOjuhMGD",
        "outputId": "831a1b11-c2f0-4f67-8331-969331e3c51d"
      },
      "outputs": [
        {
          "data": {
            "text/latex": [
              "$$(0.612527132034 + 0.790449380875 i) |111\\rangle$$"
            ],
            "text/plain": [
              "<IPython.core.display.Latex object>"
            ]
          },
          "execution_count": 27,
          "metadata": {},
          "output_type": "execute_result"
        }
      ],
      "source": [
        "t_to_sv(output).draw(\"latex\")"
      ]
    },
    {
      "cell_type": "code",
      "execution_count": 28,
      "metadata": {
        "colab": {
          "base_uri": "https://localhost:8080/"
        },
        "id": "O8x-7iqJFsal",
        "outputId": "4a40f1ad-ebe0-4867-9ac3-25f0b674df71"
      },
      "outputs": [
        {
          "data": {
            "text/plain": [
              "{'111': 1.0}"
            ]
          },
          "execution_count": 28,
          "metadata": {},
          "output_type": "execute_result"
        }
      ],
      "source": [
        "t_to_sv(output).probabilities_dict(decimals=3)"
      ]
    },
    {
      "cell_type": "code",
      "execution_count": 24,
      "metadata": {},
      "outputs": [],
      "source": [
        "#from torch.profiler import profile, ProfilerActivity\n",
        "#\n",
        "## Starting state\n",
        "#coeff = 1 / (2 ** (n / 2))\n",
        "#s = torch.full((N, ), coeff, dtype=torch.cfloat)\n",
        "#init_gamma = torch.full(size=(1, ), fill_value=-0.01)\n",
        "#init_beta = torch.full(size=(1, ), fill_value=0.01)\n",
        "#gamma = torch.nn.Parameter(init_gamma)\n",
        "#beta = torch.nn.Parameter(init_beta)\n",
        "#out = qaoa(s, gamma, beta, 1, cnf.naive_counts)\n",
        "#with profile(activities=[ProfilerActivity.CPU], record_shapes=True) as prof:\n",
        "#\tout = qaoa(s, gamma, beta, 1, cnf.naive_counts)\n",
        "#\tsucc_prob(out, cnf.naive_sats)\n",
        "#print(prof.key_averages(group_by_input_shape=True).table(sort_by=\"cpu_time_total\", row_limit=10))"
      ]
    }
  ],
  "metadata": {
    "colab": {
      "provenance": []
    },
    "kernelspec": {
      "display_name": "venv",
      "language": "python",
      "name": "python3"
    },
    "language_info": {
      "codemirror_mode": {
        "name": "ipython",
        "version": 3
      },
      "file_extension": ".py",
      "mimetype": "text/x-python",
      "name": "python",
      "nbconvert_exporter": "python",
      "pygments_lexer": "ipython3",
      "version": "3.8.10"
    },
    "vscode": {
      "interpreter": {
        "hash": "29f951cdabef12836e9083df8eafb20f1eb0d7cdacd07dedd12ec492edce1f03"
      }
    }
  },
  "nbformat": 4,
  "nbformat_minor": 0
}
