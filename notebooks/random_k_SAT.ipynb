{
 "cells": [
  {
   "cell_type": "code",
   "execution_count": 1,
   "metadata": {},
   "outputs": [],
   "source": [
    "import os\n",
    "import sys\n",
    "nb_dir = os.path.split(os.getcwd())[0]\n",
    "if nb_dir not in sys.path:\n",
    "    sys.path.append(nb_dir)"
   ]
  },
  {
   "attachments": {},
   "cell_type": "markdown",
   "metadata": {},
   "source": [
    "This notebook has been scripted for use in condor:\n",
    "* `conjob.cmd` + `counts.py` + `counts.sh` for unsat counts on existing cnfs \n",
    "* `conjob.cmd` + `counts_fresh.py` + `counts_fresh.sh` for generating new cngs with unsat counts"
   ]
  },
  {
   "attachments": {},
   "cell_type": "markdown",
   "metadata": {},
   "source": [
    "In this notebook we show an example of generating random SAT instances."
   ]
  },
  {
   "cell_type": "code",
   "execution_count": 2,
   "metadata": {},
   "outputs": [],
   "source": [
    "from benchmark.cnf.random_cnf import RandomCNF\n",
    "from benchmark.cnf.generator.ksat_generator import KSATGenerator\n",
    "from benchmark.cnf.generator.knaesat_generator import KNAESATGenerator\n",
    "\n",
    "# Random ksat from generator\n",
    "ksg = KSATGenerator()\n",
    "rp = RandomCNF(generator=ksg)\n",
    "rks = rp.from_poisson(n=12, k=3, satisfiable=False)"
   ]
  },
  {
   "cell_type": "code",
   "execution_count": 9,
   "metadata": {},
   "outputs": [],
   "source": [
    "# Random ksat \n",
    "rp = RandomCNF(type=\"ksat\")\n",
    "rks = rp.from_poisson(n=12, k=5, satisfiable=True)[0]"
   ]
  },
  {
   "cell_type": "code",
   "execution_count": 10,
   "metadata": {},
   "outputs": [
    {
     "name": "stdout",
     "output_type": "stream",
     "text": [
      "Unsatisfiable formula generated, trying again\n",
      "Unsatisfiable formula generated, trying again\n",
      "Unsatisfiable formula generated, trying again\n"
     ]
    }
   ],
   "source": [
    "# Random knaesat\n",
    "rp = RandomCNF(type='knaesat')\n",
    "rkns = rp.from_poisson(n=12, k=3, satisfiable=True)[0]"
   ]
  },
  {
   "cell_type": "code",
   "execution_count": 24,
   "metadata": {},
   "outputs": [
    {
     "name": "stdout",
     "output_type": "stream",
     "text": [
      "(¬x7 ∨ x8 ∨ x10)\n"
     ]
    },
    {
     "data": {
      "text/plain": [
       "False"
      ]
     },
     "execution_count": 24,
     "metadata": {},
     "output_type": "execute_result"
    }
   ],
   "source": [
    "c = rkns.clauses[0]\n",
    "print(c)\n",
    "c.is_satisfied('111111101111')"
   ]
  }
 ],
 "metadata": {
  "kernelspec": {
   "display_name": "venv",
   "language": "python",
   "name": "python3"
  },
  "language_info": {
   "codemirror_mode": {
    "name": "ipython",
    "version": 3
   },
   "file_extension": ".py",
   "mimetype": "text/x-python",
   "name": "python",
   "nbconvert_exporter": "python",
   "pygments_lexer": "ipython3",
   "version": "3.8.10"
  },
  "orig_nbformat": 4,
  "vscode": {
   "interpreter": {
    "hash": "29f951cdabef12836e9083df8eafb20f1eb0d7cdacd07dedd12ec492edce1f03"
   }
  }
 },
 "nbformat": 4,
 "nbformat_minor": 2
}
