{
 "cells": [
  {
   "cell_type": "code",
   "execution_count": 3,
   "metadata": {},
   "outputs": [],
   "source": [
    "import os\n",
    "import sys\n",
    "nb_dir = os.path.split(os.getcwd())[0]\n",
    "if nb_dir not in sys.path:\n",
    "    sys.path.append(nb_dir)"
   ]
  },
  {
   "attachments": {},
   "cell_type": "markdown",
   "metadata": {},
   "source": [
    "This notebook has been scripted for use in condor:\n",
    "* `conjob.cmd` + `counts.py` + `counts.sh` for unsat counts on existing cnfs \n",
    "* `conjob.cmd` + `counts_fresh.py` + `counts_fresh.sh` for generating new cngs with unsat counts"
   ]
  },
  {
   "attachments": {},
   "cell_type": "markdown",
   "metadata": {},
   "source": [
    "In this notebook we show an example of generating random SAT instances."
   ]
  },
  {
   "cell_type": "code",
   "execution_count": 4,
   "metadata": {},
   "outputs": [],
   "source": [
    "from benchmark.cnf.random_cnf import RandomCNF\n",
    "from benchmark.cnf.generator.ksat_generator import KSATGenerator\n",
    "\n",
    "# Random ksat from generator\n",
    "ksg = KSATGenerator()\n",
    "rp = RandomCNF(generator=ksg)\n",
    "rks = rp.from_poisson(n=12, k=3, satisfiable=False)"
   ]
  },
  {
   "cell_type": "code",
   "execution_count": 5,
   "metadata": {},
   "outputs": [
    {
     "name": "stdout",
     "output_type": "stream",
     "text": [
      "Unsatisfiable formula generated, trying again\n"
     ]
    }
   ],
   "source": [
    "# Random knaesat\n",
    "rp = RandomCNF(type='knaesat')\n",
    "rkns = rp.from_poisson(n=12, k=5, satisfiable=True)[0]"
   ]
  },
  {
   "cell_type": "code",
   "execution_count": 6,
   "metadata": {},
   "outputs": [
    {
     "name": "stdout",
     "output_type": "stream",
     "text": [
      "Unsatisfiable formula generated, trying again\n"
     ]
    }
   ],
   "source": [
    "# Random ksat \n",
    "rp = RandomCNF(type=\"ksat\")\n",
    "rks = rp.from_poisson(n=12, k=5, satisfiable=True)[0]"
   ]
  },
  {
   "cell_type": "code",
   "execution_count": 7,
   "metadata": {},
   "outputs": [
    {
     "data": {
      "text/plain": [
       "True"
      ]
     },
     "execution_count": 7,
     "metadata": {},
     "output_type": "execute_result"
    }
   ],
   "source": [
    "from k_sat.walkSATlm.wslm_solver import WSlmSolver\n",
    "\n",
    "wslm = WSlmSolver()\n",
    "ass, t = wslm.sat(rkns, 100)\n",
    "rkns.is_satisfied(ass)"
   ]
  },
  {
   "cell_type": "code",
   "execution_count": 8,
   "metadata": {},
   "outputs": [],
   "source": [
    "from formula.cnf.cnf import CNF\n",
    "from formula.cnf.disjunctive_clause import DisjunctiveClause\n",
    "from formula.variable import Variable\n",
    "\n",
    "x0 = Variable(0, False)\n",
    "x1 = Variable(1, False) \n",
    "x2 = Variable(2, False) \n",
    "\n",
    "n_x0 = Variable(0, True)\n",
    "n_x1 = Variable(1, True) \n",
    "n_x2 = Variable(2, True) \n",
    "\n",
    "c1 = DisjunctiveClause([x0, x1, n_x2])\n",
    "c2 = DisjunctiveClause([n_x0, x1])\n",
    "c3 = DisjunctiveClause([x0, n_x1, x2])\n",
    "\n",
    "f = CNF([c1, c2, c3])"
   ]
  },
  {
   "cell_type": "code",
   "execution_count": 9,
   "metadata": {},
   "outputs": [
    {
     "data": {
      "text/plain": [
       "(x0 ∨ x1 ∨ ¬x2)∧\n",
       "(¬x0 ∨ x1)∧\n",
       "(x0 ∨ ¬x1 ∨ x2)"
      ]
     },
     "execution_count": 9,
     "metadata": {},
     "output_type": "execute_result"
    }
   ],
   "source": [
    "f"
   ]
  },
  {
   "cell_type": "code",
   "execution_count": 10,
   "metadata": {},
   "outputs": [
    {
     "data": {
      "text/plain": [
       "False"
      ]
     },
     "execution_count": 10,
     "metadata": {},
     "output_type": "execute_result"
    }
   ],
   "source": [
    "f.is_satisfied(\"101\")"
   ]
  },
  {
   "cell_type": "code",
   "execution_count": 11,
   "metadata": {},
   "outputs": [
    {
     "data": {
      "text/plain": [
       "(4.0, 0)"
      ]
     },
     "execution_count": 11,
     "metadata": {},
     "output_type": "execute_result"
    }
   ],
   "source": [
    "wslm = WSlmSolver(breaks={1 : -10, 2 : -1})\n",
    "wslm.score(f, 0, \"111\")"
   ]
  }
 ],
 "metadata": {
  "kernelspec": {
   "display_name": "venv",
   "language": "python",
   "name": "python3"
  },
  "language_info": {
   "codemirror_mode": {
    "name": "ipython",
    "version": 3
   },
   "file_extension": ".py",
   "mimetype": "text/x-python",
   "name": "python",
   "nbconvert_exporter": "python",
   "pygments_lexer": "ipython3",
   "version": "3.8.10 (default, Nov 14 2022, 12:59:47) \n[GCC 9.4.0]"
  },
  "orig_nbformat": 4,
  "vscode": {
   "interpreter": {
    "hash": "29f951cdabef12836e9083df8eafb20f1eb0d7cdacd07dedd12ec492edce1f03"
   }
  }
 },
 "nbformat": 4,
 "nbformat_minor": 2
}
