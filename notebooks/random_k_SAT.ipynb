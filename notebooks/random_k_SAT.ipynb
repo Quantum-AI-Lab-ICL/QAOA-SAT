{
 "cells": [
  {
   "cell_type": "code",
   "execution_count": 3,
   "metadata": {},
   "outputs": [],
   "source": [
    "import os\n",
    "import sys\n",
    "nb_dir = os.path.split(os.getcwd())[0]\n",
    "if nb_dir not in sys.path:\n",
    "    sys.path.append(nb_dir)"
   ]
  },
  {
   "attachments": {},
   "cell_type": "markdown",
   "metadata": {},
   "source": [
    "This notebook has been scripted for use in condor:\n",
    "* `conjob.cmd` + `counts.py` + `counts.sh` for unsat counts on existing cnfs \n",
    "* `conjob.cmd` + `counts_fresh.py` + `counts_fresh.sh` for generating new cngs with unsat counts"
   ]
  },
  {
   "attachments": {},
   "cell_type": "markdown",
   "metadata": {},
   "source": [
    "In this notebook we show an example of generating random SAT instances."
   ]
  },
  {
   "cell_type": "code",
   "execution_count": 7,
   "metadata": {},
   "outputs": [],
   "source": [
    "from benchmark.random_problem import RandomProblem\n",
    "from benchmark.generator.ksat_generator import KSATGenerator\n",
    "from benchmark.generator.knaesat_generator import KNAESATGenerator\n",
    "\n",
    "# Random ksat from generator\n",
    "ksg = KSATGenerator()\n",
    "rp = RandomProblem(generator=ksg)\n",
    "rks = rp.from_poisson(n=12, k=3, satisfiable=False)"
   ]
  },
  {
   "cell_type": "code",
   "execution_count": 9,
   "metadata": {},
   "outputs": [
    {
     "name": "stdout",
     "output_type": "stream",
     "text": [
      "Unsatisfiable formula generated, trying again\n"
     ]
    }
   ],
   "source": [
    "# Random ksat \n",
    "rp = RandomProblem(type=\"ksat\")\n",
    "rks = rp.from_poisson(n=12, k=5, satisfiable=True)"
   ]
  },
  {
   "cell_type": "code",
   "execution_count": 10,
   "metadata": {},
   "outputs": [
    {
     "name": "stdout",
     "output_type": "stream",
     "text": [
      "Unsatisfiable formula generated, trying again\n",
      "Unsatisfiable formula generated, trying again\n"
     ]
    }
   ],
   "source": [
    "# Random knaesat\n",
    "rp = RandomProblem(type='knaesat')\n",
    "rkns = rp.from_poisson(n=12, k=3, satisfiable=True)"
   ]
  }
 ],
 "metadata": {
  "kernelspec": {
   "display_name": "venv",
   "language": "python",
   "name": "python3"
  },
  "language_info": {
   "codemirror_mode": {
    "name": "ipython",
    "version": 3
   },
   "file_extension": ".py",
   "mimetype": "text/x-python",
   "name": "python",
   "nbconvert_exporter": "python",
   "pygments_lexer": "ipython3",
   "version": "3.8.10"
  },
  "orig_nbformat": 4,
  "vscode": {
   "interpreter": {
    "hash": "29f951cdabef12836e9083df8eafb20f1eb0d7cdacd07dedd12ec492edce1f03"
   }
  }
 },
 "nbformat": 4,
 "nbformat_minor": 2
}
