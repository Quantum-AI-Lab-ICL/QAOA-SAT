{
 "cells": [
  {
   "cell_type": "code",
   "execution_count": 2,
   "metadata": {},
   "outputs": [],
   "source": [
    "import os\n",
    "import sys\n",
    "nb_dir = os.path.split(os.getcwd())[0]\n",
    "if nb_dir not in sys.path:\n",
    "    sys.path.append(nb_dir)"
   ]
  },
  {
   "attachments": {},
   "cell_type": "markdown",
   "metadata": {},
   "source": [
    "In this notebook we generate and store random $k$-SAT instances for the experiments that we will be running.\n",
    "\n",
    "Namely, for $n \\in \\{12, \\dots, 20\\}$ we generate $\\{\\underline{\\sigma}\\}_{i = 0}^{\\nu - 1}, \\underline{\\sigma}_i \\sim CNF(n, k, r)$ where $k = 8$ and $r = r_k$ an approximation of the satisfiability threshold."
   ]
  },
  {
   "cell_type": "code",
   "execution_count": null,
   "metadata": {},
   "outputs": [],
   "source": [
    "from benchmark.random_k_sat import RandomKSAT\n",
    "\n",
    "k = 8\n",
    "ns = [i for i in range(12, 21)]\n",
    "v = 1000\n",
    "\n",
    "# Generate\n",
    "for n in ns:\n",
    "\tinstances = RandomKSAT.from_poisson(n, k, instances=v, satisfiable=True)\n",
    "\n",
    "\t# Use correct directory\n",
    "\tparent_dir = os.path.dirname(os.getcwd())\n",
    "\tdir = f\"{parent_dir}/benchmark/instances/n_{n}\"\n",
    "\n",
    "\t# Write to files\n",
    "\tfor i, formula in enumerate(instances.formulas):\n",
    "\n",
    "\t\tcnf_filename = f\"{dir}/f_n{n}_k{k}_{i + 1100}.cnf\"\n",
    "\t\tformula.to_file(cnf_filename)"
   ]
  },
  {
   "cell_type": "code",
   "execution_count": 6,
   "metadata": {},
   "outputs": [],
   "source": [
    "from benchmark.random_k_sat import RandomKSAT\n",
    "\n",
    "n12 = RandomKSAT.from_poisson(n=12, k=8, from_file=True).formulas[0]\n",
    "n14 = RandomKSAT.from_poisson(n=14, k=8, from_file=True).formulas[0]"
   ]
  },
  {
   "attachments": {},
   "cell_type": "markdown",
   "metadata": {},
   "source": [
    "Calculating unsat counts:"
   ]
  },
  {
   "cell_type": "code",
   "execution_count": null,
   "metadata": {},
   "outputs": [],
   "source": [
    "from multiprocessing.pool import Pool\n",
    "import h5py \n",
    "\n",
    "from formula.cnf import CNF\n",
    "\n",
    "k = 8\n",
    "ns = [i for i in range(13, 21)]\n",
    "v = 1100\n",
    "\n",
    "def calc_and_write(fn: str):\n",
    "\tcnf = CNF.from_file(f'{fn}.cnf')\n",
    "\tcounts = cnf.naive_counts\n",
    "\twith h5py.File(f'{fn}.hdf5', 'w') as file:\n",
    "\t\tfile.create_dataset('counts', data=counts)\n",
    "\n",
    "for n in ns:\n",
    "\tparent_dir = os.path.dirname(os.getcwd())\n",
    "\tdir = f\"{parent_dir}/benchmark/instances/n_{n}\"\n",
    "\tcnf_filenames = [f\"{dir}/f_n{n}_k{k}_{i}\" for i in range(v)]\n",
    "\n",
    "\twith Pool(processes=4) as pool:\n",
    "\t\tpool.map(calc_and_write, cnf_filenames)"
   ]
  }
 ],
 "metadata": {
  "kernelspec": {
   "display_name": "venv",
   "language": "python",
   "name": "python3"
  },
  "language_info": {
   "codemirror_mode": {
    "name": "ipython",
    "version": 3
   },
   "file_extension": ".py",
   "mimetype": "text/x-python",
   "name": "python",
   "nbconvert_exporter": "python",
   "pygments_lexer": "ipython3",
   "version": "3.8.10"
  },
  "orig_nbformat": 4,
  "vscode": {
   "interpreter": {
    "hash": "29f951cdabef12836e9083df8eafb20f1eb0d7cdacd07dedd12ec492edce1f03"
   }
  }
 },
 "nbformat": 4,
 "nbformat_minor": 2
}
