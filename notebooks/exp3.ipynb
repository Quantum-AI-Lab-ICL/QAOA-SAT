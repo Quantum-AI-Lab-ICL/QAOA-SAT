{
 "cells": [
  {
   "cell_type": "code",
   "execution_count": 5,
   "metadata": {},
   "outputs": [],
   "source": [
    "import os\n",
    "import sys\n",
    "nb_dir = os.path.split(os.getcwd())[0]\n",
    "if nb_dir not in sys.path:\n",
    "    sys.path.append(nb_dir)"
   ]
  },
  {
   "attachments": {},
   "cell_type": "markdown",
   "metadata": {},
   "source": [
    "We calculate the satisfiability threshold for different values of $r$ (arXiv:2011.14270)\n",
    "\n",
    "$$a_{sat} = \\left( 2^{k-1} - \\frac{1}{2} - \\frac{1}{4\\log 2}\\right)\\log 2 + o_k(1)$$"
   ]
  },
  {
   "cell_type": "code",
   "execution_count": 6,
   "metadata": {},
   "outputs": [
    {
     "data": {
      "text/plain": [
       "{3: 2.18,\n",
       " 4: 4.95,\n",
       " 5: 10.49,\n",
       " 6: 21.58,\n",
       " 7: 43.76,\n",
       " 8: 88.13,\n",
       " 9: 176.85,\n",
       " 10: 354.29,\n",
       " 11: 709.19,\n",
       " 12: 1418.97,\n",
       " 13: 2838.53,\n",
       " 14: 5677.67,\n",
       " 15: 11355.93,\n",
       " 16: 22712.45}"
      ]
     },
     "execution_count": 6,
     "metadata": {},
     "output_type": "execute_result"
    }
   ],
   "source": [
    "from math import log\n",
    "def alpha_sat(k):\n",
    "\treturn (2 ** (k - 1) - 0.5 - 1/(4 * log(2))) * log(2)\n",
    "\n",
    "nae_sat_ratios = { k : round(alpha_sat(k), 2) for k in range(3,17)}\n",
    "nae_sat_ratios"
   ]
  },
  {
   "attachments": {},
   "cell_type": "markdown",
   "metadata": {},
   "source": [
    "Recall, $x$ satisfies a $k$-NAE-SAT instance iff $x$ satisfies the instance in the $k$-SAT formulation, and, for each clause, the literals within the clause are not all assigned the same truth value.\n",
    "\n",
    "This means if $x$ satisfies a $k$-NAE-SAT instance then there is no clause where every literal has been set to true (and no clause where every literal has been set to false since the clause wouldn't be satisfied)...\n",
    "\n",
    "I.e. $x$ satisfies a k-NAE-SAT instance iff $x$ and $\\neg x$ satisfy the same instance in the k-SAT formulation. \n",
    "\n",
    "As such, we create a new `nae_cnf.py` to encode this and use the same pytorch solver as before."
   ]
  },
  {
   "cell_type": "code",
   "execution_count": 26,
   "metadata": {},
   "outputs": [
    {
     "name": "stdout",
     "output_type": "stream",
     "text": [
      "Unsatisfiable formula generated, trying again\n"
     ]
    },
    {
     "data": {
      "text/plain": [
       "(¬x5 ∨ ¬x0 ∨ x1)∧\n",
       "(¬x3 ∨ ¬x10 ∨ ¬x4)∧\n",
       "(x0 ∨ x9 ∨ ¬x3)∧\n",
       "(¬x5 ∨ x11)∧\n",
       "(¬x10 ∨ ¬x0)∧\n",
       "(x4 ∨ ¬x6 ∨ ¬x4)∧\n",
       "(x10 ∨ ¬x3 ∨ x1)∧\n",
       "(x10 ∨ ¬x10 ∨ ¬x2)∧\n",
       "(¬x0 ∨ ¬x4 ∨ ¬x6)∧\n",
       "(x2 ∨ x5 ∨ x11)∧\n",
       "(x7 ∨ ¬x5 ∨ ¬x7)∧\n",
       "(x10 ∨ ¬x8 ∨ ¬x6)∧\n",
       "(x2 ∨ x7 ∨ x10)∧\n",
       "(x2 ∨ x7)∧\n",
       "(x4 ∨ x0 ∨ x2)∧\n",
       "(¬x0 ∨ x1 ∨ ¬x11)∧\n",
       "(¬x7 ∨ ¬x2 ∨ x2)∧\n",
       "(¬x1 ∨ ¬x2 ∨ x6)∧\n",
       "(x3 ∨ x7 ∨ x11)∧\n",
       "(x10 ∨ ¬x8 ∨ x2)"
      ]
     },
     "execution_count": 26,
     "metadata": {},
     "output_type": "execute_result"
    }
   ],
   "source": [
    "from benchmark.random_problem import RandomProblem\n",
    "\n",
    "rp = RandomProblem(type='knaesat')\n",
    "rp.generator.empty_formula()\n",
    "\n",
    "f = rp.from_poisson(n=12, k=3, satisfiable=True)[0]\n",
    "f"
   ]
  }
 ],
 "metadata": {
  "kernelspec": {
   "display_name": "venv",
   "language": "python",
   "name": "python3"
  },
  "language_info": {
   "codemirror_mode": {
    "name": "ipython",
    "version": 3
   },
   "file_extension": ".py",
   "mimetype": "text/x-python",
   "name": "python",
   "nbconvert_exporter": "python",
   "pygments_lexer": "ipython3",
   "version": "3.8.10"
  },
  "orig_nbformat": 4,
  "vscode": {
   "interpreter": {
    "hash": "29f951cdabef12836e9083df8eafb20f1eb0d7cdacd07dedd12ec492edce1f03"
   }
  }
 },
 "nbformat": 4,
 "nbformat_minor": 2
}
