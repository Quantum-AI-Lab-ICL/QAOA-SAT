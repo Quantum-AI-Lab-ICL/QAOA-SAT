{
 "cells": [
  {
   "cell_type": "code",
   "execution_count": 1,
   "metadata": {},
   "outputs": [],
   "source": [
    "import os\n",
    "import sys\n",
    "nb_dir = os.path.split(os.getcwd())[0]\n",
    "if nb_dir not in sys.path:\n",
    "    sys.path.append(nb_dir)"
   ]
  },
  {
   "cell_type": "code",
   "execution_count": 2,
   "metadata": {},
   "outputs": [],
   "source": [
    "from benchmark.random_problem import RandomProblem\n",
    "\n",
    "# Read in 100 randomly generated CNF(12, 4, r_4) instances\n",
    "num_instances = 100\n",
    "n = 12\n",
    "k = 4\n",
    "ps = [4, 8, 16]\n",
    "\n",
    "rp = RandomProblem(type='ksat')\n",
    "instances = rp.from_poisson(n=n, k=k, instances=num_instances, from_file=0, calc_naive=True)"
   ]
  },
  {
   "cell_type": "code",
   "execution_count": 3,
   "metadata": {},
   "outputs": [
    {
     "name": "stdout",
     "output_type": "stream",
     "text": [
      "Training for p = 4\n",
      "Epoch 0, p_succ: 0.0010931991273537278\n",
      "Epoch 10, p_succ: 0.1500437706708908\n",
      "Epoch 20, p_succ: 0.1633884757757187\n",
      "Epoch 30, p_succ: 0.16702686250209808\n",
      "Epoch 40, p_succ: 0.16732850670814514\n",
      "Epoch 50, p_succ: 0.1680927723646164\n",
      "Epoch 60, p_succ: 0.16813427209854126\n",
      "Training for p = 8\n",
      "Epoch 0, p_succ: 0.0012440548744052649\n",
      "Epoch 10, p_succ: 0.3499329090118408\n",
      "Epoch 20, p_succ: 0.36637580394744873\n",
      "Epoch 30, p_succ: 0.3727189004421234\n",
      "Epoch 40, p_succ: 0.3786788880825043\n",
      "Epoch 50, p_succ: 0.38084280490875244\n",
      "Epoch 60, p_succ: 0.3818281590938568\n",
      "Epoch 70, p_succ: 0.3821461796760559\n",
      "Epoch 80, p_succ: 0.3822503983974457\n",
      "Training for p = 16\n",
      "Epoch 0, p_succ: 0.0019072904251515865\n",
      "Epoch 10, p_succ: 0.556391179561615\n",
      "Epoch 20, p_succ: 0.6051459312438965\n",
      "Epoch 30, p_succ: 0.6316158771514893\n",
      "Epoch 40, p_succ: 0.6377452611923218\n",
      "Epoch 50, p_succ: 0.6419916749000549\n",
      "Epoch 60, p_succ: 0.6431066989898682\n",
      "Epoch 70, p_succ: 0.6433513760566711\n",
      "Epoch 80, p_succ: 0.643475353717804\n"
     ]
    }
   ],
   "source": [
    "import torch\n",
    "import h5py\n",
    "from k_sat.pytorch_solver.pytorch_circuit import PytorchCircuit\n",
    "from k_sat.pytorch_solver.pytorch_optimiser import PytorchOptimiser\n",
    "\n",
    "optimal_params = {}\n",
    "\n",
    "for p in ps:\n",
    "\tprint(f'Training for p = {p}')\n",
    "\tcircuit = PytorchCircuit(num_vars=n, layers=p)\n",
    "\tadam = torch.optim.Adam(circuit.parameters(), lr=0.1, maximize=True)\n",
    "\tepochs = 60 if p < 5 else 80\n",
    "\toptimiser = PytorchOptimiser(circuit, adam, epochs=epochs)\n",
    "\toptimiser.find_optimal_params(instances.formulas)\n",
    "\t# Save to file\n",
    "\tparent_dir = os.path.dirname(os.getcwd())\n",
    "\tdir = f\"{parent_dir}/benchmark/instances/n_{n}\"\n",
    "\twith h5py.File(f'{dir}/a_params_{p}.hdf5', 'w') as file:\n",
    "\t\tfile.create_dataset(f'gamma', data=circuit.gamma.detach().clone())\n",
    "\t\tfile.create_dataset(f'beta', data=circuit.beta.detach().clone())"
   ]
  }
 ],
 "metadata": {
  "kernelspec": {
   "display_name": "venv",
   "language": "python",
   "name": "python3"
  },
  "language_info": {
   "codemirror_mode": {
    "name": "ipython",
    "version": 3
   },
   "file_extension": ".py",
   "mimetype": "text/x-python",
   "name": "python",
   "nbconvert_exporter": "python",
   "pygments_lexer": "ipython3",
   "version": "3.8.10 (default, Nov 14 2022, 12:59:47) \n[GCC 9.4.0]"
  },
  "orig_nbformat": 4,
  "vscode": {
   "interpreter": {
    "hash": "29f951cdabef12836e9083df8eafb20f1eb0d7cdacd07dedd12ec492edce1f03"
   }
  }
 },
 "nbformat": 4,
 "nbformat_minor": 2
}
