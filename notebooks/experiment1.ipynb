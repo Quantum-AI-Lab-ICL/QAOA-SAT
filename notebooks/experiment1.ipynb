{
 "cells": [
  {
   "cell_type": "code",
   "execution_count": 1,
   "metadata": {},
   "outputs": [],
   "source": [
    "import os\n",
    "import sys\n",
    "nb_dir = os.path.split(os.getcwd())[0]\n",
    "if nb_dir not in sys.path:\n",
    "    sys.path.append(nb_dir)"
   ]
  },
  {
   "attachments": {},
   "cell_type": "markdown",
   "metadata": {},
   "source": [
    "We follow the procedure outlined in 3.1.2.1 (Experiment 1)"
   ]
  },
  {
   "attachments": {},
   "cell_type": "markdown",
   "metadata": {},
   "source": [
    "Step 1: Generation of $\\underline{\\beta}, \\underline{\\gamma} \\in \\mathbb{R}^p$"
   ]
  },
  {
   "cell_type": "code",
   "execution_count": 2,
   "metadata": {},
   "outputs": [],
   "source": [
    "from formula.cnf import CNF\n",
    "\n",
    "# Read in 100 randomly generated CNF(12, 8, r_8) instances\n",
    "num_instances = 100\n",
    "n = 12\n",
    "k = 8\n",
    "\n",
    "instances = [] \n",
    "\n",
    "for i in range(num_instances):\n",
    "\n",
    "\t# Use correct directory\n",
    "\tparent_dir = os.path.dirname(os.getcwd())\n",
    "\tdir = f\"{parent_dir}/benchmark/instances/n_{n}\"\n",
    "\tcnf_filename = f\"{dir}/f_n{n}_k{k}_{i}.cnf\"\n",
    "\n",
    "\tinstances.append(CNF.from_file(cnf_filename))"
   ]
  },
  {
   "cell_type": "code",
   "execution_count": 3,
   "metadata": {},
   "outputs": [
    {
     "data": {
      "text/plain": [
       "tensor(2.)"
      ]
     },
     "execution_count": 3,
     "metadata": {},
     "output_type": "execute_result"
    }
   ],
   "source": [
    "import torch\n",
    "f = instances[3]\n",
    "torch.sum(f.naive_sats)"
   ]
  },
  {
   "cell_type": "code",
   "execution_count": 6,
   "metadata": {},
   "outputs": [
    {
     "name": "stdout",
     "output_type": "stream",
     "text": [
      "Initialising network\n",
      "Finding optimal params\n",
      "Success probability: 0.0005169192445464432\n",
      "Success probability: 0.025851774960756302\n",
      "Success probability: 0.026220351457595825\n",
      "Success probability: 0.026222314685583115\n",
      "Success probability: 0.0262223519384861\n"
     ]
    },
    {
     "data": {
      "text/plain": [
       "('000101010101', 4)"
      ]
     },
     "execution_count": 6,
     "metadata": {},
     "output_type": "execute_result"
    }
   ],
   "source": [
    "from k_sat.pytorch_solver.pytorch_solver import PytorchSolver\n",
    "\n",
    "ps = PytorchSolver(layers=3)\n",
    "ps.sat(f, timeout=200)"
   ]
  },
  {
   "cell_type": "code",
   "execution_count": 5,
   "metadata": {},
   "outputs": [
    {
     "ename": "KeyboardInterrupt",
     "evalue": "",
     "output_type": "error",
     "traceback": [
      "\u001b[0;31m---------------------------------------------------------------------------\u001b[0m",
      "\u001b[0;31mKeyboardInterrupt\u001b[0m                         Traceback (most recent call last)",
      "Cell \u001b[0;32mIn [5], line 10\u001b[0m\n\u001b[1;32m      8\u001b[0m circuit \u001b[39m=\u001b[39m PytorchCircuit(num_vars\u001b[39m=\u001b[39mn, layers\u001b[39m=\u001b[39mp)\n\u001b[1;32m      9\u001b[0m optimiser \u001b[39m=\u001b[39m PytorchOptimiser(circuit)\n\u001b[0;32m---> 10\u001b[0m optimal_params[p] \u001b[39m=\u001b[39m optimiser\u001b[39m.\u001b[39;49mfind_optimal_params(instances)\n",
      "File \u001b[0;32m~/Documents/QAOA-SAT/k_sat/pytorch_solver/pytorch_optimiser.py:25\u001b[0m, in \u001b[0;36mPytorchOptimiser.find_optimal_params\u001b[0;34m(self, formulas)\u001b[0m\n\u001b[1;32m     21\u001b[0m \u001b[39mdef\u001b[39;00m \u001b[39mfind_optimal_params\u001b[39m(\u001b[39mself\u001b[39m, formulas: List[Formula]) \u001b[39m-\u001b[39m\u001b[39m>\u001b[39m \u001b[39mNone\u001b[39;00m:\n\u001b[1;32m     22\u001b[0m \n\u001b[1;32m     23\u001b[0m \t\u001b[39m# TODO: parallelise this!\u001b[39;00m\n\u001b[1;32m     24\u001b[0m \t\u001b[39m# extract clause counts \u001b[39;00m\n\u001b[0;32m---> 25\u001b[0m \tcounts \u001b[39m=\u001b[39m [(f\u001b[39m.\u001b[39mnaive_counts, f\u001b[39m.\u001b[39mnaive_sats) \u001b[39mfor\u001b[39;00m f \u001b[39min\u001b[39;00m formulas]\n\u001b[1;32m     27\u001b[0m \t\u001b[39m# optimise\u001b[39;00m\n\u001b[1;32m     28\u001b[0m \t\u001b[39mfor\u001b[39;00m i \u001b[39min\u001b[39;00m \u001b[39mrange\u001b[39m(\u001b[39mself\u001b[39m\u001b[39m.\u001b[39mepochs):\n",
      "File \u001b[0;32m~/Documents/QAOA-SAT/k_sat/pytorch_solver/pytorch_optimiser.py:25\u001b[0m, in \u001b[0;36m<listcomp>\u001b[0;34m(.0)\u001b[0m\n\u001b[1;32m     21\u001b[0m \u001b[39mdef\u001b[39;00m \u001b[39mfind_optimal_params\u001b[39m(\u001b[39mself\u001b[39m, formulas: List[Formula]) \u001b[39m-\u001b[39m\u001b[39m>\u001b[39m \u001b[39mNone\u001b[39;00m:\n\u001b[1;32m     22\u001b[0m \n\u001b[1;32m     23\u001b[0m \t\u001b[39m# TODO: parallelise this!\u001b[39;00m\n\u001b[1;32m     24\u001b[0m \t\u001b[39m# extract clause counts \u001b[39;00m\n\u001b[0;32m---> 25\u001b[0m \tcounts \u001b[39m=\u001b[39m [(f\u001b[39m.\u001b[39;49mnaive_counts, f\u001b[39m.\u001b[39mnaive_sats) \u001b[39mfor\u001b[39;00m f \u001b[39min\u001b[39;00m formulas]\n\u001b[1;32m     27\u001b[0m \t\u001b[39m# optimise\u001b[39;00m\n\u001b[1;32m     28\u001b[0m \t\u001b[39mfor\u001b[39;00m i \u001b[39min\u001b[39;00m \u001b[39mrange\u001b[39m(\u001b[39mself\u001b[39m\u001b[39m.\u001b[39mepochs):\n",
      "File \u001b[0;32m~/Documents/QAOA-SAT/formula/cnf.py:174\u001b[0m, in \u001b[0;36mCNF.naive_counts\u001b[0;34m(self)\u001b[0m\n\u001b[1;32m    172\u001b[0m     n \u001b[39m=\u001b[39m \u001b[39mself\u001b[39m\u001b[39m.\u001b[39mnum_vars\n\u001b[1;32m    173\u001b[0m     N \u001b[39m=\u001b[39m \u001b[39m2\u001b[39m \u001b[39m*\u001b[39m\u001b[39m*\u001b[39m n\n\u001b[0;32m--> 174\u001b[0m     \u001b[39mself\u001b[39m\u001b[39m.\u001b[39mcounts \u001b[39m=\u001b[39m torch\u001b[39m.\u001b[39mtensor([\u001b[39mself\u001b[39m\u001b[39m.\u001b[39massignment_weight(\u001b[39mbin\u001b[39m(i)[\u001b[39m2\u001b[39m:]\u001b[39m.\u001b[39mzfill(n)) \u001b[39mfor\u001b[39;00m i \u001b[39min\u001b[39;00m \u001b[39mrange\u001b[39m(N)], dtype\u001b[39m=\u001b[39mtorch\u001b[39m.\u001b[39mfloat32)\n\u001b[1;32m    175\u001b[0m \u001b[39mreturn\u001b[39;00m \u001b[39mself\u001b[39m\u001b[39m.\u001b[39mcounts\n",
      "File \u001b[0;32m~/Documents/QAOA-SAT/formula/cnf.py:174\u001b[0m, in \u001b[0;36m<listcomp>\u001b[0;34m(.0)\u001b[0m\n\u001b[1;32m    172\u001b[0m     n \u001b[39m=\u001b[39m \u001b[39mself\u001b[39m\u001b[39m.\u001b[39mnum_vars\n\u001b[1;32m    173\u001b[0m     N \u001b[39m=\u001b[39m \u001b[39m2\u001b[39m \u001b[39m*\u001b[39m\u001b[39m*\u001b[39m n\n\u001b[0;32m--> 174\u001b[0m     \u001b[39mself\u001b[39m\u001b[39m.\u001b[39mcounts \u001b[39m=\u001b[39m torch\u001b[39m.\u001b[39mtensor([\u001b[39mself\u001b[39;49m\u001b[39m.\u001b[39;49massignment_weight(\u001b[39mbin\u001b[39;49m(i)[\u001b[39m2\u001b[39;49m:]\u001b[39m.\u001b[39;49mzfill(n)) \u001b[39mfor\u001b[39;00m i \u001b[39min\u001b[39;00m \u001b[39mrange\u001b[39m(N)], dtype\u001b[39m=\u001b[39mtorch\u001b[39m.\u001b[39mfloat32)\n\u001b[1;32m    175\u001b[0m \u001b[39mreturn\u001b[39;00m \u001b[39mself\u001b[39m\u001b[39m.\u001b[39mcounts\n",
      "File \u001b[0;32m~/Documents/QAOA-SAT/formula/cnf.py:118\u001b[0m, in \u001b[0;36mCNF.assignment_weight\u001b[0;34m(self, assignment)\u001b[0m\n\u001b[1;32m    114\u001b[0m \u001b[39mif\u001b[39;00m \u001b[39mlen\u001b[39m(assignment) \u001b[39m!=\u001b[39m \u001b[39mself\u001b[39m\u001b[39m.\u001b[39mnum_vars:\n\u001b[1;32m    115\u001b[0m     \u001b[39mraise\u001b[39;00m \u001b[39mRuntimeError\u001b[39;00m(\n\u001b[1;32m    116\u001b[0m         \u001b[39mf\u001b[39m\u001b[39m\"\u001b[39m\u001b[39mInvalid assignment: expected length \u001b[39m\u001b[39m{\u001b[39;00m\u001b[39mself\u001b[39m\u001b[39m.\u001b[39mnum_vars\u001b[39m}\u001b[39;00m\u001b[39m, actual length \u001b[39m\u001b[39m{\u001b[39;00m\u001b[39mlen\u001b[39m(assignment)\u001b[39m}\u001b[39;00m\u001b[39m\"\u001b[39m\n\u001b[1;32m    117\u001b[0m     )\n\u001b[0;32m--> 118\u001b[0m \u001b[39mreturn\u001b[39;00m \u001b[39msum\u001b[39m([\u001b[39mnot\u001b[39;00m c\u001b[39m.\u001b[39mis_satisfied(assignment) \u001b[39mfor\u001b[39;00m c \u001b[39min\u001b[39;00m \u001b[39mself\u001b[39m\u001b[39m.\u001b[39mclauses])\n",
      "File \u001b[0;32m~/Documents/QAOA-SAT/formula/cnf.py:118\u001b[0m, in \u001b[0;36m<listcomp>\u001b[0;34m(.0)\u001b[0m\n\u001b[1;32m    114\u001b[0m \u001b[39mif\u001b[39;00m \u001b[39mlen\u001b[39m(assignment) \u001b[39m!=\u001b[39m \u001b[39mself\u001b[39m\u001b[39m.\u001b[39mnum_vars:\n\u001b[1;32m    115\u001b[0m     \u001b[39mraise\u001b[39;00m \u001b[39mRuntimeError\u001b[39;00m(\n\u001b[1;32m    116\u001b[0m         \u001b[39mf\u001b[39m\u001b[39m\"\u001b[39m\u001b[39mInvalid assignment: expected length \u001b[39m\u001b[39m{\u001b[39;00m\u001b[39mself\u001b[39m\u001b[39m.\u001b[39mnum_vars\u001b[39m}\u001b[39;00m\u001b[39m, actual length \u001b[39m\u001b[39m{\u001b[39;00m\u001b[39mlen\u001b[39m(assignment)\u001b[39m}\u001b[39;00m\u001b[39m\"\u001b[39m\n\u001b[1;32m    117\u001b[0m     )\n\u001b[0;32m--> 118\u001b[0m \u001b[39mreturn\u001b[39;00m \u001b[39msum\u001b[39m([\u001b[39mnot\u001b[39;00m c\u001b[39m.\u001b[39;49mis_satisfied(assignment) \u001b[39mfor\u001b[39;00m c \u001b[39min\u001b[39;00m \u001b[39mself\u001b[39m\u001b[39m.\u001b[39mclauses])\n",
      "File \u001b[0;32m~/Documents/QAOA-SAT/formula/clause.py:69\u001b[0m, in \u001b[0;36mClause.is_satisfied\u001b[0;34m(self, assignment)\u001b[0m\n\u001b[1;32m     59\u001b[0m \u001b[39mdef\u001b[39;00m \u001b[39mis_satisfied\u001b[39m(\u001b[39mself\u001b[39m, assignment: \u001b[39mstr\u001b[39m) \u001b[39m-\u001b[39m\u001b[39m>\u001b[39m \u001b[39mbool\u001b[39m:\n\u001b[1;32m     60\u001b[0m     \u001b[39m\"\"\"Determines whether clause is satisfied by assignment.\u001b[39;00m\n\u001b[1;32m     61\u001b[0m \n\u001b[1;32m     62\u001b[0m \u001b[39m    Args:\u001b[39;00m\n\u001b[0;32m   (...)\u001b[0m\n\u001b[1;32m     66\u001b[0m \u001b[39m        bool: True iff clause is satisfied\u001b[39;00m\n\u001b[1;32m     67\u001b[0m \u001b[39m    \"\"\"\u001b[39;00m\n\u001b[1;32m     68\u001b[0m     \u001b[39mreturn\u001b[39;00m \u001b[39mself\u001b[39m\u001b[39m.\u001b[39malways_sat \u001b[39mor\u001b[39;00m \u001b[39many\u001b[39m(\n\u001b[0;32m---> 69\u001b[0m         [v\u001b[39m.\u001b[39mis_satisfied(assignment) \u001b[39mfor\u001b[39;00m v \u001b[39min\u001b[39;00m \u001b[39mself\u001b[39m\u001b[39m.\u001b[39mvariables]\n\u001b[1;32m     70\u001b[0m     )\n",
      "File \u001b[0;32m~/Documents/QAOA-SAT/formula/clause.py:69\u001b[0m, in \u001b[0;36m<listcomp>\u001b[0;34m(.0)\u001b[0m\n\u001b[1;32m     59\u001b[0m \u001b[39mdef\u001b[39;00m \u001b[39mis_satisfied\u001b[39m(\u001b[39mself\u001b[39m, assignment: \u001b[39mstr\u001b[39m) \u001b[39m-\u001b[39m\u001b[39m>\u001b[39m \u001b[39mbool\u001b[39m:\n\u001b[1;32m     60\u001b[0m     \u001b[39m\"\"\"Determines whether clause is satisfied by assignment.\u001b[39;00m\n\u001b[1;32m     61\u001b[0m \n\u001b[1;32m     62\u001b[0m \u001b[39m    Args:\u001b[39;00m\n\u001b[0;32m   (...)\u001b[0m\n\u001b[1;32m     66\u001b[0m \u001b[39m        bool: True iff clause is satisfied\u001b[39;00m\n\u001b[1;32m     67\u001b[0m \u001b[39m    \"\"\"\u001b[39;00m\n\u001b[1;32m     68\u001b[0m     \u001b[39mreturn\u001b[39;00m \u001b[39mself\u001b[39m\u001b[39m.\u001b[39malways_sat \u001b[39mor\u001b[39;00m \u001b[39many\u001b[39m(\n\u001b[0;32m---> 69\u001b[0m         [v\u001b[39m.\u001b[39;49mis_satisfied(assignment) \u001b[39mfor\u001b[39;00m v \u001b[39min\u001b[39;00m \u001b[39mself\u001b[39m\u001b[39m.\u001b[39mvariables]\n\u001b[1;32m     70\u001b[0m     )\n",
      "File \u001b[0;32m~/Documents/QAOA-SAT/formula/variable.py:21\u001b[0m, in \u001b[0;36mVariable.is_satisfied\u001b[0;34m(self, assignment)\u001b[0m\n\u001b[1;32m     12\u001b[0m \u001b[39mdef\u001b[39;00m \u001b[39mis_satisfied\u001b[39m(\u001b[39mself\u001b[39m, assignment: \u001b[39mstr\u001b[39m) \u001b[39m-\u001b[39m\u001b[39m>\u001b[39m \u001b[39mbool\u001b[39m:\n\u001b[1;32m     13\u001b[0m     \u001b[39m\"\"\"Determines whether variable is satisfied by assignment.\u001b[39;00m\n\u001b[1;32m     14\u001b[0m \n\u001b[1;32m     15\u001b[0m \u001b[39m    Args:\u001b[39;00m\n\u001b[0;32m   (...)\u001b[0m\n\u001b[1;32m     19\u001b[0m \u001b[39m        bool: True iff variable satisfied.\u001b[39;00m\n\u001b[1;32m     20\u001b[0m \u001b[39m    \"\"\"\u001b[39;00m\n\u001b[0;32m---> 21\u001b[0m     ass \u001b[39m=\u001b[39m \u001b[39mbool\u001b[39m(\u001b[39mint\u001b[39m(assignment[\u001b[39mself\u001b[39;49m\u001b[39m.\u001b[39;49mid]))\n\u001b[1;32m     22\u001b[0m     \u001b[39mreturn\u001b[39;00m (\u001b[39mself\u001b[39m\u001b[39m.\u001b[39mis_negation \u001b[39mand\u001b[39;00m \u001b[39mnot\u001b[39;00m ass) \u001b[39mor\u001b[39;00m (\u001b[39mnot\u001b[39;00m \u001b[39mself\u001b[39m\u001b[39m.\u001b[39mis_negation \u001b[39mand\u001b[39;00m ass)\n",
      "\u001b[0;31mKeyboardInterrupt\u001b[0m: "
     ]
    }
   ],
   "source": [
    "from k_sat.pytorch_solver.pytorch_circuit import PytorchCircuit\n",
    "from k_sat.pytorch_solver.pytorch_optimiser import PytorchOptimiser\n",
    "\n",
    "ps = [1] #2, 4, 8, 30, 60]\n",
    "optimal_params = {}\n",
    "\n",
    "for p in ps:\n",
    "\tcircuit = PytorchCircuit(num_vars=n, layers=p)\n",
    "\toptimiser = PytorchOptimiser(circuit)\n",
    "\toptimal_params[p] = optimiser.find_optimal_params(instances)"
   ]
  },
  {
   "cell_type": "code",
   "execution_count": null,
   "metadata": {},
   "outputs": [
    {
     "data": {
      "text/plain": [
       "{1: array([0.57389736, 0.44572303])}"
      ]
     },
     "execution_count": 4,
     "metadata": {},
     "output_type": "execute_result"
    }
   ],
   "source": [
    "optimal_params"
   ]
  },
  {
   "attachments": {},
   "cell_type": "markdown",
   "metadata": {},
   "source": [
    "Step 2: Evaluate on satisfiable CNF instances"
   ]
  },
  {
   "cell_type": "code",
   "execution_count": null,
   "metadata": {},
   "outputs": [
    {
     "name": "stdout",
     "output_type": "stream",
     "text": [
      "evaluating n = 12\n",
      "Walksatlm took 100001000 steps\n",
      "Walksatlm took 3 steps\n",
      "Walksatlm took 2 steps\n",
      "Walksatlm took 100001000 steps\n",
      "Walksatlm took 8 steps\n",
      "evaluating p = 1\n",
      "QAOA TIMEOUT\n",
      "QAOA TIMEOUT\n",
      "QAOA TIMEOUT\n",
      "QAOA TIMEOUT\n",
      "QAOA TIMEOUT\n",
      "[1, 1, 1, 1, 1]\n"
     ]
    }
   ],
   "source": [
    "from k_sat.walkSATlm.walkSATlm import WalkSATlm\n",
    "from k_sat.quantum_solver.qaoa_evaluator import QAOAEvaluator\n",
    "from statistics import median\n",
    "\n",
    "# QAOA\n",
    "encoder = PauliEncoder()\n",
    "evaluator = QAOAEvaluator()\n",
    "\n",
    "# TODO: evaluate n_e for [12...20], num_instances_e = 10000\n",
    "k_e = k\n",
    "n_e = [12]\n",
    "num_instances_e = 5\n",
    "\n",
    "# Dictionary results\n",
    "p_succ = {n : {} for n in n_e}\n",
    "running_times = {n : {} for n in n_e}\n",
    "\n",
    "for n in n_e:\n",
    "\tprint(f'evaluating n = {n}')\n",
    "\t# Generate satisfiable instances\n",
    "\tinstances_e = RandomKSAT.from_poisson(n, k_e, satisfiable=True, instances = num_instances_e)\n",
    "\tfor (p, params) in optimal_params.items():\n",
    "\t\tprint(f'evaluating p = {p}')\n",
    "\t\tp_succ_p = 0\n",
    "\t\trunning_times_p = []\n",
    "\n",
    "\t\t# Evaluate success probability and running time for QAOA\n",
    "\t\tfor formula in instances_e.formulas:\n",
    "\t\t\tcircuit = encoder.encode_formula(formula, p)\n",
    "\t\t\tp_succ_p += evaluator.success_probability(circuit, formula, params)\n",
    "\t\t\tass, running_time_f = evaluator.running_time(circuit, formula, params, timeout=100) \n",
    "\t\t\tif ass == \"-1\":\n",
    "\t\t\t\tprint(\"QAOA TIMEOUT\")\n",
    "\t\t\trunning_times_p.append(running_time_f)\n",
    "\n",
    "\t\t# Store results\n",
    "\t\tp_succ[n][p] = p_succ_p / num_instances_e\n",
    "\t\tprint(running_times_p)\n",
    "\t\trunning_times[n][p] = median(running_times_p)\n"
   ]
  },
  {
   "cell_type": "code",
   "execution_count": null,
   "metadata": {},
   "outputs": [
    {
     "data": {
      "text/plain": [
       "{12: {1: 0.017068698906207914}}"
      ]
     },
     "execution_count": 6,
     "metadata": {},
     "output_type": "execute_result"
    }
   ],
   "source": [
    "p_succ"
   ]
  },
  {
   "cell_type": "code",
   "execution_count": null,
   "metadata": {},
   "outputs": [
    {
     "data": {
      "text/plain": [
       "{12: {1: 1}}"
      ]
     },
     "execution_count": 7,
     "metadata": {},
     "output_type": "execute_result"
    }
   ],
   "source": [
    "running_times"
   ]
  }
 ],
 "metadata": {
  "kernelspec": {
   "display_name": "venv",
   "language": "python",
   "name": "python3"
  },
  "language_info": {
   "codemirror_mode": {
    "name": "ipython",
    "version": 3
   },
   "file_extension": ".py",
   "mimetype": "text/x-python",
   "name": "python",
   "nbconvert_exporter": "python",
   "pygments_lexer": "ipython3",
   "version": "3.8.10"
  },
  "orig_nbformat": 4,
  "vscode": {
   "interpreter": {
    "hash": "29f951cdabef12836e9083df8eafb20f1eb0d7cdacd07dedd12ec492edce1f03"
   }
  }
 },
 "nbformat": 4,
 "nbformat_minor": 2
}
