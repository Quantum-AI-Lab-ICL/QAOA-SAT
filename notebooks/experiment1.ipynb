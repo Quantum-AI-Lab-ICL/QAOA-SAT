{
 "cells": [
  {
   "cell_type": "code",
   "execution_count": 1,
   "metadata": {},
   "outputs": [],
   "source": [
    "import os\n",
    "import sys\n",
    "nb_dir = os.path.split(os.getcwd())[0]\n",
    "if nb_dir not in sys.path:\n",
    "    sys.path.append(nb_dir)"
   ]
  },
  {
   "attachments": {},
   "cell_type": "markdown",
   "metadata": {},
   "source": [
    "We follow the procedure outlined in 3.1.2.1 (Experiment 1)"
   ]
  },
  {
   "attachments": {},
   "cell_type": "markdown",
   "metadata": {},
   "source": [
    "Step 1: Generation of $\\underline{\\beta}, \\underline{\\gamma} \\in \\mathbb{R}^p$"
   ]
  },
  {
   "cell_type": "code",
   "execution_count": 2,
   "metadata": {},
   "outputs": [],
   "source": [
    "from benchmark.random_k_sat import RandomKSAT\n",
    "\n",
    "# TODO: Scale up to k = 8, n = 12 and num_instances = 10\n",
    "k = 3\n",
    "n = 8\n",
    "num_instances = 15\n",
    "\n",
    "instances = RandomKSAT.from_poisson(n, k, instances=num_instances).formulas"
   ]
  },
  {
   "cell_type": "code",
   "execution_count": 3,
   "metadata": {},
   "outputs": [
    {
     "name": "stdout",
     "output_type": "stream",
     "text": [
      "encoding circuits\n",
      "finding parameters\n"
     ]
    }
   ],
   "source": [
    "from k_sat.quantum_solver.pauli_encoder import PauliEncoder\n",
    "from k_sat.quantum_solver.average_optimiser import AverageOptimiser\n",
    "\n",
    "ps = [1] #2, 4, 8, 30, 60]\n",
    "optimal_params = {}\n",
    "\n",
    "encoder = PauliEncoder()\n",
    "optimiser = AverageOptimiser()\n",
    "\n",
    "for p in ps:\n",
    "\n",
    "\t# Encode instances\n",
    "\tprint('encoding circuits')\n",
    "\ttraining_circuits = [(formula, encoder.encode_formula(formula, p)) for formula in instances]\n",
    "\n",
    "\t# Initialise gamma_i = -0.01, beta_i = 0.01 \n",
    "\tinitial_params = [-0.01, 0.01] * p\n",
    "\n",
    "\t# Find and store optimal parameters across instances\n",
    "\tprint('finding parameters')\n",
    "\toptimal_params[p] = optimiser.find_optimal_params(initial_params, training_circuits)"
   ]
  },
  {
   "cell_type": "code",
   "execution_count": 4,
   "metadata": {},
   "outputs": [
    {
     "data": {
      "text/plain": [
       "{1: array([0.62742206, 0.38405219])}"
      ]
     },
     "execution_count": 4,
     "metadata": {},
     "output_type": "execute_result"
    }
   ],
   "source": [
    "optimal_params"
   ]
  },
  {
   "cell_type": "code",
   "execution_count": 5,
   "metadata": {},
   "outputs": [],
   "source": [
    "instance = RandomKSAT.from_poisson(12, 3, satisfiable=True)"
   ]
  },
  {
   "cell_type": "code",
   "execution_count": 6,
   "metadata": {},
   "outputs": [
    {
     "data": {
      "text/plain": [
       "(x10 ∨ ¬x5 ∨ ¬x6)∧\n",
       "(x6 ∨ ¬x1 ∨ ¬x3)∧\n",
       "(¬x7 ∨ ¬x9 ∨ x3)∧\n",
       "(x8 ∨ x2 ∨ ¬x8)∧\n",
       "(x8 ∨ ¬x4 ∨ x2)∧\n",
       "(x11 ∨ x0 ∨ ¬x5)∧\n",
       "(¬x5 ∨ x10 ∨ x1)∧\n",
       "(¬x2 ∨ ¬x7 ∨ ¬x9)∧\n",
       "(x11 ∨ ¬x6)∧\n",
       "(x10 ∨ ¬x8 ∨ ¬x5)∧\n",
       "(x0 ∨ x9 ∨ ¬x3)∧\n",
       "(¬x9 ∨ ¬x2 ∨ ¬x8)∧\n",
       "(¬x8 ∨ ¬x10)∧\n",
       "(x0 ∨ x2 ∨ ¬x7)∧\n",
       "(x4 ∨ x10 ∨ ¬x3)∧\n",
       "(x1 ∨ x9 ∨ x3)∧\n",
       "(¬x9 ∨ ¬x6 ∨ ¬x1)∧\n",
       "(x5 ∨ x2 ∨ x0)∧\n",
       "(¬x11 ∨ x7 ∨ x9)∧\n",
       "(x0 ∨ x5 ∨ ¬x0)∧\n",
       "(x6 ∨ ¬x0 ∨ x8)∧\n",
       "(¬x8 ∨ x10 ∨ ¬x6)∧\n",
       "(x4 ∨ x10 ∨ ¬x7)∧\n",
       "(x3 ∨ x8 ∨ x1)∧\n",
       "(¬x3 ∨ x2 ∨ ¬x6)∧\n",
       "(¬x3 ∨ x2 ∨ x0)∧\n",
       "(x10 ∨ ¬x0 ∨ x0)∧\n",
       "(x1 ∨ ¬x1 ∨ x9)∧\n",
       "(x0 ∨ ¬x7 ∨ x3)∧\n",
       "(x10 ∨ x5)∧\n",
       "(x3 ∨ ¬x7 ∨ x11)∧\n",
       "(¬x10 ∨ ¬x0 ∨ x4)∧\n",
       "(x2 ∨ ¬x7 ∨ x1)∧\n",
       "(x0 ∨ x1 ∨ ¬x2)∧\n",
       "(¬x4 ∨ x3 ∨ ¬x0)∧\n",
       "(¬x11 ∨ ¬x6 ∨ ¬x3)∧\n",
       "(¬x1 ∨ x4)∧\n",
       "(¬x9 ∨ ¬x8 ∨ x11)∧\n",
       "(¬x6 ∨ x2 ∨ x0)∧\n",
       "(x2 ∨ x5 ∨ ¬x0)∧\n",
       "(¬x2 ∨ ¬x4 ∨ ¬x9)∧\n",
       "(x6 ∨ x10 ∨ x9)∧\n",
       "(¬x10 ∨ ¬x11)∧\n",
       "(¬x5 ∨ x3 ∨ x0)∧\n",
       "(x3 ∨ ¬x7 ∨ ¬x3)∧\n",
       "(x4 ∨ ¬x5 ∨ x7)∧\n",
       "(x7 ∨ ¬x3 ∨ x2)∧\n",
       "(x2 ∨ x3 ∨ ¬x10)∧\n",
       "(x5 ∨ x9 ∨ ¬x6)∧\n",
       "(¬x10 ∨ ¬x7 ∨ x3)∧\n",
       "(x11 ∨ ¬x1 ∨ x1)∧\n",
       "(¬x4 ∨ ¬x5 ∨ ¬x3)∧\n",
       "(¬x9 ∨ x2 ∨ ¬x0)∧\n",
       "(x0 ∨ ¬x0 ∨ ¬x11)∧\n",
       "(x0 ∨ ¬x8)"
      ]
     },
     "execution_count": 6,
     "metadata": {},
     "output_type": "execute_result"
    }
   ],
   "source": [
    "instance.formulas[0]"
   ]
  },
  {
   "cell_type": "code",
   "execution_count": 7,
   "metadata": {},
   "outputs": [
    {
     "name": "stdout",
     "output_type": "stream",
     "text": [
      "evaluating n = 12\n",
      "evaluating p = 1\n"
     ]
    }
   ],
   "source": [
    "from k_sat.quantum_solver.qaoa_evaluator import QAOAEvaluator\n",
    "\n",
    "encoder = PauliEncoder()\n",
    "evaluator = QAOAEvaluator()\n",
    "\n",
    "# TODO: evaluate n_e for [12...20], num_instances_e = 10000\n",
    "k_e = k\n",
    "n_e = [12]\n",
    "num_instances_e = 5\n",
    "\n",
    "# Dictionary results\n",
    "p_succ = {n : {} for n in n_e}\n",
    "running_times = {n : {} for n in n_e}\n",
    "\n",
    "for n in n_e:\n",
    "\tprint(f'evaluating n = {n}')\n",
    "\t# Generate satisfiable instances\n",
    "\tinstances_e = RandomKSAT.from_poisson(n, k_e, satisfiable=True, instances = num_instances_e)\n",
    "\tfor (p, params) in optimal_params.items():\n",
    "\t\tprint(f'evaluating p = {p}')\n",
    "\t\tp_succ_p = 0\n",
    "\t\trunning_times_p = []\n",
    "\t\tfor formula in instances_e.formulas:\n",
    "\t\t\tcircuit = encoder.encode_formula(formula, p)\n",
    "\t\t\tp_succ_p += evaluator.success_probability(circuit, formula, params)\n",
    "\t\t\trunning_time_f = evaluator.running_time(circuit, formula, params, timeout=1000) \n",
    "\t\t\trunning_times_p.append(running_time_f)\n"
   ]
  },
  {
   "cell_type": "code",
   "execution_count": 8,
   "metadata": {},
   "outputs": [
    {
     "data": {
      "text/plain": [
       "{12: {}}"
      ]
     },
     "execution_count": 8,
     "metadata": {},
     "output_type": "execute_result"
    }
   ],
   "source": [
    "p_succ"
   ]
  },
  {
   "cell_type": "code",
   "execution_count": 9,
   "metadata": {},
   "outputs": [
    {
     "data": {
      "text/plain": [
       "{12: {}}"
      ]
     },
     "execution_count": 9,
     "metadata": {},
     "output_type": "execute_result"
    }
   ],
   "source": [
    "running_times"
   ]
  }
 ],
 "metadata": {
  "kernelspec": {
   "display_name": "venv",
   "language": "python",
   "name": "python3"
  },
  "language_info": {
   "codemirror_mode": {
    "name": "ipython",
    "version": 3
   },
   "file_extension": ".py",
   "mimetype": "text/x-python",
   "name": "python",
   "nbconvert_exporter": "python",
   "pygments_lexer": "ipython3",
   "version": "3.8.10"
  },
  "orig_nbformat": 4,
  "vscode": {
   "interpreter": {
    "hash": "29f951cdabef12836e9083df8eafb20f1eb0d7cdacd07dedd12ec492edce1f03"
   }
  }
 },
 "nbformat": 4,
 "nbformat_minor": 2
}
