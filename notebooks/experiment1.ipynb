{
 "cells": [
  {
   "cell_type": "code",
   "execution_count": 166,
   "metadata": {},
   "outputs": [],
   "source": [
    "import os\n",
    "import sys\n",
    "nb_dir = os.path.split(os.getcwd())[0]\n",
    "if nb_dir not in sys.path:\n",
    "    sys.path.append(nb_dir)"
   ]
  },
  {
   "attachments": {},
   "cell_type": "markdown",
   "metadata": {},
   "source": [
    "We follow the procedure outlined in 3.1.2.1 (Experiment 1)"
   ]
  },
  {
   "attachments": {},
   "cell_type": "markdown",
   "metadata": {},
   "source": [
    "Currently: \n",
    "\n",
    "* $n = 12$\n",
    "* $k = 8$\n",
    "* $p \\in \\{1, 2, 4, 8\\}$\n",
    "* training instances = $50$\n",
    "* evaluation instances = $500$\n"
   ]
  },
  {
   "attachments": {},
   "cell_type": "markdown",
   "metadata": {},
   "source": [
    "Step 1: Generation of $\\underline{\\beta}, \\underline{\\gamma} \\in \\mathbb{R}^p$"
   ]
  },
  {
   "cell_type": "code",
   "execution_count": 167,
   "metadata": {},
   "outputs": [],
   "source": [
    "from benchmark.random_k_sat import RandomKSAT\n",
    "\n",
    "# Read in 100 randomly generated CNF(12, 8, r_8) instances\n",
    "num_instances = 10\n",
    "n = 12\n",
    "k = 8\n",
    "\n",
    "instances = RandomKSAT.from_poisson(n=n, k=k, instances=num_instances, from_file=True, calc_naive=True)"
   ]
  },
  {
   "cell_type": "code",
   "execution_count": 25,
   "metadata": {},
   "outputs": [
    {
     "name": "stdout",
     "output_type": "stream",
     "text": [
      "Success probability: 0.0004160713288001716\n",
      "Success probability: 0.005423360969871283\n",
      "Success probability: 0.000424269528593868\n",
      "Success probability: 0.01637210138142109\n",
      "Success probability: 0.0004532740858849138\n",
      "Success probability: 0.05263092741370201\n",
      "Success probability: 0.0005650859675370157\n",
      "Success probability: 0.14667057991027832\n"
     ]
    }
   ],
   "source": [
    "import torch\n",
    "from k_sat.pytorch_solver.pytorch_circuit import PytorchCircuit\n",
    "from k_sat.pytorch_solver.pytorch_optimiser import PytorchOptimiser\n",
    "\n",
    "ps = [1, 2, 4, 8]#, 30, 60]\n",
    "optimal_params = {}\n",
    "\n",
    "for p in ps:\n",
    "\tcircuit = PytorchCircuit(num_vars=n, layers=p)\n",
    "\tadam = torch.optim.Adam(circuit.parameters(), lr=0.1, maximize=True)\n",
    "\toptimiser = PytorchOptimiser(circuit, adam, epochs=100)\n",
    "\toptimiser.find_optimal_params(instances[:16])\n",
    "\toptimal_params[p] = (circuit.gamma.detach().clone(), circuit.beta.detach().clone())"
   ]
  },
  {
   "attachments": {},
   "cell_type": "markdown",
   "metadata": {},
   "source": [
    "Step 2: Evaluate on satisfiable CNF instances"
   ]
  },
  {
   "cell_type": "code",
   "execution_count": null,
   "metadata": {},
   "outputs": [
    {
     "name": "stdout",
     "output_type": "stream",
     "text": [
      "evaluating n = 12\n",
      "Walksatlm took 100001000 steps\n",
      "Walksatlm took 3 steps\n",
      "Walksatlm took 2 steps\n",
      "Walksatlm took 100001000 steps\n",
      "Walksatlm took 8 steps\n",
      "evaluating p = 1\n",
      "QAOA TIMEOUT\n",
      "QAOA TIMEOUT\n",
      "QAOA TIMEOUT\n",
      "QAOA TIMEOUT\n",
      "QAOA TIMEOUT\n",
      "[1, 1, 1, 1, 1]\n"
     ]
    }
   ],
   "source": [
    "from statistics import median\n",
    "\n",
    "k_e = k\n",
    "n_e = [12] #[i in range(12, 21)]\n",
    "num_instances_e = 500\n",
    "\n",
    "# Dictionary results\n",
    "p_succ = {n : {} for n in n_e}\n",
    "\n",
    "for n in n_e:\n",
    "\tprint(f'evaluating n = {n}')\n",
    "\n",
    "\t# Read in random problem\n",
    "\n",
    "\tinstances_e =  \n",
    "\n",
    "\tfor (p, params) in optimal_params.items():\n",
    "\t\tprint(f'evaluating p = {p}')\n",
    "\t\tp_succ_p = 0\n",
    "\t\trunning_times_p = []\n",
    "\n",
    "\t\t# Evaluate success probability and running time for QAOA\n",
    "\t\tfor formula in instances_e.formulas:\n",
    "\t\t\tcircuit = encoder.encode_formula(formula, p)\n",
    "\t\t\tp_succ_p += evaluator.success_probability(circuit, formula, params)\n",
    "\t\t\tass, running_time_f = evaluator.running_time(circuit, formula, params, timeout=100) \n",
    "\t\t\tif ass == \"-1\":\n",
    "\t\t\t\tprint(\"QAOA TIMEOUT\")\n",
    "\t\t\trunning_times_p.append(running_time_f)\n",
    "\n",
    "\t\t# Store results\n",
    "\t\tp_succ[n][p] = p_succ_p / num_instances_e\n",
    "\t\tprint(running_times_p)\n",
    "\t\trunning_times[n][p] = median(running_times_p)\n"
   ]
  },
  {
   "cell_type": "code",
   "execution_count": null,
   "metadata": {},
   "outputs": [
    {
     "data": {
      "text/plain": [
       "{12: {1: 0.017068698906207914}}"
      ]
     },
     "execution_count": 6,
     "metadata": {},
     "output_type": "execute_result"
    }
   ],
   "source": [
    "p_succ"
   ]
  },
  {
   "cell_type": "code",
   "execution_count": null,
   "metadata": {},
   "outputs": [
    {
     "data": {
      "text/plain": [
       "{12: {1: 1}}"
      ]
     },
     "execution_count": 7,
     "metadata": {},
     "output_type": "execute_result"
    }
   ],
   "source": [
    "running_times"
   ]
  }
 ],
 "metadata": {
  "kernelspec": {
   "display_name": "venv",
   "language": "python",
   "name": "python3"
  },
  "language_info": {
   "codemirror_mode": {
    "name": "ipython",
    "version": 3
   },
   "file_extension": ".py",
   "mimetype": "text/x-python",
   "name": "python",
   "nbconvert_exporter": "python",
   "pygments_lexer": "ipython3",
   "version": "3.8.10"
  },
  "orig_nbformat": 4,
  "vscode": {
   "interpreter": {
    "hash": "29f951cdabef12836e9083df8eafb20f1eb0d7cdacd07dedd12ec492edce1f03"
   }
  }
 },
 "nbformat": 4,
 "nbformat_minor": 2
}
