{
 "cells": [
  {
   "cell_type": "code",
   "execution_count": 2,
   "metadata": {},
   "outputs": [],
   "source": [
    "import os\n",
    "import sys\n",
    "nb_dir = os.path.split(os.getcwd())[0]\n",
    "if nb_dir not in sys.path:\n",
    "    sys.path.append(nb_dir)"
   ]
  },
  {
   "attachments": {},
   "cell_type": "markdown",
   "metadata": {},
   "source": [
    "We follow the procedure outlined in 3.1.2.1 (Experiment 1)"
   ]
  },
  {
   "attachments": {},
   "cell_type": "markdown",
   "metadata": {},
   "source": [
    "Currently: \n",
    "\n",
    "* $n = 12$\n",
    "* $k = 8$\n",
    "* $p \\in \\{1, 2, 4, 8\\}$\n",
    "* training instances = $100$\n",
    "* evaluation instances = $500$\n"
   ]
  },
  {
   "attachments": {},
   "cell_type": "markdown",
   "metadata": {},
   "source": [
    "Step 1: Generation of $\\underline{\\beta}, \\underline{\\gamma} \\in \\mathbb{R}^p$"
   ]
  },
  {
   "cell_type": "code",
   "execution_count": 3,
   "metadata": {},
   "outputs": [],
   "source": [
    "from benchmark.random_k_sat import RandomKSAT\n",
    "\n",
    "# Read in 100 randomly generated CNF(12, 8, r_8) instances\n",
    "num_instances = 100\n",
    "n = 12\n",
    "k = 8\n",
    "\n",
    "instances = RandomKSAT.from_poisson(n=n, k=k, instances=num_instances, from_file=True, calc_naive=True)"
   ]
  },
  {
   "cell_type": "code",
   "execution_count": 3,
   "metadata": {},
   "outputs": [
    {
     "name": "stdout",
     "output_type": "stream",
     "text": [
      "Training for p = 1\n",
      "Epoch 0, p_succ: 0.0004537288914434612\n",
      "Epoch 10, p_succ: 0.0050414674915373325\n",
      "Epoch 20, p_succ: 0.005677502136677504\n",
      "Epoch 30, p_succ: 0.00569401727989316\n",
      "Epoch 40, p_succ: 0.005692856851965189\n",
      "Training for p = 2\n",
      "Epoch 0, p_succ: 0.0004627828311640769\n",
      "Epoch 10, p_succ: 0.013224032707512379\n",
      "Epoch 20, p_succ: 0.015511535108089447\n",
      "Epoch 30, p_succ: 0.016067299991846085\n",
      "Epoch 40, p_succ: 0.016087966039776802\n",
      "Training for p = 4\n",
      "Epoch 0, p_succ: 0.0004948183777742088\n",
      "Epoch 10, p_succ: 0.03856354206800461\n",
      "Epoch 20, p_succ: 0.046166371554136276\n",
      "Epoch 30, p_succ: 0.04802190884947777\n",
      "Epoch 40, p_succ: 0.04795888066291809\n"
     ]
    }
   ],
   "source": [
    "import torch\n",
    "from k_sat.pytorch_solver.pytorch_circuit import PytorchCircuit\n",
    "from k_sat.pytorch_solver.pytorch_optimiser import PytorchOptimiser\n",
    "\n",
    "ps = [1, 2, 4, 8, 16] #[1, 2, 4, 8, 30, 60]\n",
    "optimal_params = {}\n",
    "\n",
    "for p in ps:\n",
    "\tprint(f'Training for p = {p}')\n",
    "\tcircuit = PytorchCircuit(num_vars=n, layers=p)\n",
    "\tadam = torch.optim.Adam(circuit.parameters(), lr=0.1, maximize=True)\n",
    "\toptimiser = PytorchOptimiser(circuit, adam, epochs=40)\n",
    "\toptimiser.find_optimal_params(instances.formulas)\n",
    "\toptimal_params[p] = (circuit.gamma.detach().clone(), circuit.beta.detach().clone())"
   ]
  },
  {
   "cell_type": "code",
   "execution_count": 10,
   "metadata": {},
   "outputs": [
    {
     "data": {
      "text/plain": [
       "{1: (tensor([-0.4660]), tensor([0.3218])),\n",
       " 2: (tensor([-0.3617, -0.5444]), tensor([0.3608, 0.2734])),\n",
       " 4: (tensor([-0.2743, -0.4393, -0.4892, -0.5560]),\n",
       "  tensor([0.3621, 0.3323, 0.2928, 0.2067])),\n",
       " 8: (tensor([-0.1943, -0.3142, -0.3775, -0.4085, -0.4177, -0.4403, -0.4680, -0.5495]),\n",
       "  tensor([0.3702, 0.3314, 0.3098, 0.2827, 0.2594, 0.2351, 0.2175, 0.1585])),\n",
       " 16: (tensor([-0.1310, -0.2246, -0.2878, -0.3188, -0.3206, -0.3239, -0.3589, -0.3933,\n",
       "          -0.3972, -0.4185, -0.4225, -0.4220, -0.4057, -0.4495, -0.5107, -0.5579]),\n",
       "  tensor([0.3828, 0.3519, 0.3277, 0.2958, 0.2579, 0.2579, 0.2734, 0.2709, 0.2575,\n",
       "          0.2592, 0.2381, 0.2027, 0.1893, 0.1784, 0.1471, 0.0879]))}"
      ]
     },
     "execution_count": 10,
     "metadata": {},
     "output_type": "execute_result"
    }
   ],
   "source": [
    "optimal_params"
   ]
  },
  {
   "cell_type": "code",
   "execution_count": null,
   "metadata": {},
   "outputs": [],
   "source": [
    "import h5py\n",
    "# Save to file\n",
    "parent_dir = os.path.dirname(os.getcwd())\n",
    "dir = f\"{parent_dir}/benchmark/instances/n_{n}\"\n",
    "with h5py.File(f'{dir}/a_params.hdf5', 'w') as file:\n",
    "\tfor p in ps:\n",
    "\t\tfile.create_dataset(f'{p}_g', data=optimal_params[p][0])\n",
    "\t\tfile.create_dataset(f'{p}_b', data=optimal_params[p][1])"
   ]
  },
  {
   "attachments": {},
   "cell_type": "markdown",
   "metadata": {},
   "source": [
    "Step 2: Evaluate on satisfiable CNF instances"
   ]
  },
  {
   "cell_type": "code",
   "execution_count": 4,
   "metadata": {},
   "outputs": [],
   "source": [
    "import h5py\n",
    "import torch\n",
    "\n",
    "n = 12\n",
    "ps = [8, 16]\n",
    "\n",
    "# Read params in from file\n",
    "parent_dir = os.path.dirname(os.getcwd())\n",
    "dir = f\"{parent_dir}/benchmark/instances/n_{n}\"\n",
    "optimal_params_r = {}\n",
    "with h5py.File(f'{dir}/a_params.hdf5', 'r') as file:\n",
    "\tfor p in ps:\n",
    "\t\tgamma = torch.from_numpy(file.get(f'{p}_g')[:])\n",
    "\t\tbeta = torch.from_numpy(file.get(f'{p}_b')[:])\n",
    "\t\toptimal_params_r[p] = (gamma, beta)"
   ]
  },
  {
   "cell_type": "code",
   "execution_count": 8,
   "metadata": {},
   "outputs": [
    {
     "name": "stdout",
     "output_type": "stream",
     "text": [
      "evaluating n = 12\n",
      "evaluating p = 8\n",
      "evaluating p = 16\n"
     ]
    }
   ],
   "source": [
    "from k_sat.pytorch_solver.pytorch_circuit import PytorchCircuit\n",
    "\n",
    "k_e = k\n",
    "n_e = [12] #[i in range(12, 21)]\n",
    "num_instances_e = 1000\n",
    "\n",
    "p_succ = {}\n",
    "\n",
    "for n in n_e:\n",
    "\tprint(f'evaluating n = {n}')\n",
    "\n",
    "\t# Read in random problems\n",
    "\tinstances_e = RandomKSAT.from_poisson(n=n, k=k, instances=num_instances_e, from_file=num_instances, calc_naive=True)\n",
    "\n",
    "\tfor (p, params) in optimal_params_r.items():\n",
    "\t\tprint(f'evaluating p = {p}')\n",
    "\n",
    "\t\t# Initialise QAOA circuit\n",
    "\t\tcircuit = PytorchCircuit(n, p, params[0], params[1])\n",
    "\n",
    "\t\t# Evolve each instance and take mean of p_succ\n",
    "\t\tprob = 0\n",
    "\t\tfor instance in instances_e.formulas:\n",
    "\t\t\tprob += circuit(instance.naive_counts, instance.naive_sats).item()\n",
    "\t\t\n",
    "\t\tp_succ[p] = prob/num_instances_e"
   ]
  },
  {
   "cell_type": "code",
   "execution_count": 9,
   "metadata": {},
   "outputs": [
    {
     "data": {
      "text/plain": [
       "{8: 0.12876187145031145, 16: 0.286059484512778}"
      ]
     },
     "execution_count": 9,
     "metadata": {},
     "output_type": "execute_result"
    }
   ],
   "source": [
    "p_succ"
   ]
  }
 ],
 "metadata": {
  "kernelspec": {
   "display_name": "venv",
   "language": "python",
   "name": "python3"
  },
  "language_info": {
   "codemirror_mode": {
    "name": "ipython",
    "version": 3
   },
   "file_extension": ".py",
   "mimetype": "text/x-python",
   "name": "python",
   "nbconvert_exporter": "python",
   "pygments_lexer": "ipython3",
   "version": "3.8.10"
  },
  "orig_nbformat": 4,
  "vscode": {
   "interpreter": {
    "hash": "29f951cdabef12836e9083df8eafb20f1eb0d7cdacd07dedd12ec492edce1f03"
   }
  }
 },
 "nbformat": 4,
 "nbformat_minor": 2
}
