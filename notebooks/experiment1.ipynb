{
 "cells": [
  {
   "cell_type": "code",
   "execution_count": 1,
   "metadata": {},
   "outputs": [],
   "source": [
    "import os\n",
    "import sys\n",
    "nb_dir = os.path.split(os.getcwd())[0]\n",
    "if nb_dir not in sys.path:\n",
    "    sys.path.append(nb_dir)"
   ]
  },
  {
   "attachments": {},
   "cell_type": "markdown",
   "metadata": {},
   "source": [
    "We follow the procedure outlined in 3.1.2.1 (Experiment 1)"
   ]
  },
  {
   "attachments": {},
   "cell_type": "markdown",
   "metadata": {},
   "source": [
    "Currently: \n",
    "\n",
    "* $n = 12$\n",
    "* $k = 8$\n",
    "* $p \\in \\{1, 2, 4, 8\\}$\n",
    "* training instances = $100$\n",
    "* evaluation instances = $500$\n"
   ]
  },
  {
   "attachments": {},
   "cell_type": "markdown",
   "metadata": {},
   "source": [
    "Step 1: Generation of $\\underline{\\beta}, \\underline{\\gamma} \\in \\mathbb{R}^p$"
   ]
  },
  {
   "cell_type": "code",
   "execution_count": 2,
   "metadata": {},
   "outputs": [],
   "source": [
    "from benchmark.random_k_sat import RandomKSAT\n",
    "\n",
    "# Read in 100 randomly generated CNF(12, 8, r_8) instances\n",
    "num_instances = 100\n",
    "n = 12\n",
    "k = 8\n",
    "ps = [1, 2, 4, 8, 16]\n",
    "\n",
    "instances = RandomKSAT.from_poisson(n=n, k=k, instances=num_instances, from_file=True, calc_naive=True)"
   ]
  },
  {
   "cell_type": "code",
   "execution_count": 5,
   "metadata": {},
   "outputs": [
    {
     "name": "stdout",
     "output_type": "stream",
     "text": [
      "Training for p = 1\n",
      "Epoch 0, p_succ: 0.0004537361965049058\n",
      "Epoch 10, p_succ: 0.005027129780501127\n",
      "Epoch 20, p_succ: 0.005658457055687904\n",
      "Epoch 30, p_succ: 0.005676239263266325\n",
      "Epoch 40, p_succ: 0.0056748115457594395\n",
      "Training for p = 2\n",
      "Epoch 0, p_succ: 0.00046280468814074993\n",
      "Epoch 10, p_succ: 0.013177448883652687\n",
      "Epoch 20, p_succ: 0.015451536513864994\n",
      "Epoch 30, p_succ: 0.01600099727511406\n",
      "Epoch 40, p_succ: 0.01601913571357727\n",
      "Training for p = 4\n",
      "Epoch 0, p_succ: 0.0004948906134814024\n",
      "Epoch 10, p_succ: 0.03825230523943901\n",
      "Epoch 20, p_succ: 0.045633066445589066\n",
      "Epoch 30, p_succ: 0.04776782542467117\n",
      "Epoch 40, p_succ: 0.04776553064584732\n",
      "Training for p = 8\n",
      "Epoch 0, p_succ: 0.0006186074460856616\n",
      "Epoch 10, p_succ: 0.1140500158071518\n",
      "Epoch 20, p_succ: 0.12178404629230499\n",
      "Epoch 30, p_succ: 0.12772956490516663\n",
      "Epoch 40, p_succ: 0.12977877259254456\n",
      "Epoch 50, p_succ: 0.13073483109474182\n",
      "Epoch 60, p_succ: 0.13094967603683472\n",
      "Training for p = 16\n",
      "Epoch 0, p_succ: 0.0011520512634888291\n",
      "Epoch 10, p_succ: 0.22847609221935272\n",
      "Epoch 20, p_succ: 0.26374682784080505\n",
      "Epoch 30, p_succ: 0.28574714064598083\n",
      "Epoch 40, p_succ: 0.2902962863445282\n",
      "Epoch 50, p_succ: 0.29241272807121277\n",
      "Epoch 60, p_succ: 0.2931966781616211\n",
      "Training for p = 24\n",
      "Epoch 0, p_succ: 0.0021648025140166283\n"
     ]
    },
    {
     "ename": "",
     "evalue": "",
     "output_type": "error",
     "traceback": [
      "\u001b[1;31mThe Kernel crashed while executing code in the the current cell or a previous cell. Please review the code in the cell(s) to identify a possible cause of the failure. Click <a href='https://aka.ms/vscodeJupyterKernelCrash'>here</a> for more info. View Jupyter <a href='command:jupyter.viewOutput'>log</a> for further details."
     ]
    },
    {
     "ename": "",
     "evalue": "",
     "output_type": "error",
     "traceback": [
      "\u001b[1;31mCanceled future for execute_request message before replies were done"
     ]
    }
   ],
   "source": [
    "import torch\n",
    "import h5py\n",
    "from k_sat.pytorch_solver.pytorch_circuit import PytorchCircuit\n",
    "from k_sat.pytorch_solver.pytorch_optimiser import PytorchOptimiser\n",
    "\n",
    "optimal_params = {}\n",
    "\n",
    "for p in ps:\n",
    "\tprint(f'Training for p = {p}')\n",
    "\tcircuit = PytorchCircuit(num_vars=n, layers=p)\n",
    "\tadam = torch.optim.Adam(circuit.parameters(), lr=0.1, maximize=True)\n",
    "\tepochs = 40 if p < 5 else 60\n",
    "\toptimiser = PytorchOptimiser(circuit, adam, epochs=epochs)\n",
    "\toptimiser.find_optimal_params(instances.formulas)\n",
    "\t# Save to file\n",
    "\tparent_dir = os.path.dirname(os.getcwd())\n",
    "\tdir = f\"{parent_dir}/benchmark/instances/n_{n}\"\n",
    "\twith h5py.File(f'{dir}/a_params_{p}.hdf5', 'w') as file:\n",
    "\t\tfile.create_dataset(f'gamma', data=circuit.gamma.detach().clone())\n",
    "\t\tfile.create_dataset(f'beta', data=circuit.beta.detach().clone())"
   ]
  },
  {
   "attachments": {},
   "cell_type": "markdown",
   "metadata": {},
   "source": [
    "Step 2: Evaluate on satisfiable CNF instances"
   ]
  },
  {
   "cell_type": "code",
   "execution_count": 3,
   "metadata": {},
   "outputs": [],
   "source": [
    "import h5py\n",
    "import torch\n",
    "\n",
    "# Read params in from file\n",
    "parent_dir = os.path.dirname(os.getcwd())\n",
    "dir = f\"{parent_dir}/benchmark/instances/n_{n}\"\n",
    "optimal_params_r = {}\n",
    "for p in ps:\n",
    "\twith h5py.File(f'{dir}/a_params_{p}.hdf5', 'r') as file:\n",
    "\t\tgamma = torch.from_numpy(file.get(f'gamma')[:])\n",
    "\t\tbeta = torch.from_numpy(file.get(f'beta')[:])\n",
    "\t\toptimal_params_r[p] = (gamma, beta)"
   ]
  },
  {
   "cell_type": "code",
   "execution_count": 4,
   "metadata": {},
   "outputs": [
    {
     "data": {
      "text/plain": [
       "{1: (tensor([-0.4657]), tensor([0.3213])),\n",
       " 2: (tensor([-0.3621, -0.5446]), tensor([0.3601, 0.2733])),\n",
       " 4: (tensor([-0.2846, -0.4394, -0.4921, -0.5560]),\n",
       "  tensor([0.3642, 0.3263, 0.2929, 0.2025])),\n",
       " 8: (tensor([-0.1909, -0.3126, -0.3759, -0.4137, -0.4431, -0.4739, -0.4999, -0.5546]),\n",
       "  tensor([0.3661, 0.3323, 0.3105, 0.2902, 0.2797, 0.2555, 0.2183, 0.1477])),\n",
       " 16: (tensor([-0.1272, -0.2225, -0.2826, -0.3175, -0.3385, -0.3574, -0.3688, -0.3774,\n",
       "          -0.3867, -0.4031, -0.4206, -0.4336, -0.4537, -0.4811, -0.5136, -0.5628]),\n",
       "  tensor([0.3911, 0.3507, 0.3189, 0.2975, 0.2847, 0.2740, 0.2664, 0.2576, 0.2513,\n",
       "          0.2488, 0.2386, 0.2257, 0.2045, 0.1811, 0.1419, 0.0884]))}"
      ]
     },
     "execution_count": 4,
     "metadata": {},
     "output_type": "execute_result"
    }
   ],
   "source": [
    "optimal_params_r"
   ]
  },
  {
   "cell_type": "code",
   "execution_count": 7,
   "metadata": {},
   "outputs": [
    {
     "name": "stdout",
     "output_type": "stream",
     "text": [
      "evaluating n = 12\n",
      "evaluating p = 1\n",
      "evaluating p = 2\n",
      "evaluating p = 4\n",
      "evaluating p = 8\n",
      "evaluating p = 16\n",
      "evaluating n = 13\n",
      "evaluating p = 1\n",
      "evaluating p = 2\n",
      "evaluating p = 4\n",
      "evaluating p = 8\n",
      "evaluating p = 16\n"
     ]
    }
   ],
   "source": [
    "from k_sat.pytorch_solver.pytorch_circuit import PytorchCircuit\n",
    "\n",
    "k_e = k\n",
    "n_e = [12, 13] #[i in range(12, 21)]\n",
    "num_instances_e = 1000\n",
    "\n",
    "p_succ = {n : {} for n in n_e}\n",
    "\n",
    "for n in n_e:\n",
    "\tprint(f'evaluating n = {n}')\n",
    "\n",
    "\t# Read in random problems\n",
    "\tinstances_e = RandomKSAT.from_poisson(n=n, k=k, instances=num_instances_e, from_file=num_instances, calc_naive=True)\n",
    "\n",
    "\tfor (p, params) in optimal_params_r.items():\n",
    "\t\tprint(f'evaluating p = {p}')\n",
    "\n",
    "\t\t# Initialise QAOA circuit\n",
    "\t\tcircuit = PytorchCircuit(n, p, params[0], params[1])\n",
    "\n",
    "\t\t# Evolve each instance and take mean of p_succ\n",
    "\t\tprob = 0\n",
    "\t\tfor instance in instances_e.formulas:\n",
    "\t\t\tprob += circuit(instance.naive_counts, instance.naive_sats).item()\n",
    "\t\t\n",
    "\t\tp_succ[n][p] = prob/num_instances_e"
   ]
  },
  {
   "cell_type": "code",
   "execution_count": 8,
   "metadata": {},
   "outputs": [
    {
     "data": {
      "text/plain": [
       "{12: {1: 0.005663965009327512,\n",
       "  2: 0.016110116937546992,\n",
       "  4: 0.047392316383309666,\n",
       "  8: 0.12955711629998404,\n",
       "  16: 0.2895323381918715},\n",
       " 13: {1: 0.003642761912604328,\n",
       "  2: 0.011072542423382402,\n",
       "  4: 0.03519029043079354,\n",
       "  8: 0.10062992031819885,\n",
       "  16: 0.23709505256754346}}"
      ]
     },
     "execution_count": 8,
     "metadata": {},
     "output_type": "execute_result"
    }
   ],
   "source": [
    "p_succ"
   ]
  },
  {
   "cell_type": "code",
   "execution_count": 9,
   "metadata": {},
   "outputs": [],
   "source": [
    "import json\n",
    "parent_dir = os.path.dirname(os.getcwd())\n",
    "dir = f\"{parent_dir}/benchmark/instances\"\n",
    "with open(f'{dir}/p_succ.json', 'w') as f:\n",
    "    # Write the dictionary to the file as a JSON object with indentation\n",
    "    json.dump(p_succ, f)\n"
   ]
  }
 ],
 "metadata": {
  "kernelspec": {
   "display_name": "venv",
   "language": "python",
   "name": "python3"
  },
  "language_info": {
   "codemirror_mode": {
    "name": "ipython",
    "version": 3
   },
   "file_extension": ".py",
   "mimetype": "text/x-python",
   "name": "python",
   "nbconvert_exporter": "python",
   "pygments_lexer": "ipython3",
   "version": "3.8.10"
  },
  "orig_nbformat": 4,
  "vscode": {
   "interpreter": {
    "hash": "29f951cdabef12836e9083df8eafb20f1eb0d7cdacd07dedd12ec492edce1f03"
   }
  }
 },
 "nbformat": 4,
 "nbformat_minor": 2
}
