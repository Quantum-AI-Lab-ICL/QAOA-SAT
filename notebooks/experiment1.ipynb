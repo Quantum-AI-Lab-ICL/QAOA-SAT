{
 "cells": [
  {
   "cell_type": "code",
   "execution_count": 1,
   "metadata": {},
   "outputs": [],
   "source": [
    "import os\n",
    "import sys\n",
    "nb_dir = os.path.split(os.getcwd())[0]\n",
    "if nb_dir not in sys.path:\n",
    "    sys.path.append(nb_dir)"
   ]
  },
  {
   "attachments": {},
   "cell_type": "markdown",
   "metadata": {},
   "source": [
    "We follow the procedure outlined in 3.1.2.1 (Experiment 1)"
   ]
  },
  {
   "attachments": {},
   "cell_type": "markdown",
   "metadata": {},
   "source": [
    "Step 1: Generation of $\\underline{\\beta}, \\underline{\\gamma} \\in \\mathbb{R}^p$"
   ]
  },
  {
   "cell_type": "code",
   "execution_count": 2,
   "metadata": {},
   "outputs": [],
   "source": [
    "from benchmark.random_k_sat import RandomKSAT\n",
    "\n",
    "k = 8\n",
    "n = 12\n",
    "num_instances = 10\n",
    "\n",
    "# Generate 100 random problem instances from CNF(12, 8, r_k)\n",
    "instances = [RandomKSAT.from_poisson(n, k) for _ in range(num_instances)]"
   ]
  },
  {
   "cell_type": "code",
   "execution_count": 3,
   "metadata": {},
   "outputs": [
    {
     "ename": "KeyboardInterrupt",
     "evalue": "",
     "output_type": "error",
     "traceback": [
      "\u001b[0;31m---------------------------------------------------------------------------\u001b[0m",
      "\u001b[0;31mKeyboardInterrupt\u001b[0m                         Traceback (most recent call last)",
      "Cell \u001b[0;32mIn [3], line 19\u001b[0m\n\u001b[1;32m     16\u001b[0m qs \u001b[39m=\u001b[39m QuantumSolver(cnfs, layers\u001b[39m=\u001b[39mp, init_params\u001b[39m=\u001b[39minitial_params, quantum_instance\u001b[39m=\u001b[39mqi)\n\u001b[1;32m     18\u001b[0m \u001b[39m# Find and store optimal parameters\u001b[39;00m\n\u001b[0;32m---> 19\u001b[0m optimal_params[\u001b[39m1\u001b[39m] \u001b[39m=\u001b[39m qs\u001b[39m.\u001b[39;49mfind_optimal_params()\n",
      "File \u001b[0;32m~/Documents/QAOA-SAT/k_sat/quantum_solver.py:183\u001b[0m, in \u001b[0;36mQuantumSolver.find_optimal_params\u001b[0;34m(self)\u001b[0m\n\u001b[1;32m    177\u001b[0m \u001b[39m\"\"\"Finds parameters that minimise expectation of cost hamiltonian across all circuit outputs.\u001b[39;00m\n\u001b[1;32m    178\u001b[0m \n\u001b[1;32m    179\u001b[0m \u001b[39mReturns:\u001b[39;00m\n\u001b[1;32m    180\u001b[0m \u001b[39m    List[float]: Optimial parameters.\u001b[39;00m\n\u001b[1;32m    181\u001b[0m \u001b[39m\"\"\"\u001b[39;00m\n\u001b[1;32m    182\u001b[0m \u001b[39m# Construct circuit for each formula\u001b[39;00m\n\u001b[0;32m--> 183\u001b[0m circuits \u001b[39m=\u001b[39m [\u001b[39mself\u001b[39m\u001b[39m.\u001b[39mconstruct_circuit(cnf, \u001b[39mself\u001b[39m\u001b[39m.\u001b[39mlayers) \u001b[39mfor\u001b[39;00m cnf \u001b[39min\u001b[39;00m \u001b[39mself\u001b[39m\u001b[39m.\u001b[39mcnfs]\n\u001b[1;32m    185\u001b[0m \u001b[39mdef\u001b[39;00m \u001b[39mexecute_average\u001b[39m(param_values: List[\u001b[39mfloat\u001b[39m]) \u001b[39m-\u001b[39m\u001b[39m>\u001b[39m \u001b[39mfloat\u001b[39m:\n\u001b[1;32m    186\u001b[0m     \u001b[39m# Bind current set of (same) parameters to each circuit \u001b[39;00m\n\u001b[1;32m    187\u001b[0m     bound_circuits \u001b[39m=\u001b[39m [circuit\u001b[39m.\u001b[39mbind_parameters(param_values) \u001b[39mfor\u001b[39;00m circuit \u001b[39min\u001b[39;00m circuits]\n",
      "File \u001b[0;32m~/Documents/QAOA-SAT/k_sat/quantum_solver.py:183\u001b[0m, in \u001b[0;36m<listcomp>\u001b[0;34m(.0)\u001b[0m\n\u001b[1;32m    177\u001b[0m \u001b[39m\"\"\"Finds parameters that minimise expectation of cost hamiltonian across all circuit outputs.\u001b[39;00m\n\u001b[1;32m    178\u001b[0m \n\u001b[1;32m    179\u001b[0m \u001b[39mReturns:\u001b[39;00m\n\u001b[1;32m    180\u001b[0m \u001b[39m    List[float]: Optimial parameters.\u001b[39;00m\n\u001b[1;32m    181\u001b[0m \u001b[39m\"\"\"\u001b[39;00m\n\u001b[1;32m    182\u001b[0m \u001b[39m# Construct circuit for each formula\u001b[39;00m\n\u001b[0;32m--> 183\u001b[0m circuits \u001b[39m=\u001b[39m [\u001b[39mself\u001b[39;49m\u001b[39m.\u001b[39;49mconstruct_circuit(cnf, \u001b[39mself\u001b[39;49m\u001b[39m.\u001b[39;49mlayers) \u001b[39mfor\u001b[39;00m cnf \u001b[39min\u001b[39;00m \u001b[39mself\u001b[39m\u001b[39m.\u001b[39mcnfs]\n\u001b[1;32m    185\u001b[0m \u001b[39mdef\u001b[39;00m \u001b[39mexecute_average\u001b[39m(param_values: List[\u001b[39mfloat\u001b[39m]) \u001b[39m-\u001b[39m\u001b[39m>\u001b[39m \u001b[39mfloat\u001b[39m:\n\u001b[1;32m    186\u001b[0m     \u001b[39m# Bind current set of (same) parameters to each circuit \u001b[39;00m\n\u001b[1;32m    187\u001b[0m     bound_circuits \u001b[39m=\u001b[39m [circuit\u001b[39m.\u001b[39mbind_parameters(param_values) \u001b[39mfor\u001b[39;00m circuit \u001b[39min\u001b[39;00m circuits]\n",
      "File \u001b[0;32m~/Documents/QAOA-SAT/k_sat/quantum_solver.py:166\u001b[0m, in \u001b[0;36mQuantumSolver.construct_circuit\u001b[0;34m(self, cnf, p)\u001b[0m\n\u001b[1;32m    164\u001b[0m gamma \u001b[39m=\u001b[39m Parameter(\u001b[39mf\u001b[39m\u001b[39m\"\u001b[39m\u001b[39my_\u001b[39m\u001b[39m{\u001b[39;00mi\u001b[39m}\u001b[39;00m\u001b[39m\"\u001b[39m)\n\u001b[1;32m    165\u001b[0m \u001b[39mfor\u001b[39;00m clause \u001b[39min\u001b[39;00m cnf\u001b[39m.\u001b[39mclauses:\n\u001b[0;32m--> 166\u001b[0m     qc \u001b[39m=\u001b[39m \u001b[39mself\u001b[39;49m\u001b[39m.\u001b[39;49mencode_clause(clause, gamma, qc)\n\u001b[1;32m    168\u001b[0m \u001b[39m# Mixer gates\u001b[39;00m\n\u001b[1;32m    169\u001b[0m beta \u001b[39m=\u001b[39m Parameter(\u001b[39mf\u001b[39m\u001b[39m\"\u001b[39m\u001b[39mβ_\u001b[39m\u001b[39m{\u001b[39;00mi\u001b[39m}\u001b[39;00m\u001b[39m\"\u001b[39m)\n",
      "File \u001b[0;32m~/Documents/QAOA-SAT/k_sat/quantum_solver.py:132\u001b[0m, in \u001b[0;36mQuantumSolver.encode_clause\u001b[0;34m(self, clause, gamma, circuit)\u001b[0m\n\u001b[1;32m    130\u001b[0m \u001b[39m# Apply CNOT gates\u001b[39;00m\n\u001b[1;32m    131\u001b[0m \u001b[39mfor\u001b[39;00m j \u001b[39min\u001b[39;00m \u001b[39mrange\u001b[39m(\u001b[39m0\u001b[39m, i):\n\u001b[0;32m--> 132\u001b[0m     circuit\u001b[39m.\u001b[39;49mcx(comb[j]\u001b[39m.\u001b[39;49mid, comb[j \u001b[39m+\u001b[39;49m \u001b[39m1\u001b[39;49m]\u001b[39m.\u001b[39;49mid)\n\u001b[1;32m    134\u001b[0m \u001b[39m# Apply RZ gate\u001b[39;00m\n\u001b[1;32m    135\u001b[0m circuit\u001b[39m.\u001b[39mrz(angle \u001b[39m*\u001b[39m parity, comb[i]\u001b[39m.\u001b[39mid)\n",
      "File \u001b[0;32m~/Documents/QAOA-SAT/venv/lib/python3.8/site-packages/qiskit/circuit/quantumcircuit.py:3995\u001b[0m, in \u001b[0;36mQuantumCircuit.cx\u001b[0;34m(self, control_qubit, target_qubit, label, ctrl_state)\u001b[0m\n\u001b[1;32m   3977\u001b[0m \u001b[39mr\u001b[39m\u001b[39m\"\"\"Apply :class:`~qiskit.circuit.library.CXGate`.\u001b[39;00m\n\u001b[1;32m   3978\u001b[0m \n\u001b[1;32m   3979\u001b[0m \u001b[39mFor the full matrix form of this gate, see the underlying gate documentation.\u001b[39;00m\n\u001b[0;32m   (...)\u001b[0m\n\u001b[1;32m   3990\u001b[0m \u001b[39m    A handle to the instructions created.\u001b[39;00m\n\u001b[1;32m   3991\u001b[0m \u001b[39m\"\"\"\u001b[39;00m\n\u001b[1;32m   3993\u001b[0m \u001b[39mfrom\u001b[39;00m \u001b[39m.\u001b[39;00m\u001b[39mlibrary\u001b[39;00m\u001b[39m.\u001b[39;00m\u001b[39mstandard_gates\u001b[39;00m\u001b[39m.\u001b[39;00m\u001b[39mx\u001b[39;00m \u001b[39mimport\u001b[39;00m CXGate\n\u001b[0;32m-> 3995\u001b[0m \u001b[39mreturn\u001b[39;00m \u001b[39mself\u001b[39;49m\u001b[39m.\u001b[39;49mappend(\n\u001b[1;32m   3996\u001b[0m     CXGate(label\u001b[39m=\u001b[39;49mlabel, ctrl_state\u001b[39m=\u001b[39;49mctrl_state), [control_qubit, target_qubit], []\n\u001b[1;32m   3997\u001b[0m )\n",
      "File \u001b[0;32m~/Documents/QAOA-SAT/venv/lib/python3.8/site-packages/qiskit/circuit/quantumcircuit.py:1307\u001b[0m, in \u001b[0;36mQuantumCircuit.append\u001b[0;34m(self, instruction, qargs, cargs)\u001b[0m\n\u001b[1;32m   1305\u001b[0m     appender \u001b[39m=\u001b[39m \u001b[39mself\u001b[39m\u001b[39m.\u001b[39m_append\n\u001b[1;32m   1306\u001b[0m     requester \u001b[39m=\u001b[39m \u001b[39mself\u001b[39m\u001b[39m.\u001b[39m_resolve_classical_resource\n\u001b[0;32m-> 1307\u001b[0m instructions \u001b[39m=\u001b[39m InstructionSet(resource_requester\u001b[39m=\u001b[39;49mrequester)\n\u001b[1;32m   1308\u001b[0m \u001b[39mif\u001b[39;00m \u001b[39misinstance\u001b[39m(operation, Instruction):\n\u001b[1;32m   1309\u001b[0m     \u001b[39mfor\u001b[39;00m qarg, carg \u001b[39min\u001b[39;00m operation\u001b[39m.\u001b[39mbroadcast_arguments(expanded_qargs, expanded_cargs):\n",
      "File \u001b[0;32m~/Documents/QAOA-SAT/venv/lib/python3.8/site-packages/qiskit/circuit/instructionset.py:140\u001b[0m, in \u001b[0;36mInstructionSet.__init__\u001b[0;34m(self, circuit_cregs, resource_requester)\u001b[0m\n\u001b[1;32m    138\u001b[0m     \u001b[39mself\u001b[39m\u001b[39m.\u001b[39m_requester: Optional[Callable] \u001b[39m=\u001b[39m _requester_from_cregs(\u001b[39mtuple\u001b[39m(circuit_cregs))\n\u001b[1;32m    139\u001b[0m \u001b[39melse\u001b[39;00m:\n\u001b[0;32m--> 140\u001b[0m     \u001b[39mself\u001b[39;49m\u001b[39m.\u001b[39;49m_requester \u001b[39m=\u001b[39m resource_requester\n",
      "\u001b[0;31mKeyboardInterrupt\u001b[0m: "
     ]
    }
   ],
   "source": [
    "from k_sat.quantum_solver import QuantumSolver\n",
    "from qiskit import Aer\n",
    "\n",
    "# Statevector simulator for exact results\n",
    "qi = Aer.get_backend('aer_simulator_statevector')\n",
    "\n",
    "ps = [1] #, 4, 8, 30, 60]\n",
    "cnfs = [instance.formula for instance in instances]\n",
    "optimal_params = {}\n",
    "\n",
    "for p in ps:\n",
    "\n",
    "\t# Initialise gamma_i = -0.01, beta_i = 0.01 \n",
    "\tinitial_params = [-0.01, 0.01] * p\n",
    "\n",
    "\tqs = QuantumSolver(cnfs, layers=p, init_params=initial_params, quantum_instance=qi)\n",
    "\n",
    "\t# Find and store optimal parameters\n",
    "\toptimal_params[1] = qs.find_optimal_params()"
   ]
  }
 ],
 "metadata": {
  "kernelspec": {
   "display_name": "venv",
   "language": "python",
   "name": "python3"
  },
  "language_info": {
   "codemirror_mode": {
    "name": "ipython",
    "version": 3
   },
   "file_extension": ".py",
   "mimetype": "text/x-python",
   "name": "python",
   "nbconvert_exporter": "python",
   "pygments_lexer": "ipython3",
   "version": "3.8.10 (default, Nov 14 2022, 12:59:47) \n[GCC 9.4.0]"
  },
  "orig_nbformat": 4,
  "vscode": {
   "interpreter": {
    "hash": "29f951cdabef12836e9083df8eafb20f1eb0d7cdacd07dedd12ec492edce1f03"
   }
  }
 },
 "nbformat": 4,
 "nbformat_minor": 2
}
