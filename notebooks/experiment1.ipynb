{
 "cells": [
  {
   "cell_type": "code",
   "execution_count": 1,
   "metadata": {},
   "outputs": [],
   "source": [
    "import os\n",
    "import sys\n",
    "nb_dir = os.path.split(os.getcwd())[0]\n",
    "if nb_dir not in sys.path:\n",
    "    sys.path.append(nb_dir)"
   ]
  },
  {
   "attachments": {},
   "cell_type": "markdown",
   "metadata": {},
   "source": [
    "We follow the procedure outlined in 3.1.2.1 (Experiment 1)"
   ]
  },
  {
   "attachments": {},
   "cell_type": "markdown",
   "metadata": {},
   "source": [
    "Currently: \n",
    "\n",
    "* $n = 12$\n",
    "* $k = 8$\n",
    "* $p \\in \\{1, 2, 4, 8\\}$\n",
    "* training instances = $100$\n",
    "* evaluation instances = $1000$\n"
   ]
  },
  {
   "attachments": {},
   "cell_type": "markdown",
   "metadata": {},
   "source": [
    "Step 1: Generation of $\\underline{\\beta}, \\underline{\\gamma} \\in \\mathbb{R}^p$"
   ]
  },
  {
   "cell_type": "code",
   "execution_count": 2,
   "metadata": {},
   "outputs": [],
   "source": [
    "from benchmark.random_k_sat import RandomKSAT\n",
    "\n",
    "# Read in 100 randomly generated CNF(12, 8, r_8) instances\n",
    "num_instances = 100\n",
    "n = 12\n",
    "k = 8\n",
    "ps = [1, 2, 4, 8, 16]\n",
    "\n",
    "#instances = RandomKSAT.from_poisson(n=n, k=k, instances=num_instances, from_file=True, calc_naive=True)"
   ]
  },
  {
   "cell_type": "code",
   "execution_count": 5,
   "metadata": {},
   "outputs": [
    {
     "name": "stdout",
     "output_type": "stream",
     "text": [
      "Training for p = 1\n",
      "Epoch 0, p_succ: 0.0004537361965049058\n",
      "Epoch 10, p_succ: 0.005027129780501127\n",
      "Epoch 20, p_succ: 0.005658457055687904\n",
      "Epoch 30, p_succ: 0.005676239263266325\n",
      "Epoch 40, p_succ: 0.0056748115457594395\n",
      "Training for p = 2\n",
      "Epoch 0, p_succ: 0.00046280468814074993\n",
      "Epoch 10, p_succ: 0.013177448883652687\n",
      "Epoch 20, p_succ: 0.015451536513864994\n",
      "Epoch 30, p_succ: 0.01600099727511406\n",
      "Epoch 40, p_succ: 0.01601913571357727\n",
      "Training for p = 4\n",
      "Epoch 0, p_succ: 0.0004948906134814024\n",
      "Epoch 10, p_succ: 0.03825230523943901\n",
      "Epoch 20, p_succ: 0.045633066445589066\n",
      "Epoch 30, p_succ: 0.04776782542467117\n",
      "Epoch 40, p_succ: 0.04776553064584732\n",
      "Training for p = 8\n",
      "Epoch 0, p_succ: 0.0006186074460856616\n",
      "Epoch 10, p_succ: 0.1140500158071518\n",
      "Epoch 20, p_succ: 0.12178404629230499\n",
      "Epoch 30, p_succ: 0.12772956490516663\n",
      "Epoch 40, p_succ: 0.12977877259254456\n",
      "Epoch 50, p_succ: 0.13073483109474182\n",
      "Epoch 60, p_succ: 0.13094967603683472\n",
      "Training for p = 16\n",
      "Epoch 0, p_succ: 0.0011520512634888291\n",
      "Epoch 10, p_succ: 0.22847609221935272\n",
      "Epoch 20, p_succ: 0.26374682784080505\n",
      "Epoch 30, p_succ: 0.28574714064598083\n",
      "Epoch 40, p_succ: 0.2902962863445282\n",
      "Epoch 50, p_succ: 0.29241272807121277\n",
      "Epoch 60, p_succ: 0.2931966781616211\n",
      "Training for p = 24\n",
      "Epoch 0, p_succ: 0.0021648025140166283\n"
     ]
    },
    {
     "ename": "",
     "evalue": "",
     "output_type": "error",
     "traceback": [
      "\u001b[1;31mThe Kernel crashed while executing code in the the current cell or a previous cell. Please review the code in the cell(s) to identify a possible cause of the failure. Click <a href='https://aka.ms/vscodeJupyterKernelCrash'>here</a> for more info. View Jupyter <a href='command:jupyter.viewOutput'>log</a> for further details."
     ]
    },
    {
     "ename": "",
     "evalue": "",
     "output_type": "error",
     "traceback": [
      "\u001b[1;31mCanceled future for execute_request message before replies were done"
     ]
    }
   ],
   "source": [
    "import torch\n",
    "import h5py\n",
    "from k_sat.pytorch_solver.pytorch_circuit import PytorchCircuit\n",
    "from k_sat.pytorch_solver.pytorch_optimiser import PytorchOptimiser\n",
    "\n",
    "optimal_params = {}\n",
    "\n",
    "for p in ps:\n",
    "\tprint(f'Training for p = {p}')\n",
    "\tcircuit = PytorchCircuit(num_vars=n, layers=p)\n",
    "\tadam = torch.optim.Adam(circuit.parameters(), lr=0.1, maximize=True)\n",
    "\tepochs = 40 if p < 5 else 60\n",
    "\toptimiser = PytorchOptimiser(circuit, adam, epochs=epochs)\n",
    "\toptimiser.find_optimal_params(instances.formulas)\n",
    "\t# Save to file\n",
    "\tparent_dir = os.path.dirname(os.getcwd())\n",
    "\tdir = f\"{parent_dir}/benchmark/instances/n_{n}\"\n",
    "\twith h5py.File(f'{dir}/a_params_{p}.hdf5', 'w') as file:\n",
    "\t\tfile.create_dataset(f'gamma', data=circuit.gamma.detach().clone())\n",
    "\t\tfile.create_dataset(f'beta', data=circuit.beta.detach().clone())"
   ]
  },
  {
   "attachments": {},
   "cell_type": "markdown",
   "metadata": {},
   "source": [
    "Step 2: Evaluate on satisfiable CNF instances"
   ]
  },
  {
   "cell_type": "code",
   "execution_count": 3,
   "metadata": {},
   "outputs": [],
   "source": [
    "import h5py\n",
    "import torch\n",
    "\n",
    "# Read params in from file\n",
    "parent_dir = os.path.dirname(os.getcwd())\n",
    "dir = f\"{parent_dir}/benchmark/instances/n_{n}\"\n",
    "optimal_params_r = {}\n",
    "for p in ps:\n",
    "\twith h5py.File(f'{dir}/a_params_{p}.hdf5', 'r') as file:\n",
    "\t\tgamma = torch.from_numpy(file.get(f'gamma')[:])\n",
    "\t\tbeta = torch.from_numpy(file.get(f'beta')[:])\n",
    "\t\toptimal_params_r[p] = (gamma, beta)"
   ]
  },
  {
   "cell_type": "code",
   "execution_count": null,
   "metadata": {},
   "outputs": [],
   "source": [
    "from k_sat.pytorch_solver.pytorch_circuit import PytorchCircuit\n",
    "import json\n",
    "\n",
    "k_e = k\n",
    "n_e = [i for i in range(16, 20)]\n",
    "num_instances_e = 1000\n",
    "\n",
    "p_succ = {n : {} for n in n_e}\n",
    "\n",
    "for n in n_e:\n",
    "\tprint(f'evaluating n = {n}')\n",
    "\n",
    "\t# Read in random problems\n",
    "\tinstances_e = RandomKSAT.from_poisson(n=n, k=k, instances=num_instances_e, from_file=num_instances, calc_naive=True)\n",
    "\n",
    "\tfor (p, params) in optimal_params_r.items():\n",
    "\t\tprint(f'evaluating p = {p}')\n",
    "\n",
    "\t\t# Initialise QAOA circuit\n",
    "\t\tcircuit = PytorchCircuit(n, p, params[0], params[1])\n",
    "\n",
    "\t\t# Evolve each instance and take mean of p_succ\n",
    "\t\tprob = 0\n",
    "\t\tfor instance in instances_e.formulas:\n",
    "\t\t\th = instance.naive_counts\n",
    "\t\t\thS = instance.naive_sats\n",
    "\t\t\tprob += circuit(h, hS).item()\n",
    "\n",
    "\t\tprob = prob / num_instances_e\n",
    "\t\t\n",
    "\t\tp_succ[n][p] = prob\n",
    "\n",
    "\t\t# Save to file\n",
    "\t\tparent_dir = os.path.dirname(os.getcwd())\n",
    "\t\tdir = f\"{parent_dir}/benchmark/instances\"\n",
    "\t\twith open(f'{dir}/p_succ.json', 'r') as f:\n",
    "\t\t\tdata = json.load(f)\n",
    "\n",
    "\t\tdata[str(n)][p] = prob\n",
    "\n",
    "\t\twith open(f'{dir}/p_succ.json', 'w') as f:\n",
    "\t\t\tjson.dump(data, f)"
   ]
  }
 ],
 "metadata": {
  "kernelspec": {
   "display_name": "venv",
   "language": "python",
   "name": "python3"
  },
  "language_info": {
   "codemirror_mode": {
    "name": "ipython",
    "version": 3
   },
   "file_extension": ".py",
   "mimetype": "text/x-python",
   "name": "python",
   "nbconvert_exporter": "python",
   "pygments_lexer": "ipython3",
   "version": "3.8.10"
  },
  "orig_nbformat": 4,
  "vscode": {
   "interpreter": {
    "hash": "29f951cdabef12836e9083df8eafb20f1eb0d7cdacd07dedd12ec492edce1f03"
   }
  }
 },
 "nbformat": 4,
 "nbformat_minor": 2
}
