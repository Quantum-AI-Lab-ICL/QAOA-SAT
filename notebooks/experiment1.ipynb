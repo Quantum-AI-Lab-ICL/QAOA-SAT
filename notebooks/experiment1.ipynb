{
 "cells": [
  {
   "cell_type": "code",
   "execution_count": 1,
   "metadata": {},
   "outputs": [],
   "source": [
    "import os\n",
    "import sys\n",
    "nb_dir = os.path.split(os.getcwd())[0]\n",
    "if nb_dir not in sys.path:\n",
    "    sys.path.append(nb_dir)"
   ]
  },
  {
   "attachments": {},
   "cell_type": "markdown",
   "metadata": {},
   "source": [
    "We follow the procedure outlined in 3.1.2.1 (Experiment 1)"
   ]
  },
  {
   "attachments": {},
   "cell_type": "markdown",
   "metadata": {},
   "source": [
    "Step 1: Generation of $\\underline{\\beta}, \\underline{\\gamma} \\in \\mathbb{R}^p$"
   ]
  },
  {
   "cell_type": "code",
   "execution_count": 2,
   "metadata": {},
   "outputs": [],
   "source": [
    "# TODO: Split up optimiser into satisfy and assigment weight"
   ]
  },
  {
   "cell_type": "code",
   "execution_count": 3,
   "metadata": {},
   "outputs": [],
   "source": [
    "from benchmark.random_k_sat import RandomKSAT\n",
    "\n",
    "k = 3\n",
    "n = 8\n",
    "num_instances = 10\n",
    "\n",
    "# TODO: Generate 100 random problem instances from CNF(12, 8, r_k)\n",
    "instances = [RandomKSAT.from_poisson(n, k).formula for _ in range(num_instances)]"
   ]
  },
  {
   "cell_type": "code",
   "execution_count": 3,
   "metadata": {},
   "outputs": [],
   "source": [
    "from k_sat.quantum_solver.pauli_encoder import PauliEncoder\n",
    "from k_sat.quantum_solver.average_optimiser import AverageOptimiser\n",
    "\n",
    "ps = [1, 2] #, 4, 8, 30, 60]\n",
    "optimal_params = {}\n",
    "\n",
    "encoder = PauliEncoder()\n",
    "optimiser = AverageOptimiser()\n",
    "\n",
    "for p in ps:\n",
    "\n",
    "\t# Encode instances\n",
    "\ttraining_circuits = [(formula, encoder.encode_formula(formula, p)) for formula in instances]\n",
    "\n",
    "\t# Initialise gamma_i = -0.01, beta_i = 0.01 \n",
    "\tinitial_params = [-0.01, 0.01] * p\n",
    "\n",
    "\t# Find and store optimal paramters across instances\n",
    "\toptimal_params[p] = optimiser.find_optimal_params(initial_params, training_circuits)"
   ]
  },
  {
   "cell_type": "code",
   "execution_count": 4,
   "metadata": {},
   "outputs": [
    {
     "data": {
      "text/plain": [
       "{1: array([0.70722667, 0.41313836]),\n",
       " 2: array([ 0.49547756, -0.31445658,  0.99037807, -0.53995839])}"
      ]
     },
     "execution_count": 4,
     "metadata": {},
     "output_type": "execute_result"
    }
   ],
   "source": [
    "optimal_params"
   ]
  },
  {
   "cell_type": "code",
   "execution_count": 5,
   "metadata": {},
   "outputs": [
    {
     "name": "stdout",
     "output_type": "stream",
     "text": [
      "Samples drawn: 10\n"
     ]
    }
   ],
   "source": [
    "from k_sat.quantum_solver.qaoa_evaluator import QAOAEvaluator\n",
    "\n",
    "p_succ = {}\n",
    "running_times = {}\n",
    "\n",
    "# TODO: Evaluate parameters on 10000 random satisfiable instances\n",
    "for (p, params) in optimal_params.items():\n",
    "\tformula = RandomKSAT.from_poisson(n, k).formula\n",
    "\tcircuit = encoder.encode_formula(formula, p)\n",
    "\tevaluator = QAOAEvaluator(circuit, formula, params)\n",
    "\tp_succ[p] = evaluator.success_probability()\n",
    "\trunning_times[p] = evaluator.running_time(timeout=200)\n"
   ]
  },
  {
   "cell_type": "code",
   "execution_count": 6,
   "metadata": {},
   "outputs": [
    {
     "data": {
      "text/plain": [
       "{1: 0.11584136683334464, 2: 0.12523635976988026}"
      ]
     },
     "execution_count": 6,
     "metadata": {},
     "output_type": "execute_result"
    }
   ],
   "source": [
    "p_succ"
   ]
  },
  {
   "cell_type": "code",
   "execution_count": 7,
   "metadata": {},
   "outputs": [
    {
     "data": {
      "text/plain": [
       "{1: ('01111110', 2), 2: ('00110111', 19)}"
      ]
     },
     "execution_count": 7,
     "metadata": {},
     "output_type": "execute_result"
    }
   ],
   "source": [
    "running_times"
   ]
  }
 ],
 "metadata": {
  "kernelspec": {
   "display_name": "venv",
   "language": "python",
   "name": "python3"
  },
  "language_info": {
   "codemirror_mode": {
    "name": "ipython",
    "version": 3
   },
   "file_extension": ".py",
   "mimetype": "text/x-python",
   "name": "python",
   "nbconvert_exporter": "python",
   "pygments_lexer": "ipython3",
   "version": "3.8.10"
  },
  "orig_nbformat": 4,
  "vscode": {
   "interpreter": {
    "hash": "29f951cdabef12836e9083df8eafb20f1eb0d7cdacd07dedd12ec492edce1f03"
   }
  }
 },
 "nbformat": 4,
 "nbformat_minor": 2
}
