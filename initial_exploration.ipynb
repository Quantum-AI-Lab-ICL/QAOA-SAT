{
  "nbformat": 4,
  "nbformat_minor": 0,
  "metadata": {
    "colab": {
      "provenance": []
    },
    "kernelspec": {
      "name": "python3",
      "display_name": "Python 3"
    },
    "language_info": {
      "name": "python"
    }
  },
  "cells": [
    {
      "cell_type": "markdown",
      "source": [
        "# Quantum Approximate Optimisation for Boolean Satisfiability #\n",
        "$$\\newcommand{\\bra}[1]{\\langle #1|}\n",
        "\\newcommand{\\ket}[1]{|#1\\rangle} \n",
        "\\newcommand{\\ketx}{\\ket{\\u{x}}} \n",
        "\\newcommand{\\brax}{\\bra{\\u{x}}} \n",
        "\\newcommand{\\R}[1]{\\mathbb{R}^{#1}}\n",
        "\\newcommand{\\M}[2]{\\mathbb{R}^{#1 \\times #2}}\n",
        "\\newcommand{\\ux}{\\underline{x}}\n",
        "\\newcommand{\\u}[1]{\\underline{#1}}\n",
        "\\newcommand{\\ut}[1]{\\underline{#1}^T}\n",
        "\\newcommand{\\minb}{\\min\\limits_{\\u{x} \\in \\{0, 1 \\}^n}}\n",
        "\\newcommand{\\maxb}{\\max\\limits_{\\u{x} \\in \\{0, 1 \\}^n}}\n",
        "\\newcommand{\\sumb}{\\sum\\limits_{\\u{x} \\in \\{0, 1 \\}^n}}\n",
        "\\newcommand{\\sumbn}[1]{\\sum\\limits_{\\u{x} \\in \\{0, 1 \\}^{#1}}}\n",
        "\\newcommand{\\bn}{\\{0, 1\\}}\n",
        "\\newcommand{\\Z}{\\hat{\\sigma}^z}\n",
        "\\newcommand{\\X}{\\hat{\\sigma}^x}\n",
        "\\newcommand{\\be}{\\begin{equation}\\begin{split}}\n",
        "\\newcommand{\\en}{\\end{split}\\end{equation}}$$\n",
        "\n",
        "Andrew Elkadi, Roberto Bondesan"
      ],
      "metadata": {
        "id": "f2Z0llYB5LBC"
      }
    },
    {
      "cell_type": "code",
      "source": [
        "!pip install qiskit ipywidgets pylatexenc\n",
        "\n",
        "import networkx as nx\n",
        "import matplotlib.pyplot as plt\n",
        "import numpy as np\n",
        "\n",
        "from qiskit import Aer, QuantumCircuit\n",
        "from qiskit.circuit import Parameter\n",
        "from qiskit.visualization import plot_histogram\n",
        "\n",
        "from itertools import combinations\n",
        "from typing import Dict, List\n",
        "from scipy.optimize import minimize"
      ],
      "metadata": {
        "id": "KsZLTzuKOC5K",
        "colab": {
          "base_uri": "https://localhost:8080/"
        },
        "outputId": "ff57f1c1-a758-489d-ab5c-2a5f7a88defe"
      },
      "execution_count": null,
      "outputs": [
        {
          "output_type": "stream",
          "name": "stdout",
          "text": [
            "Looking in indexes: https://pypi.org/simple, https://us-python.pkg.dev/colab-wheels/public/simple/\n",
            "Requirement already satisfied: qiskit in /usr/local/lib/python3.7/dist-packages (0.39.2)\n",
            "Requirement already satisfied: ipywidgets in /usr/local/lib/python3.7/dist-packages (7.7.1)\n",
            "Requirement already satisfied: pylatexenc in /usr/local/lib/python3.7/dist-packages (2.10)\n",
            "Requirement already satisfied: qiskit-aer==0.11.1 in /usr/local/lib/python3.7/dist-packages (from qiskit) (0.11.1)\n",
            "Requirement already satisfied: qiskit-terra==0.22.2 in /usr/local/lib/python3.7/dist-packages (from qiskit) (0.22.2)\n",
            "Requirement already satisfied: qiskit-ibmq-provider==0.19.2 in /usr/local/lib/python3.7/dist-packages (from qiskit) (0.19.2)\n",
            "Requirement already satisfied: scipy>=1.0 in /usr/local/lib/python3.7/dist-packages (from qiskit-aer==0.11.1->qiskit) (1.7.3)\n",
            "Requirement already satisfied: numpy>=1.16.3 in /usr/local/lib/python3.7/dist-packages (from qiskit-aer==0.11.1->qiskit) (1.21.6)\n",
            "Requirement already satisfied: requests>=2.19 in /usr/local/lib/python3.7/dist-packages (from qiskit-ibmq-provider==0.19.2->qiskit) (2.23.0)\n",
            "Requirement already satisfied: websockets>=10.0 in /usr/local/lib/python3.7/dist-packages (from qiskit-ibmq-provider==0.19.2->qiskit) (10.4)\n",
            "Requirement already satisfied: urllib3>=1.21.1 in /usr/local/lib/python3.7/dist-packages (from qiskit-ibmq-provider==0.19.2->qiskit) (1.24.3)\n",
            "Requirement already satisfied: websocket-client>=1.0.1 in /usr/local/lib/python3.7/dist-packages (from qiskit-ibmq-provider==0.19.2->qiskit) (1.4.2)\n",
            "Requirement already satisfied: requests-ntlm>=1.1.0 in /usr/local/lib/python3.7/dist-packages (from qiskit-ibmq-provider==0.19.2->qiskit) (1.1.0)\n",
            "Requirement already satisfied: python-dateutil>=2.8.0 in /usr/local/lib/python3.7/dist-packages (from qiskit-ibmq-provider==0.19.2->qiskit) (2.8.2)\n",
            "Requirement already satisfied: tweedledum<2.0,>=1.1 in /usr/local/lib/python3.7/dist-packages (from qiskit-terra==0.22.2->qiskit) (1.1.1)\n",
            "Requirement already satisfied: stevedore>=3.0.0 in /usr/local/lib/python3.7/dist-packages (from qiskit-terra==0.22.2->qiskit) (3.5.2)\n",
            "Requirement already satisfied: typing-extensions in /usr/local/lib/python3.7/dist-packages (from qiskit-terra==0.22.2->qiskit) (4.1.1)\n",
            "Requirement already satisfied: psutil>=5 in /usr/local/lib/python3.7/dist-packages (from qiskit-terra==0.22.2->qiskit) (5.4.8)\n",
            "Requirement already satisfied: dill>=0.3 in /usr/local/lib/python3.7/dist-packages (from qiskit-terra==0.22.2->qiskit) (0.3.6)\n",
            "Requirement already satisfied: symengine>=0.9 in /usr/local/lib/python3.7/dist-packages (from qiskit-terra==0.22.2->qiskit) (0.9.2)\n",
            "Requirement already satisfied: importlib-metadata<5.0 in /usr/local/lib/python3.7/dist-packages (from qiskit-terra==0.22.2->qiskit) (4.13.0)\n",
            "Requirement already satisfied: sympy>=1.3 in /usr/local/lib/python3.7/dist-packages (from qiskit-terra==0.22.2->qiskit) (1.7.1)\n",
            "Requirement already satisfied: ply>=3.10 in /usr/local/lib/python3.7/dist-packages (from qiskit-terra==0.22.2->qiskit) (3.11)\n",
            "Requirement already satisfied: retworkx>=0.11.0 in /usr/local/lib/python3.7/dist-packages (from qiskit-terra==0.22.2->qiskit) (0.12.0)\n",
            "Requirement already satisfied: shared-memory38 in /usr/local/lib/python3.7/dist-packages (from qiskit-terra==0.22.2->qiskit) (0.1.2)\n",
            "Requirement already satisfied: zipp>=0.5 in /usr/local/lib/python3.7/dist-packages (from importlib-metadata<5.0->qiskit-terra==0.22.2->qiskit) (3.10.0)\n",
            "Requirement already satisfied: six>=1.5 in /usr/local/lib/python3.7/dist-packages (from python-dateutil>=2.8.0->qiskit-ibmq-provider==0.19.2->qiskit) (1.15.0)\n",
            "Requirement already satisfied: certifi>=2017.4.17 in /usr/local/lib/python3.7/dist-packages (from requests>=2.19->qiskit-ibmq-provider==0.19.2->qiskit) (2022.9.24)\n",
            "Requirement already satisfied: chardet<4,>=3.0.2 in /usr/local/lib/python3.7/dist-packages (from requests>=2.19->qiskit-ibmq-provider==0.19.2->qiskit) (3.0.4)\n",
            "Requirement already satisfied: idna<3,>=2.5 in /usr/local/lib/python3.7/dist-packages (from requests>=2.19->qiskit-ibmq-provider==0.19.2->qiskit) (2.10)\n",
            "Requirement already satisfied: ntlm-auth>=1.0.2 in /usr/local/lib/python3.7/dist-packages (from requests-ntlm>=1.1.0->qiskit-ibmq-provider==0.19.2->qiskit) (1.5.0)\n",
            "Requirement already satisfied: cryptography>=1.3 in /usr/local/lib/python3.7/dist-packages (from requests-ntlm>=1.1.0->qiskit-ibmq-provider==0.19.2->qiskit) (38.0.3)\n",
            "Requirement already satisfied: cffi>=1.12 in /usr/local/lib/python3.7/dist-packages (from cryptography>=1.3->requests-ntlm>=1.1.0->qiskit-ibmq-provider==0.19.2->qiskit) (1.15.1)\n",
            "Requirement already satisfied: pycparser in /usr/local/lib/python3.7/dist-packages (from cffi>=1.12->cryptography>=1.3->requests-ntlm>=1.1.0->qiskit-ibmq-provider==0.19.2->qiskit) (2.21)\n",
            "Requirement already satisfied: rustworkx==0.12.0 in /usr/local/lib/python3.7/dist-packages (from retworkx>=0.11.0->qiskit-terra==0.22.2->qiskit) (0.12.0)\n",
            "Requirement already satisfied: pbr!=2.1.0,>=2.0.0 in /usr/local/lib/python3.7/dist-packages (from stevedore>=3.0.0->qiskit-terra==0.22.2->qiskit) (5.11.0)\n",
            "Requirement already satisfied: mpmath>=0.19 in /usr/local/lib/python3.7/dist-packages (from sympy>=1.3->qiskit-terra==0.22.2->qiskit) (1.2.1)\n",
            "Requirement already satisfied: ipython>=4.0.0 in /usr/local/lib/python3.7/dist-packages (from ipywidgets) (7.9.0)\n",
            "Requirement already satisfied: ipython-genutils~=0.2.0 in /usr/local/lib/python3.7/dist-packages (from ipywidgets) (0.2.0)\n",
            "Requirement already satisfied: jupyterlab-widgets>=1.0.0 in /usr/local/lib/python3.7/dist-packages (from ipywidgets) (3.0.3)\n",
            "Requirement already satisfied: widgetsnbextension~=3.6.0 in /usr/local/lib/python3.7/dist-packages (from ipywidgets) (3.6.1)\n",
            "Requirement already satisfied: ipykernel>=4.5.1 in /usr/local/lib/python3.7/dist-packages (from ipywidgets) (5.3.4)\n",
            "Requirement already satisfied: traitlets>=4.3.1 in /usr/local/lib/python3.7/dist-packages (from ipywidgets) (5.1.1)\n",
            "Requirement already satisfied: tornado>=4.2 in /usr/local/lib/python3.7/dist-packages (from ipykernel>=4.5.1->ipywidgets) (6.0.4)\n",
            "Requirement already satisfied: jupyter-client in /usr/local/lib/python3.7/dist-packages (from ipykernel>=4.5.1->ipywidgets) (6.1.12)\n",
            "Requirement already satisfied: pickleshare in /usr/local/lib/python3.7/dist-packages (from ipython>=4.0.0->ipywidgets) (0.7.5)\n",
            "Requirement already satisfied: prompt-toolkit<2.1.0,>=2.0.0 in /usr/local/lib/python3.7/dist-packages (from ipython>=4.0.0->ipywidgets) (2.0.10)\n",
            "Requirement already satisfied: pexpect in /usr/local/lib/python3.7/dist-packages (from ipython>=4.0.0->ipywidgets) (4.8.0)\n",
            "Requirement already satisfied: jedi>=0.10 in /usr/local/lib/python3.7/dist-packages (from ipython>=4.0.0->ipywidgets) (0.18.1)\n",
            "Requirement already satisfied: setuptools>=18.5 in /usr/local/lib/python3.7/dist-packages (from ipython>=4.0.0->ipywidgets) (57.4.0)\n",
            "Requirement already satisfied: pygments in /usr/local/lib/python3.7/dist-packages (from ipython>=4.0.0->ipywidgets) (2.6.1)\n",
            "Requirement already satisfied: decorator in /usr/local/lib/python3.7/dist-packages (from ipython>=4.0.0->ipywidgets) (4.4.2)\n",
            "Requirement already satisfied: backcall in /usr/local/lib/python3.7/dist-packages (from ipython>=4.0.0->ipywidgets) (0.2.0)\n",
            "Requirement already satisfied: parso<0.9.0,>=0.8.0 in /usr/local/lib/python3.7/dist-packages (from jedi>=0.10->ipython>=4.0.0->ipywidgets) (0.8.3)\n",
            "Requirement already satisfied: wcwidth in /usr/local/lib/python3.7/dist-packages (from prompt-toolkit<2.1.0,>=2.0.0->ipython>=4.0.0->ipywidgets) (0.2.5)\n",
            "Requirement already satisfied: notebook>=4.4.1 in /usr/local/lib/python3.7/dist-packages (from widgetsnbextension~=3.6.0->ipywidgets) (5.7.16)\n",
            "Requirement already satisfied: nbformat in /usr/local/lib/python3.7/dist-packages (from notebook>=4.4.1->widgetsnbextension~=3.6.0->ipywidgets) (5.7.0)\n",
            "Requirement already satisfied: Send2Trash in /usr/local/lib/python3.7/dist-packages (from notebook>=4.4.1->widgetsnbextension~=3.6.0->ipywidgets) (1.8.0)\n",
            "Requirement already satisfied: terminado>=0.8.1 in /usr/local/lib/python3.7/dist-packages (from notebook>=4.4.1->widgetsnbextension~=3.6.0->ipywidgets) (0.13.3)\n",
            "Requirement already satisfied: jupyter-core>=4.4.0 in /usr/local/lib/python3.7/dist-packages (from notebook>=4.4.1->widgetsnbextension~=3.6.0->ipywidgets) (4.11.2)\n",
            "Requirement already satisfied: prometheus-client in /usr/local/lib/python3.7/dist-packages (from notebook>=4.4.1->widgetsnbextension~=3.6.0->ipywidgets) (0.15.0)\n",
            "Requirement already satisfied: jinja2<=3.0.0 in /usr/local/lib/python3.7/dist-packages (from notebook>=4.4.1->widgetsnbextension~=3.6.0->ipywidgets) (2.11.3)\n",
            "Requirement already satisfied: nbconvert<6.0 in /usr/local/lib/python3.7/dist-packages (from notebook>=4.4.1->widgetsnbextension~=3.6.0->ipywidgets) (5.6.1)\n",
            "Requirement already satisfied: pyzmq>=17 in /usr/local/lib/python3.7/dist-packages (from notebook>=4.4.1->widgetsnbextension~=3.6.0->ipywidgets) (23.2.1)\n",
            "Requirement already satisfied: MarkupSafe>=0.23 in /usr/local/lib/python3.7/dist-packages (from jinja2<=3.0.0->notebook>=4.4.1->widgetsnbextension~=3.6.0->ipywidgets) (2.0.1)\n",
            "Requirement already satisfied: entrypoints>=0.2.2 in /usr/local/lib/python3.7/dist-packages (from nbconvert<6.0->notebook>=4.4.1->widgetsnbextension~=3.6.0->ipywidgets) (0.4)\n",
            "Requirement already satisfied: testpath in /usr/local/lib/python3.7/dist-packages (from nbconvert<6.0->notebook>=4.4.1->widgetsnbextension~=3.6.0->ipywidgets) (0.6.0)\n",
            "Requirement already satisfied: pandocfilters>=1.4.1 in /usr/local/lib/python3.7/dist-packages (from nbconvert<6.0->notebook>=4.4.1->widgetsnbextension~=3.6.0->ipywidgets) (1.5.0)\n",
            "Requirement already satisfied: bleach in /usr/local/lib/python3.7/dist-packages (from nbconvert<6.0->notebook>=4.4.1->widgetsnbextension~=3.6.0->ipywidgets) (5.0.1)\n",
            "Requirement already satisfied: defusedxml in /usr/local/lib/python3.7/dist-packages (from nbconvert<6.0->notebook>=4.4.1->widgetsnbextension~=3.6.0->ipywidgets) (0.7.1)\n",
            "Requirement already satisfied: mistune<2,>=0.8.1 in /usr/local/lib/python3.7/dist-packages (from nbconvert<6.0->notebook>=4.4.1->widgetsnbextension~=3.6.0->ipywidgets) (0.8.4)\n",
            "Requirement already satisfied: fastjsonschema in /usr/local/lib/python3.7/dist-packages (from nbformat->notebook>=4.4.1->widgetsnbextension~=3.6.0->ipywidgets) (2.16.2)\n",
            "Requirement already satisfied: jsonschema>=2.6 in /usr/local/lib/python3.7/dist-packages (from nbformat->notebook>=4.4.1->widgetsnbextension~=3.6.0->ipywidgets) (4.3.3)\n",
            "Requirement already satisfied: attrs>=17.4.0 in /usr/local/lib/python3.7/dist-packages (from jsonschema>=2.6->nbformat->notebook>=4.4.1->widgetsnbextension~=3.6.0->ipywidgets) (22.1.0)\n",
            "Requirement already satisfied: importlib-resources>=1.4.0 in /usr/local/lib/python3.7/dist-packages (from jsonschema>=2.6->nbformat->notebook>=4.4.1->widgetsnbextension~=3.6.0->ipywidgets) (5.10.0)\n",
            "Requirement already satisfied: pyrsistent!=0.17.0,!=0.17.1,!=0.17.2,>=0.14.0 in /usr/local/lib/python3.7/dist-packages (from jsonschema>=2.6->nbformat->notebook>=4.4.1->widgetsnbextension~=3.6.0->ipywidgets) (0.19.2)\n",
            "Requirement already satisfied: ptyprocess in /usr/local/lib/python3.7/dist-packages (from terminado>=0.8.1->notebook>=4.4.1->widgetsnbextension~=3.6.0->ipywidgets) (0.7.0)\n",
            "Requirement already satisfied: webencodings in /usr/local/lib/python3.7/dist-packages (from bleach->nbconvert<6.0->notebook>=4.4.1->widgetsnbextension~=3.6.0->ipywidgets) (0.5.1)\n"
          ]
        }
      ]
    },
    {
      "cell_type": "markdown",
      "source": [
        "# Adiabatic Quantum Computing #\n",
        "\n",
        "*Adiabatic theorem:* If the Hamiltonian of a quantum state is perturbed slowly enough, the system will remain in its initial eigenstate.\n",
        "\n",
        "I defer the formalisms and proofs to my Quantum Mechanics II module!\n",
        "\n",
        "Adiabatic Quantum Computing:\n",
        "\n",
        "1. Encode problem as a Hamiltonian $\\hat{H}_P$ whose ground state is the problem solution\n",
        "2. Prepare the quantum system in the ground state of a simple Hamiltonian $\\hat{H}_S$\n",
        "3. Adiabatically (slowly) evolve $\\hat{H}(t) = (1 - \\frac{t}{T})\\hat{H}_S + \\frac{t}{T}\\hat{H}_P $\n",
        "\n",
        "I.e. we are left in the problem solution state if we evolve slowly enough."
      ],
      "metadata": {
        "id": "PRF3SL3j-sl7"
      }
    },
    {
      "cell_type": "markdown",
      "source": [
        "## Trotterization ##\n",
        "\n",
        "But how do we acually evolve a system under such a $\\hat{H}(t)$?\n",
        "\n",
        "Consider a Hamiltonian $\\hat{H}_A = \\hat{H}_B + \\hat{H}_C$.\n",
        "\n",
        "The corresponding unitary evolution operator is: $$\\hat{U}_A = e^{\\frac{it}{\\hbar}\\hat{H}_A} = e^{\\frac{it}{\\hbar}(\\hat{H}_B + \\hat{H}_C)} = e^{\\frac{it}{\\hbar}\\hat{H}_B}e^{\\frac{it}{\\hbar}\\hat{H}_C} \\iff [\\hat{H}_B, \\hat{H}_C] = 0$$\n",
        "\n",
        "In situations where $[\\hat{H}_B, \\hat{H}_C] \\neq 0$, we resort to the Trotter-Suzuki expansion:\n",
        "\n",
        "$$e^{\\frac{it}{\\hbar}(\\hat{H}_B + \\hat{H}_C)} = \\lim\\limits_{\\tau \\rightarrow \\infty}(e^{\\frac{i}{\\hbar}\\hat{H}_B\\frac{t}{\\tau}}e^{\\frac{i}{\\hbar}\\hat{H}_C\\frac{t}{\\tau}})^\\tau$$\n",
        "\n",
        "Allowing us to approximate:\n",
        "\n",
        "$$e^{\\frac{it}{\\hbar}(\\hat{H}_B + \\hat{H}_C)} \\approx (e^{\\frac{i}{\\hbar}\\hat{H}_B\\frac{t}{\\tau}}e^{\\frac{i}{\\hbar}\\hat{H}_C\\frac{t}{\\tau}})^\\tau$$ for some $\\tau \\in \\mathbb{R}^+$\n",
        "\n",
        "I.e we mimic the sum of the Hamiltonians by evolving the system in an alternating fashion."
      ],
      "metadata": {
        "id": "eHLTsVYkJB8f"
      }
    },
    {
      "cell_type": "markdown",
      "source": [
        "# Quadratic Programs #\n",
        "A quadratic program is an optimsation problem with:\n",
        "\n",
        "*   A quadratic objective function\n",
        "*   Linear and quadratic constraints\n",
        "\n",
        "Formally:\n",
        "\n",
        "$$\\min\\limits_{\\u{x} \\in \\R{n}} \\ut{x}Q\\u{x} + \\ut{c} \\u{x}$$\n",
        "\n",
        "subject to:\n",
        "\n",
        "$$ A\\u{x} \\preccurlyeq \\u{b}$$\n",
        "\n",
        "where: $\\space Q \\in \\M{n}{n} \\space \\text{symmetric}, \\space \\u{c} \\in \\R{n}, A \\in \\M{m}{m}, \\space \\u{b} \\in \\R{m}$\n",
        "\n",
        "N.B. $\\preccurlyeq$ is component wise comparison."
      ],
      "metadata": {
        "id": "nXtzFdkw_PCY"
      }
    },
    {
      "cell_type": "markdown",
      "source": [
        "## Quadratic Unconstrained Binary Optimisation (QUBO) ##\n",
        "\n",
        "This is a special case of a quadratic program, where:\n",
        "\n",
        "\n",
        "*   There are no constraints\n",
        "*   Binary variables are considered for optimisation\n",
        "\n",
        "Formally:\n",
        "\n",
        "$$\\minb \\space \\ut{x}Q\\u{x} + \\ut{c} \\u{x}$$\n",
        "\n",
        "where: $\\space Q \\in \\M{n}{n} \\text{symmetric}, \\space \\u{c} \\in \\R{n}$\n",
        "\n"
      ],
      "metadata": {
        "id": "5s4RDRhUFsDv"
      }
    },
    {
      "cell_type": "markdown",
      "source": [
        "# Quantum Approximate Optimisation Algorithm (QAOA)#\n",
        "\n",
        "QAOA finds approximate solutions for optimisation problems by encoding the objective function as a Hamiltonian.\n",
        "\n",
        "It is a layerised variational form based on the trotterised adiabatic process and an instance of a Variational Quantum Eigensolver (VQE).\n",
        "\n",
        "N.B. An approximation algorithm for a minimisation problem is *k-optimal* if it guarantees a solution which is not more than *k* times optimal than the true solution.\n",
        "\n",
        "Classically, it is *NP-Hard* to be more than *0.941-optimal*.\n",
        "\n"
      ],
      "metadata": {
        "id": "bh5E6EgbIIb8"
      }
    },
    {
      "cell_type": "markdown",
      "source": [
        "## Overview of QAOA ##\n",
        "\n",
        "We take inspiration from Adiabatic Quantum Computing which we briefly explored above.\n",
        "\n",
        "We encode some cost function $C(\\u{x})$ as a hamiltonian $\\hat{H}_{cost}$ s.t:\n",
        "\n",
        "$$\\hat{H}_{cost} \\ket{x} = C(\\u{x})\\ketx$$\n",
        "\n",
        "where $\\ketx$ is the computational basis state corresponding to $\\u{x}$.\n",
        "\n",
        "Finding \n",
        "\n",
        "$$\\minb C(\\u{x})$$ \n",
        "\n",
        "corresponds to finding \n",
        "\n",
        "$$\\minb \\brax \\hat{H}_{cost} \\ketx$$ \n",
        "\n",
        "We reformulate this as a maximisation problem\n",
        "\n",
        "$$\\maxb \\brax \\hat{H}_C \\ketx$$\n",
        "\n",
        "where $\\hat{H}_C = - \\hat{H}_{cost}$\n",
        "\n",
        "In other words, we seek the highest energy state of $\\hat{H}_C$ - the equivalent of our adiabatic *problem* hamiltonian $\\hat{H}_P$.\n",
        "\n",
        "Adiabatically, we would evolve the highest energy state of a *simple* hamiltonian $\\hat{H}_S$ into the highest energy state of $\\hat{H}_C$ to find the solution to the minimisation problem.\n",
        "\n",
        "QAOA approximates this adiabatic process using the trotterisation we explored above. In this spirit, we consider a *mixer* hamiltonian $\\hat{H}_B$ that corresponds to the adiabatic simple hamiltonian $\\hat{H}_S$ and define the following unitary operators:\n",
        "\n",
        "$$\\hat{U}_B(\\beta) = e^{-i\\beta \\hat{H}_B} \\\\\n",
        "\\hat{U}_C(\\gamma) = e^{-i\\gamma \\hat{H}_C} $$ \n",
        "\n",
        "Let $$\\hat{H} = \\hat{H}_B + \\hat{H}_C$$\n",
        "\n",
        "The corresponding unitary evolution operator\n",
        "$$\\hat{U}(t) = e^{\\frac{-it}{\\hbar}\\hat{H}} = e^{\\frac{-it}{\\hbar}(\\hat{H}_B + \\hat{H}_C)}$$\n",
        "\n",
        "Is trotterised as: \n",
        "\n",
        "$$\\hat{U}(t) = e^{\\frac{it}{\\hbar}(\\hat{H}_B + \\hat{H}_C)} = \\lim\\limits_{\\tau \\rightarrow \\infty} (e^{\\frac{i}{\\hbar}\\hat{H}_B\\frac{t}{\\tau}}e^{\\frac{i}{\\hbar}\\hat{H}_C\\frac{t}{\\tau}})^\\tau$$\n",
        "\n",
        "Which we approximate as\n",
        "\n",
        "$$ \\hat{U}(t) \\approx ∏\\limits_{i = 1}^{p}\\hat{U}_B(\\beta_i)\\hat{U}_C(\\gamma_i) $$\n",
        "\n",
        "for some $p \\in \\mathbb{N}$ as per the earlier section on trotterization.\n",
        "\n",
        "The QAOA procedure involves iteratively repeating the following, updating $\\u{\\gamma} = \\gamma_1, \\dots, \\gamma_p$ and $\\u{\\beta} = \\beta_1, \\dots, \\beta_p$ until some convergence criteria is met in relation to minimising the objective function:\n",
        "1.   Preparation of the highest energy state $\\ket{s}$ of $\\hat{H}_B$\n",
        "2.   $p$ applications of the cost and mixing *layers* in an alternating fashion to form $\\ket{\\u{\\gamma}, \\u{\\beta}}_p = ∏\\limits_{i = 1}^{p}\\hat{U}_B(\\beta_i)\\hat{U}_C(\\gamma_i)\\ket{s}$\n",
        "3.   Calculate $\\bra{\\u{\\gamma}, \\u{\\beta}}\\hat{H}_C\\ket{\\u{\\gamma}, \\u{\\beta}}_p$ \n",
        "\n",
        "Using\n",
        "$$\\ket{\\u{\\gamma}, \\u{\\beta}}_p = ∏\\limits_{i = 1}^{p}\\hat{U}_B(\\beta_i)\\hat{U}_C(\\gamma_i)\\ket{s}$$\n",
        "let \n",
        "$$F_p = \\bra{\\u{\\gamma}, \\u{\\beta}}\\hat{H}_C\\ket{\\u{\\gamma}, \\u{\\beta}}_p$$\n",
        "we define:\n",
        "$$M_p = \\max\\limits_{\\u{\\gamma},\\u{\\beta}} F_p$$\n",
        "\n",
        "Note that: \n",
        "$$M_{p+1} \\geq M_p$$ \n",
        "\n",
        "because increasing the depth of the circuit can only mean access to a larger Hilbert space.\n",
        "\n",
        "By adiabatic considerations:\n",
        "\n",
        "$$\\lim\\limits_{p \\rightarrow \\infty} M_p = \\minb C(\\u{x}) $$\n",
        "\n",
        "but these considerations give no guarantees for finite $p$...\n"
      ],
      "metadata": {
        "id": "njbUv9srhkRr"
      }
    },
    {
      "cell_type": "markdown",
      "source": [
        "## Choosing Hamiltonians ##\n",
        "\n",
        "An immediate question to consider is why trotterisation is even required. Could we not choose $\\hat{H}_C, \\hat{H}_B$ s.t. $[\\hat{H}_C, \\hat{H}_B] = 0$?\n",
        "\n",
        "In reality, it is exactly the non-commutativity of the hamiltonians that gives QAOA it's *expressivity*. I.e. allows it to explore the Hilbert space.\n",
        "\n",
        "Recall (Quantum Mechanics 1):\n",
        "\n",
        "$$[\\hat{H}_C, \\hat{H}_B] = 0 \\Rightarrow \\hat{H}_C, \\hat{H}_B \\space \\text{share a common eigenbasis.} $$\n",
        "\n",
        "I.e. choosing $[\\hat{H}_C, \\hat{H}_B] = 0$ would only affect the global phases of states in our circuit, which would result in no impact to the measurement outcomes.\n",
        "\n"
      ],
      "metadata": {
        "id": "0lIILNiOGrlp"
      }
    },
    {
      "cell_type": "markdown",
      "source": [
        "### Mixer Hamiltonians ###\n",
        "\n",
        "While not neccessary, many QAOA algorithms choose:\n",
        "\n",
        "$$\\hat{H}_B = \\sum\\limits_{i = 1}^n \\X_i $$\n",
        "\n",
        "with corresponding $\\ket{+}^n = \\frac{1}{\\sqrt{2^n}} \\sumb \\ketx$ the highest energy eigenstate.\n",
        "\n",
        "The unitary operator that corresponds to this is as follows:\n",
        "\n",
        "$$\\hat{U}_B(\\beta) = e^{-i\\beta \\hat{H}_B} = e^{-i\\beta \\sum\\limits_{i = 1}^n \\X_i } = \\prod\\limits_{i = 1}^n e^{-i\\beta\\X_i} = \\prod\\limits_{i = 1}^n R_{X_i}(2\\beta)$$\n",
        "\n",
        "Where $R_{X_i}(\\theta)$ is the operator corresponding to a rotation of the $i^{th}$ qubit by $\\theta$ about the x-axis on the bloch sphere and we've used the fact that $[\\X_i, \\X_j] = 0$\n",
        "\n",
        "As a circuit (where we let $n = 3$):\n"
      ],
      "metadata": {
        "id": "53l1hM4lKE4l"
      }
    },
    {
      "cell_type": "code",
      "source": [
        "n = 3\n",
        "mixer = QuantumCircuit(n)\n",
        "angle = Parameter(\"2β\")\n",
        "for qubit in mixer.qubits:\n",
        "  mixer.rx(angle, qubit)\n",
        "\n",
        "mixer.draw(\"mpl\")"
      ],
      "metadata": {
        "colab": {
          "base_uri": "https://localhost:8080/",
          "height": 185
        },
        "id": "J-rLQOJDPZsJ",
        "outputId": "3753584c-f60e-4eec-baa9-024e6e7db58a"
      },
      "execution_count": null,
      "outputs": [
        {
          "output_type": "execute_result",
          "data": {
            "text/plain": [
              "<Figure size 146.797x204.68 with 1 Axes>"
            ],
            "image/png": "[encoded data removed]"
          },
          "metadata": {},
          "execution_count": 2
        }
      ]
    },
    {
      "cell_type": "markdown",
      "source": [
        "### Cost Hamiltonians for QUBO instances ###\n",
        "\n",
        "We seek to encode \n",
        "\n",
        "$$C(\\u{x}) := \\ut{x}Q\\u{x} + \\ut{c} \\u{x} $$ \n",
        "\n",
        "as a hamiltonian $\\hat{H}_{cost}$ s.t:\n",
        "\n",
        "$$\\hat{H}_{cost} \\ket{x} = C(\\u{x})\\ketx$$\n",
        "\n",
        "where $\\ketx$ is the computational basis state corresponding to $\\u{x}$.\n",
        "\n",
        "Recall the Pauli-Z operator:\n",
        "\n",
        "$$ \\Z = \\ket{0}\\bra{0} - \\ket{1}\\bra{1} $$\n",
        "\n",
        "We consider the multi qubit version, s.t:\n",
        "\n",
        "$$ \\Z_i \\ketx = (-1)^{x_i}\\ketx = (1 - 2x_i)\\ketx$$\n",
        "\n",
        "$$\\Rightarrow \\frac{1}{2}(\\mathbb{I} - \\Z_i)\\ketx = \\frac{1}{2}(1 - (1 - 2x_i))\\ketx = x_i\\ketx $$\n",
        "\n",
        "Define $\\hat{\\chi}_i = \\frac{1}{2}(\\mathbb{I} - \\Z_i)$ and let\n",
        "\n",
        "$$ \\hat{H}_{cost} = \\sum_{i, j = 1}^n Q_{ij}\\hat{\\chi}_i \\hat{\\chi}_j + \\sum_{i = 1}^n c_i\\hat{\\chi}_i$$\n",
        "\n",
        "It is clear that\n",
        "\n",
        "$$\\hat{H}_{cost} \\ket{x} = C(\\u{x})\\ketx$$\n",
        "\n",
        "We will explore other problem instances (higher order than QUBO) further on in this notebook.\n",
        "\n",
        "We expand and group $\\hat{H}_{cost}$ in quadratic, linear and constant terms:\n",
        "\n",
        "$$\\hat{H}_{cost} = \\sum\\limits_{i, j = 1}^n \\frac{1}{4} Q_{ij}\\Z_i\\Z_j -\\sum\\limits_{i, j = 1}^n \\frac{1}{4} Q_{ij}(\\Z_i + \\Z_j) + \\frac{1}{2}c_i\\Z_i + \\left(\\sum\\limits_{i, j = 1}^n \\frac{1}{4} Q_{ij} + \\sum\\limits_{i = 1}^n \\frac{1}{2}c_i\\right)\\mathbb{I}$$ \n",
        "\n",
        "The constant term does not change the minimisation problem since it adds the same value to every eigenvalue, so we can ignore it.\n",
        "\n",
        "$$\n",
        "\\be\n",
        "\\rightarrow \\hat{H}_{cost} &= \\sum\\limits_{i, j = 1}^n \\frac{1}{4} Q_{ij}\\Z_i\\Z_j -\\sum\\limits_{i, j = 1}^n \\frac{1}{4} Q_{ij}(\\Z_i + \\Z_j) + \\frac{1}{2}c_i\\Z_i \\\\\n",
        "&= \\sum\\limits_{i, j = 1}^n \\frac{1}{4} Q_{ij}\\Z_i\\Z_j -\\sum\\limits_{i, j = 1}^n \\frac{1}{2} (Q_{ij} + c_i)\\Z_i \\\\\n",
        "\\Rightarrow \\hat{H}_C &= \\sum\\limits_{i, j = 1}^n \\frac{1}{2} (Q_{ij} + c_i)\\Z_i - \\sum\\limits_{i, j = 1}^n \\frac{1}{4} Q_{ij}\\Z_i\\Z_j \n",
        "\\en$$\n",
        "\n",
        "where we've used the fact that $Q$ is symmetric to simplify\n",
        "$$\\sum\\limits_{i, j = 1}^n \\frac{1}{4} Q_{ij}(\\Z_i + \\Z_j) = \\sum\\limits_{i, j = 1}^n \\frac{1}{2}Q_{ij}\\Z_i$$\n",
        "\n",
        "The unitary operator that corresponds to this, is as follows:\n",
        "\n",
        "$$\n",
        "\\begin{equation}\n",
        "\\begin{split}\n",
        "\\hat{U}_C(\\gamma) \n",
        "= e^{-i\\gamma \\hat{H}_C} &= e^{i\\gamma \\left(\\sum\\limits_{i, j = 1}^n \\frac{1}{4} Q_{ij}\\Z_i\\Z_j -\\sum\\limits_{i, j = 1}^n \\frac{1}{2} (Q_{ij} + c_i)\\Z_i\\right)} \\\\\n",
        "&= \\prod\\limits_{i,j = 1}^n e^{i\\gamma \\frac{1}{4} Q_{ij}\\Z_i\\Z_j}\\prod\\limits_{i, j = 1}^n e^{-i\\gamma \\frac{1}{2} (Q_{ij} + c_i)\\Z_i} \\\\\n",
        "&= \\prod\\limits_{i, j, k, l = 1}^n R_{Z_iZ_j}\\left(-\\frac{1}{2}Q_{ij}\\gamma\\right)R_{Z_k}\\left(\\gamma\\sum\\limits_{l = 1}^n Q_{kl} + c_k\\right) \\\\\n",
        ":&= \\prod\\limits_{i, j, k, l = 1}^n R_{Z_iZ_j}(\\omega_{ij}\\gamma)R_{Z_k}(\\Omega_{k}\\gamma)\n",
        "\\end{split}\n",
        "\\end{equation}\n",
        "$$\n",
        "\n",
        "Where:\n",
        "* $R_{Z_i}(\\theta)$ is the operator corresponding to a rotation of the $i^{th}$ qubit by $\\theta$ about the z-axis on the bloch sphere\n",
        "* $R_{Z_iZ_j}(\\theta)$ is the operator corresponding to a rotation of the $j^{th}$ qubit by $\\theta$ about the z-axis on the bloch sphere, controlled by the $i^{th}$ qubit\n",
        "* We've used the fact that $[\\Z_i, \\Z_j] = 0$\n",
        "\n",
        "As a circuit (where we let $n = 3$):\n",
        "\n"
      ],
      "metadata": {
        "id": "RGiIIbzdYJ30"
      }
    },
    {
      "cell_type": "code",
      "source": [
        "# N.B. this is simply for demonstration purposes, we would actually only have\n",
        "# gamma and as a parameter and multiply the omegas within the gates\n",
        "\n",
        "n = 3\n",
        "cost = QuantumCircuit(n)\n",
        "params_single = [Parameter(f'γΩ_{i}') for i in range(n)]\n",
        "params_control = [Parameter(f'γω_{i}{j}') for i in range(n) for j in range(i)]\n",
        "\n",
        "for (param, qubit) in zip(params_single, cost.qubits):\n",
        "  cost.rz(param, qubit)\n",
        "\n",
        "qubit_pairs = combinations(cost.qubits, 2)\n",
        "controlled_rotations = zip(params_control, qubit_pairs)\n",
        "\n",
        "for (param, (qubit1, qubit2)) in controlled_rotations:\n",
        "  cost.rzz(param, qubit1, qubit2)\n",
        "\n",
        "cost.draw(\"mpl\")"
      ],
      "metadata": {
        "colab": {
          "base_uri": "https://localhost:8080/",
          "height": 185
        },
        "id": "ecTwsxIJaTg3",
        "outputId": "8e4f8142-d1f0-4797-9321-23e99ef11c55"
      },
      "execution_count": null,
      "outputs": [
        {
          "output_type": "execute_result",
          "data": {
            "text/plain": [
              "<Figure size 507.997x204.68 with 1 Axes>"
            ],
            "image/png": "[encoded data removed]"
          },
          "metadata": {},
          "execution_count": 3
        }
      ]
    },
    {
      "cell_type": "markdown",
      "source": [
        "## QAOA Circuit ##\n",
        "\n",
        "Piecing together our circuits above along with the preparation of our initial state, we construct the following circuit (where we let $n = 3$ and $p=1$).\n",
        "\n"
      ],
      "metadata": {
        "id": "TulIaXa_RJuw"
      }
    },
    {
      "cell_type": "code",
      "source": [
        "n = 3\n",
        "qaoa = QuantumCircuit(n)\n",
        "\n",
        "# Prepare initial state with Hadamard gates\n",
        "for qubit in qaoa.qubits:\n",
        "  qaoa.h(qubit)\n",
        "\n",
        "qaoa.compose(cost, inplace=True)\n",
        "qaoa.compose(mixer, inplace=True)\n",
        "qaoa.measure_all()\n",
        "qaoa.draw(\"mpl\")"
      ],
      "metadata": {
        "colab": {
          "base_uri": "https://localhost:8080/",
          "height": 231
        },
        "id": "40-c5XQehJ2H",
        "outputId": "70fe4f60-6416-46f8-8a9e-d8602679b087"
      },
      "execution_count": null,
      "outputs": [
        {
          "output_type": "execute_result",
          "data": {
            "text/plain": [
              "<Figure size 899.479x264.88 with 1 Axes>"
            ],
            "image/png": "[encoded data removed]"
          },
          "metadata": {},
          "execution_count": 4
        }
      ]
    },
    {
      "cell_type": "markdown",
      "source": [
        "## Examples of QAOA Applications ##\n",
        "\n",
        "We will now explore a number of QAOA approaches to graph theoretic problems.\n",
        "\n",
        "We will use `networkX` to define and visualise the graphs:"
      ],
      "metadata": {
        "id": "lSTBRXRgKojJ"
      }
    },
    {
      "cell_type": "code",
      "source": [
        "G = nx.Graph()\n",
        "G.add_nodes_from([0, 1, 2, 3])\n",
        "G.add_edges_from([(0, 1), (1, 2), (2, 3), (3, 0)])\n",
        "nx.draw(G, with_labels=True)"
      ],
      "metadata": {
        "colab": {
          "base_uri": "https://localhost:8080/",
          "height": 319
        },
        "id": "BKXUIxuRT8Eg",
        "outputId": "140ee214-6435-492d-897b-9d5a1f082c2f"
      },
      "execution_count": null,
      "outputs": [
        {
          "output_type": "display_data",
          "data": {
            "text/plain": [
              "<Figure size 432x288 with 1 Axes>"
            ],
            "image/png": "[encoded data removed]"
          },
          "metadata": {}
        }
      ]
    },
    {
      "cell_type": "markdown",
      "source": [
        "### MaxCut ###\n",
        "\n",
        "A *cut* is a partition of vertices of a graph into two disjoint sets.\n",
        "\n",
        "The *weight* of a cut is the sum of the weights of the edges connecting vertices between the two sets.\n",
        "\n",
        "The *max cut* is the cut with the maximal weight.\n",
        "\n"
      ],
      "metadata": {
        "id": "azR1tmpuKBPc"
      }
    },
    {
      "cell_type": "markdown",
      "source": [
        "#### Encoding MaxCut as a QUBO problem ####\n",
        "\n",
        "Consider a graph $G$ s.t. $|G| = n$.\n",
        "\n",
        "We encode a cut on $G$ into two sets $A$ and $B$ as a bistring $\\u{x} = \\{0, 1\\}^n$. Where: \n",
        "$$x_i = 0 \\iff i^{th} \\space \\text{node} \\in A \\\\\n",
        "x_i = 1 \\iff i^{th} \\space \\text{node} \\in B$$\n",
        "\n",
        "Let $W^G$ the adjaceny matrix of $G$, where $W^G_{ij}$ is the weight of edge $(i, j) \\in G$.\n",
        "\n",
        "Using this encoding, our MaxCut problem becomes:\n",
        "\n",
        "$$\\minb \\sum\\limits_{i,j=1}^nW_{ij}x_i(1-x_j) := \\minb C(\\u{x})$$\n",
        "\n",
        "To formulate this as a QUBO problem, consider:\n",
        "\n",
        "$$ \\begin{equation}\n",
        "\\begin{split}\n",
        "\\minb \\sum_{i, j = 1}^n W_{ij}x_i(1-x_j) \n",
        "&= \\minb \\sum_{i, j = 1}^n -W_{ij}x_ix_j + \\sum_{i, j = 1}^n W_{ij}x_i \\\\\n",
        "&= \\minb -\\ut{x}W\\u{x} + \\ut{e} W^T \\u{x}\n",
        "\\end{split} \n",
        "\\end{equation}$$\n",
        "\n",
        "where $\\u{e} = \\{1\\}^n $\n",
        "\n",
        "Letting $Q = -W$ and $\\u{c} = W\\u{e}$ we retrieve a QUBO problem.\n",
        "\n",
        "This means that $\\u{c}_i$ is the number of edges connected to node $i$.\n",
        "\n"
      ],
      "metadata": {
        "id": "mNJlrUfhMf1m"
      }
    },
    {
      "cell_type": "markdown",
      "source": [
        "#### Constructing the MaxCut QAOA Circuit ####\n",
        "\n",
        "Using the formulations in the previous section along with our encoding of MaxCut as a QUBO, we define the following method to construct our quantum circuit.\n",
        "\n",
        "In what follows, we will assume the graph is unweighted $\\Rightarrow W_{ij} = \\{0, 1\\}^{n \\times n}$.\n",
        "\n",
        "From our QUBO formulation of the problem, we have: $Q = -W$ and $\\u{c} = W\\u{e}$ in  \n",
        "$$\\hat{U}_C(\\gamma) = \\prod\\limits_{i, j, k, l = 1}^n R_{Z_iZ_j}\\left(-\\frac{1}{2}Q_{ij}\\gamma\\right)R_{Z_k}\\left(\\gamma\\sum\\limits_{l = 1}^n Q_{kl} + c_k\\right) \\\\\n",
        " := \\prod\\limits_{i, j, k, l = 1}^n R_{Z_iZ_j}(\\omega_{ij}\\gamma)R_{Z_k}(\\Omega_{k}\\gamma)$$\n",
        "\n",
        "$$\\Rightarrow \\omega_{ij} = \\frac{1}{2}W_{ij}, \\\\\n",
        "\\Omega_k = -\\sum\\limits_{l = 1}^n W_{kl} + W\\u{e}_k = 0$$\n",
        "\n",
        "This means out circuit does not need an $R_z$ gates nor $R_{zz}$ gates for disconnected nodes.\n",
        "\n"
      ],
      "metadata": {
        "id": "WBurb-9ROnq-"
      }
    },
    {
      "cell_type": "code",
      "source": [
        "def construct_circuit(G: nx.Graph, p: int) -> QuantumCircuit:\n",
        "  n = G.number_of_nodes()\n",
        "  maxcut = QuantumCircuit(n)\n",
        "  \n",
        "  # Prepare initial state with Hadamard gates\n",
        "  for qubit in maxcut.qubits:\n",
        "    maxcut.h(qubit)\n",
        "  \n",
        "  # Creat p alternating mixer and cost gates\n",
        "  for i in range(p):\n",
        "    \n",
        "    # Two qubit cost gates (1/2 because 1/2 * Wij)\n",
        "    gamma = Parameter(f\"y_{i}\")\n",
        "    for (q1, q2) in G.edges():\n",
        "      maxcut.rzz(0.5 * gamma, q1, q2)\n",
        "\n",
        "    # Mixer gates\n",
        "    beta = Parameter(f\"β_{i}\")\n",
        "    for qubit in maxcut.qubits:\n",
        "      maxcut.rx(2 * beta, qubit)\n",
        "  \n",
        "  maxcut.measure_all()\n",
        "  return maxcut"
      ],
      "metadata": {
        "id": "wWLqRvewMN-Q"
      },
      "execution_count": null,
      "outputs": []
    },
    {
      "cell_type": "code",
      "source": [
        "c = construct_circuit(G, p=1)\n",
        "c.draw(\"mpl\")"
      ],
      "metadata": {
        "colab": {
          "base_uri": "https://localhost:8080/",
          "height": 276
        },
        "id": "LV0QeFbJuoRB",
        "outputId": "90715591-977a-4a37-9879-3e9422ce50c0"
      },
      "execution_count": null,
      "outputs": [
        {
          "output_type": "execute_result",
          "data": {
            "text/plain": [
              "<Figure size 1019.88x325.08 with 1 Axes>"
            ],
            "image/png": "[encoded data removed]"
          },
          "metadata": {},
          "execution_count": 7
        }
      ]
    },
    {
      "cell_type": "markdown",
      "source": [
        "#### Running the QAOA algorithm ####\n",
        "\n",
        "We will first define some helper functions.\n"
      ],
      "metadata": {
        "id": "Nnetf5tITEec"
      }
    },
    {
      "cell_type": "code",
      "source": [
        "# Nodes are in different sets iff sum in bistring is 1\n",
        "def cut_weight(x: str, G: nx.Graph) -> int:\n",
        "  \"\"\" Calculate the weight of a cut on a graph.\"\"\"\n",
        "  return sum([(int(x[a]) + int(x[b]) % 2) for (a, b) in G.edges()])\n",
        "\n",
        "def cut_weighted_average(counts: Dict[str, int], G: nx.Graph) -> float:\n",
        "  \"\"\" Calculate average of cut weights across measurements of the circuit.\"\"\"\n",
        "  sums = [count * cut_weight(cut, G) for (cut, count) in counts.items()]\n",
        "  return sum(sums) / sum(counts.values())"
      ],
      "metadata": {
        "id": "CGcqTuaVULIi"
      },
      "execution_count": null,
      "outputs": []
    },
    {
      "cell_type": "markdown",
      "source": [
        "On the graph above, we'd expect the cut:\n",
        "* $0101$ to have weight 4 \n",
        "* $0001$ to have weight 2\n",
        "* $0000$ to have weight 0\n",
        "\n",
        "And the average of these to be $\\frac{4 + 2 + 0}{3} = 2$"
      ],
      "metadata": {
        "id": "7LwX8a_T1bGQ"
      }
    },
    {
      "cell_type": "code",
      "source": [
        "cuts = [\"0101\", \"0001\", \"0000\"]\n",
        "for cut in cuts:\n",
        "  print(f'{cut} has weight {cut_weight(cut, G)}')\n",
        "\n",
        "print(f'Average cut weight of {cuts} = {cut_weighted_average({cut : 1 for cut in cuts}, G)}')"
      ],
      "metadata": {
        "colab": {
          "base_uri": "https://localhost:8080/"
        },
        "id": "ynAG56Cq1Znx",
        "outputId": "d6c59f88-81f5-46e0-f765-cb54a9431515"
      },
      "execution_count": null,
      "outputs": [
        {
          "output_type": "stream",
          "name": "stdout",
          "text": [
            "0101 has weight 4\n",
            "0001 has weight 2\n",
            "0000 has weight 0\n",
            "Average cut weight of ['0101', '0001', '0000'] = 2.0\n"
          ]
        }
      ]
    },
    {
      "cell_type": "markdown",
      "source": [
        "Finally, we piece these together and run our algorithm to get the parameters that correspond to the max cut. We then use these parameters to find the corresponding string."
      ],
      "metadata": {
        "id": "EuOw3jP0jt-L"
      }
    },
    {
      "cell_type": "code",
      "source": [
        "def max_cut_params(G: nx.graph, p: int, init_params: List[float]) -> List[float]:\n",
        "  \"\"\" Finds the approximate max cut of a graph\"\"\"\n",
        "  circuit = construct_circuit(G, p)\n",
        "  backend = Aer.get_backend('qasm_simulator')\n",
        "\n",
        "  def execute_average(param_values: List[float]) -> float:\n",
        "    bound_circuit = circuit.bind_parameters(param_values)\n",
        "    counts = backend.run(bound_circuit).result().get_counts()\n",
        "    # -1 * average because we want to maximise but are using scipy minimise\n",
        "    return -1 * cut_weighted_average(counts, G)\n",
        "\n",
        "  result = minimize(execute_average, init_params, method='COBYLA')\n",
        "\n",
        "  print(result)\n",
        "\n",
        "  return result.x"
      ],
      "metadata": {
        "id": "OHlbKWQQjs56"
      },
      "execution_count": null,
      "outputs": []
    },
    {
      "cell_type": "code",
      "source": [
        "opt_params = max_cut_params(G, p=1, init_params=[1.0, 1.0])"
      ],
      "metadata": {
        "colab": {
          "base_uri": "https://localhost:8080/"
        },
        "id": "LB5gmFBApt9P",
        "outputId": "56c09b28-61a5-452a-ed36-faeb861df7ac"
      },
      "execution_count": null,
      "outputs": [
        {
          "output_type": "stream",
          "name": "stdout",
          "text": [
            "     fun: -3.869140625\n",
            "   maxcv: 0.0\n",
            " message: 'Optimization terminated successfully.'\n",
            "    nfev: 27\n",
            "  status: 1\n",
            " success: True\n",
            "       x: array([0.97117961, 0.98780127])\n"
          ]
        }
      ]
    },
    {
      "cell_type": "markdown",
      "source": [
        "We bind these final parameters to our circuit and plot the ouput to analyse the possible cuts:"
      ],
      "metadata": {
        "id": "zCddqZ1WwqgX"
      }
    },
    {
      "cell_type": "code",
      "source": [
        "final_circuit = construct_circuit(G, p=1)\n",
        "final_circuit = final_circuit.bind_parameters(opt_params)\n",
        "backend = Aer.get_backend('qasm_simulator')\n",
        "counts = backend.run(final_circuit, shots=1024).result().get_counts()\n",
        "plot_histogram(counts)"
      ],
      "metadata": {
        "colab": {
          "base_uri": "https://localhost:8080/",
          "height": 348
        },
        "id": "gE9uhPUwwwxh",
        "outputId": "6d61a435-ba20-4527-f5cb-46abcf8c6870"
      },
      "execution_count": null,
      "outputs": [
        {
          "output_type": "execute_result",
          "data": {
            "text/plain": [
              "<Figure size 504x360 with 1 Axes>"
            ],
            "image/png": "[encoded data removed]"
          },
          "metadata": {},
          "execution_count": 12
        }
      ]
    },
    {
      "cell_type": "markdown",
      "source": [
        "As expected! The max cut on the graph $G$ is done by alternating the nodes, i.e. $0101$ or $1010$:"
      ],
      "metadata": {
        "id": "wKIups2553ne"
      }
    },
    {
      "cell_type": "code",
      "source": [
        "ordered_cuts = [cut for (cut, _) in sorted(counts.items(), key=lambda item : item[1])]\n",
        "for cut in ordered_cuts[-2:]:\n",
        "  color_map = [\"red\" if i == \"0\" else \"blue\" for i in cut] \n",
        "  nx.draw(G, node_color=color_map, with_labels=True)\n",
        "  plt.show()\n",
        "  plt.clf()"
      ],
      "metadata": {
        "colab": {
          "base_uri": "https://localhost:8080/",
          "height": 638
        },
        "id": "6fZen9gM8ai2",
        "outputId": "bd8dc278-3459-4d5a-caf4-e506aaba7bb9"
      },
      "execution_count": null,
      "outputs": [
        {
          "output_type": "display_data",
          "data": {
            "text/plain": [
              "<Figure size 432x288 with 1 Axes>"
            ],
            "image/png": "[encoded data removed]"
          },
          "metadata": {}
        },
        {
          "output_type": "display_data",
          "data": {
            "text/plain": [
              "<Figure size 432x288 with 1 Axes>"
            ],
            "image/png": "[encoded data removed]"
          },
          "metadata": {}
        },
        {
          "output_type": "display_data",
          "data": {
            "text/plain": [
              "<Figure size 432x288 with 0 Axes>"
            ]
          },
          "metadata": {}
        }
      ]
    },
    {
      "cell_type": "markdown",
      "source": [
        "# Representing Functions as Hamiltonians# \n",
        "\n",
        "We explored encoding QUBO instances above as Hamiltonians diagonal in the computational basis.\n",
        "\n",
        "We will explore<a name=\"cite_ref-1\"></a>[<sup>[HAD21]</sup>](#cite_note-1) generalising this encoding to boolean functions \n",
        "$\\mathcal{B}_n : \\bn^n \\rightarrow \\bn$ and real functions $\\mathcal{R}_n : \\bn^n \\rightarrow \\mathbb{R}$ \n",
        "\n",
        "A Hamiltonian $\\hat{H}_f$ _represents_ $f$ if:\n",
        "\n",
        "$$ \\hat{H}_f\\ketx = f(\\u{x})\\ketx$$\n",
        "\n",
        "for $\\ux \\in \\bn$ with corresponding computational basis state $\\ketx$\n",
        "\n"
      ],
      "metadata": {
        "id": "yd8029QhBXLq"
      }
    },
    {
      "cell_type": "markdown",
      "source": [
        "## Boolean Functions ##\n",
        "\n",
        "**Theorem**: For a Boolean function $f : \\bn^n \\rightarrow \\bn$ the unique Hamiltonian $\\hat{H}_f$ on $n$ qubits representing $f$ is:\n",
        "\n",
        "$$ \\hat{H}_f = \\sum\\limits_{S ⊂ [n]} \\hat{f}(S) \\prod\\limits_{j \\in S} Z_j = \\hat{f}(\\emptyset)I + \\sum\\limits_{j = 1}^n \\hat{f}(\\{j\\})Z_j + \\sum\\limits_{j < k} \\hat{f}(\\{j, k\\})Z_jZ_k \\dots$$\n",
        "\n",
        "Where the _fourier coefficients_: \n",
        "\n",
        "$$\\hat{f}(S) = \\frac{1}{2^n} \\sumb f(\\u{x})(-1)^{S ⋅ \\u{x}} = \\frac{1}{2^n} tr(\\hat{H}_f\\prod\\limits_{j \\in S} Z_j) $$\n",
        "\n",
        "And the following notation has been used:\n",
        "\n",
        "* $S \\cdot \\u{x} := \\sum\\limits_{j \\in S} x_j$\n",
        "* $[n] := \\{1, 2, \\dots, n\\}$\n",
        "* $ Z_j := I^{⊗(j - 1)} \\otimes Z \\otimes I^{⊗(n - j)}$ i.e. the Z-pauli operator applied to the $j^{th}$ qubit\n",
        "\n",
        "**Example**: let $f : \\bn^3 \\rightarrow \\bn, \\space f(\\u{x}) = x_1 \\oplus x_2 \\oplus x_3$\n",
        "\n",
        "$$\n",
        "\\be\n",
        "\\hat{f}(∅) &= \\frac{1}{8}\\sumbn{3} f(\\ux)(-1)^{∅ \\cdot \\ux} = \\frac{1}{8}\\sumbn{3} f(\\ux) = \\frac{1}{2} \\\\\n",
        "\\hat{f}(\\{j\\}) &= \\frac{1}{8}\\sumbn{3} f(\\ux)(-1)^{\\{j\\} \\cdot \\ux} = \\frac{1}{8}\\sumbn{3} f(\\ux)(-1)^{x_j} = 0 \\\\\n",
        "\\hat{f}(\\{j, k\\}) &= \\frac{1}{8}\\sumbn{3} f(\\ux)(-1)^{\\{j, k\\} \\cdot \\ux} = \\frac{1}{8}\\sumbn{3} f(\\ux)(-1)^{x_j + x_k} = 0 \\\\\n",
        "\\hat{f}(\\{j, k, l\\}) &= \\frac{1}{8}\\sumbn{3} f(\\ux)(-1)^{\\{j, k, l\\} \\cdot \\ux} = \\frac{1}{8}\\sumbn{3} f(\\ux)(-1)^{x_j + x_k + x_l} = -\\frac{1}{2}\n",
        "\\en\n",
        "$$\n",
        "\n",
        "$$ \\Rightarrow \\hat{H}_f = \\sum\\limits_{S ⊂ [3]} \\hat{f}(S) \\prod\\limits_{j \\in S} Z_j = \\frac{1}{2}(I - Z_1Z_2Z_3) $$\n",
        "\n",
        "\n",
        "\n"
      ],
      "metadata": {
        "id": "wXwOYlzQJJ7Y"
      }
    },
    {
      "cell_type": "markdown",
      "source": [
        "**Corollary**: Computing $\\hat{f}(∅)$ of $\\hat{H}_f$ representing a $SAT$ formula is $\\#P\\text{-hard}$. \n",
        "\n",
        "Recall, for some complexity class $\\mathcal{C}$ and problem $P$ \n",
        "\n",
        "$$P \\in \\mathcal{C}\\text{-hard} \\iff \\forall P^\\prime \\in \\mathcal{C}, \\space P^\\prime \\leq P$$ \n",
        "\n",
        "where $\\leq$ is a p-time reduction.\n",
        "\n",
        "$\\# SAT \\in \\# PC$ $\\Rightarrow$ suffices to show $\\# SAT \\leq \\hat{f}(∅)$\n",
        "\n",
        "**Corollary**: Deciding if $\\hat{f}(∅) = 0$ of $\\hat{H}_f$ representing a $SAT$ formula is equivalent to deciding if $f$ is unsatisfiable, in which case $\\hat{H}_f$ reduces to 0.\n",
        "\n",
        "$$0 = \\hat{f}(∅) = \\frac{1}{2^n} \\sumb f(\\u{x})(-1)^{∅ ⋅ \\u{x}} = \\frac{1}{2^n} \\sumb f(\\u{x}) \\\\\n",
        "⇒ 0 = \\sumb f(\\u{x})$$\n",
        "\n",
        "$f \\in \\mathcal{B}_n \\Rightarrow f(\\ux) = 1$ or $f(\\ux) = 0$ (the formula is either satisfied or it isn't), so\n",
        "\n",
        "$$ \\sumb f(\\ux) = 0 \\iff \\forall \\ux \\in \\bn^n \\space f(\\ux) = 0$$\n",
        "\n",
        "This is equivalent to deciding if $f(\\ux)$ is unsatisfiable.\n",
        "\n",
        "$$\n",
        "\\be\n",
        "\\forall \\ux \\in \\bn^n \\space f(\\ux) = 0 ⇒&\\forall \\ux \\in \\bn^n \\space \\hat{H}_f\\ketx = 0 \\\\\n",
        "⇒&\\forall \\ux, \\ux^\\prime \\in \\bn^n \\space \\bra{\\ux^\\prime} \\hat{H}_f\\ketx = 0\n",
        "\\en\n",
        "$$\n",
        "\n",
        "I.e. the matrix representation of $\\hat{H}_f$ is the 0 matrix.\n",
        "\n",
        "This means, given a Boolean function $f$ such that counting its number of satisfying arguments is $P\\text{-hard}$, computing $\\hat{f}(∅)$ will also be $P\\text{-hard}$.\n",
        "\n",
        "**N.B.** even if we can compute the values of $\\hat{f}(S)$, the corresponding $\\hat{H}_f$ may require $O(k^n) \\space Z\\text{-pauli}$ gates, for some $k > 1 \\in \\mathbb{R}$."
      ],
      "metadata": {
        "id": "qXhDEwDwLG3M"
      }
    },
    {
      "cell_type": "markdown",
      "source": [
        "## Constructing Hamiltonians using Propositional Logic ##\n",
        "\n",
        "While we are able to represent any Boolean function using the above expansion, for situations where our functions are formed as compositions of others, we can leverage the following rules.\n",
        "\n",
        "We begin by representing $true$ and $false$, $1$ and $0$ respectively:\n",
        "\n",
        "$$\\hat{H}_1 = I \\space \\\\ \\hat{H}_0 = 0$$\n",
        "\n",
        "Where $I$ is the $2^n$ identity matrix and $0$ is the $2^n$ $0$ matrix.\n",
        "\n",
        "I.e.\n",
        "\n",
        "$$ \\hat{H}_1 \\ketx = 1 \\times \\ketx \\\\\n",
        "\\hat{H}_0 \\ketx = 0 \\times \\ketx $$\n",
        "\n",
        "We also define $\\hat{H}_{x_j}$ the operation of multiplying $\\ketx$ by $x_j \\in \\ux$. Recalling that $Z = \\ket{0}\\bra{0} - \\ket{1}\\bra{1} $\n",
        "\n",
        "We consider the multi qubit version, where $Z_j := I^{⊗(j - 1)} \\otimes Z \\otimes I^{⊗(n - j)}$ s.t:\n",
        "\n",
        "$$ Z_j \\ketx = (-1)^{x_j}\\ketx = (1 - 2x_j)\\ketx$$\n",
        "\n",
        "$$\\Rightarrow \\frac{1}{2}(\\mathbb{I} - Z_j)\\ketx = \\frac{1}{2}(1 - (1 - 2x_j))\\ketx = x_j\\ketx $$\n",
        "\n",
        "I.e. $\\hat{H}_{x_j} = \\frac{1}{2} I - \\frac{1}{2} Z_j$\n",
        "\n",
        "**Theorem** Let $f, g \\in \\mathcal{B}_n$ represented by $\\hat{H}_f, \\hat{H}_g$, then:\n",
        "* $\\hat{H}_{\\neg f} = 1 - \\hat{H}_f$\n",
        "* $\\hat{H}_{f \\land g} = \\hat{H}_f\\hat{H}_g$\n",
        "* $\\hat{H}_{f \\lor g} = \\hat{H}_f + \\hat{H}_g - \\hat{H}_f\\hat{H}_g$\n",
        "* $\\hat{H}_{f \\oplus g} = \\hat{H}_f + \\hat{H}_g -2\\hat{H}_f\\hat{H}_g$\n",
        "* $\\hat{H}_{f \\Rightarrow g} = I - \\hat{H}_f + \\hat{H}_f\\hat{H}_g$\n",
        "* $\\hat{H}_{af + bg} = a\\hat{H}_f + b\\hat{H}_g$\n",
        "\n",
        "**Example:** let $f : \\bn^3 → \\bn, \\space f(\\ux) = x_1 \\land (x_2 \\lor x_3)$.\n",
        "\n",
        "$$\n",
        "\\be\n",
        "\\hat{H}_{x_1} &= \\frac{1}{2}I - \\frac{1}{2}Z_1 \\\\ \n",
        "\\hat{H}_{x_2} &= \\frac{1}{2}I - \\frac{1}{2}Z_2 \\\\\n",
        "\\hat{H}_{x_3} &= \\frac{1}{2}I - \\frac{1}{2}Z_3 \\\\\n",
        "⇒ \\hat{H}_{x_2 \\lor x_3} &= \\hat{H}_{x_2} + \\hat{H}_{x_3} - \\hat{H}_{x_2}\\hat{H}_{x_3} \\\\\n",
        "&= \\frac{1}{2}I - \\frac{1}{2}Z_2 + \\frac{1}{2}I - \\frac{1}{2}Z_3 - \\left(\\frac{1}{2}I - \\frac{1}{2}Z_2\\right)\\left(\\frac{1}{2}I - \\frac{1}{2}Z_3\\right) \\\\\n",
        "&= \\frac{3}{4}I - \\frac{1}{4}(Z_2 + Z_3 + Z_2Z_3) \\\\\n",
        "⇒ \\hat{H}_f &= \\hat{H}_{x_1 \\land (x_2 \\lor x_3)} \\\\\n",
        "&= \\hat{H}_{x_1} \\hat{H}_{x_2 \\lor x_3} \\\\\n",
        "&= \\left(\\frac{1}{2}I - \\frac{1}{2}Z_1\\right)\\left(\\frac{3}{4}I - \\frac{1}{4}(Z_2 + Z_3 + Z_2Z_3)\\right) \\\\\n",
        "&= \\frac{3}{8}I + \\frac{1}{8}Z_1(Z_2 + Z_3 + Z_2Z_3) - \\frac{1}{8}(3Z_1 + Z_2 + Z_3 + Z_2Z_3) \\\\\n",
        "&= \\frac{3}{8}I - \\frac{1}{8}(3Z_1 + Z_2 + Z_3)+ \\frac{1}{8}(Z_1Z_2 + Z_1Z_3 - Z_2Z_3) + \\frac{1}{8}Z_1Z_2Z_3 \n",
        "\\en\n",
        "$$\n",
        "\n",
        "E.g. for $\\ux = 101, \\space f(\\ux) = x_1 \\land (x_2 \\lor x_3) = 1 \\land (0 \\lor 1) = 1$  \n",
        "\n",
        "$$\n",
        "\\be \n",
        "\\hat{H}_f \\ket{101} &= \\frac{3}{8}\\ket{101} - \\frac{1}{8}(-3 + 1 - 1)\\ket{101} + \\frac{1}{8}(-1 + 1 + 1)\\ket{101} + \\frac{1}{8}\\ket{101} \\\\\n",
        "&= \\frac{3}{8}\\ket{101} + \\frac{3}{8}\\ket{101} + \\frac{1}{8}\\ket{101} + \\frac{1}{8}\\ket{101} \\\\\n",
        "&= 1 \\times \\ket{101}\n",
        "\\en$$\n",
        "\n",
        "Whereas for $\\u{y} = 100, \\space f(\\u{y}) = y_1 \\land (y_2 \\lor y_3) = 1 \\land (0 \\lor 0) = 0$  \n",
        "\n",
        "$$\n",
        "\\be \n",
        "\\hat{H}_f \\ket{100} &= \\frac{3}{8}\\ket{100} - \\frac{1}{8}(-3 + 1 + 1)\\ket{100} + \\frac{1}{8}(-1 - 1 - 1)\\ket{100} - \\frac{1}{8}\\ket{100} \\\\\n",
        "&= \\frac{3}{8}\\ket{100} + \\frac{1}{8}\\ket{100} - \\frac{3}{8}\\ket{100} - \\frac{1}{8}\\ket{100} \\\\\n",
        "&= 0 \\times \\ket{100}\n",
        "\\en$$\n",
        "\n",
        "As expected.\n",
        "\n",
        "Below is a table of basic composition rules:\n",
        "\n",
        "\\begin{array}{|c|c|c|c|} \\hline\n",
        "f(x) & \\hat{H}_f & f(x) & \\hat{H}_f \\\\ \\hline\n",
        "x & \\frac{1}{2}I - \\frac{1}{2}Z  & \\overline{x} & \\frac{1}{2} I + \\frac{1}{2}Z \\\\\n",
        "x_1 \\oplus x_2 & \\frac{1}{2}I - \\frac{1}{2}Z_1Z_2  & ⨁\\limits_{j = 1}^{k}x_j & \\frac{1}{2}I - \\frac{1}{2}\\prod\\limits_{i=1}^kZ_k \\\\\n",
        "x_1 \\land x_2 & \\frac{1}{4}I - \\frac{1}{4}(Z_1 + Z_2 - Z_1Z_2) & ⋀\\limits_{j = 1}^{k}x_j & \\frac{1}{2^k} \\prod\\limits_j^k(1 - Z_j)\\\\\n",
        "\\overline{x_1 x_2} & \\frac{3}{4}I - \\frac{1}{4}(Z_1 + Z_2 + Z_1Z_2) & ⋁\\limits_{j = 1}^{k}x_j & I - \\frac{1}{2^k} \\prod\\limits_j^k(1 + Z_j) \\\\\n",
        "x_1 \\lor x_2 & \\frac{3}{4}I + \\frac{1}{4}(Z_1 + Z_2 - Z_1Z_2) & x_1 \\Rightarrow x_2 & \\frac{3}{4}I + \\frac{1}{4}(Z_1 - Z_2 + Z_1Z_2) \\\\ \\hline\n",
        "\\end{array}\n",
        "\n"
      ],
      "metadata": {
        "id": "hdZlPvDQ5i3e"
      }
    },
    {
      "cell_type": "markdown",
      "source": [
        "## Pseudo-Boolean/Real Functions ##\n",
        "\n",
        "While $f \\in \\mathcal{B}_n$ requires $O(k^n)$ gates, when a Boolean clause $f^\\prime$ acts on only $m < n$ bits where $m$ is constant or $O(\\log n)$ we may efficiently construct $\\hat{H}_{f^\\prime}$. We term $f^\\prime$ a Pseudo-Boolean function. In this case, $\\hat{H}_{f^\\prime}$ has $\\leq 2^m$ non-zero terms.\n",
        "\n",
        "Consider $g \\in \\mathcal{R}_n$\n",
        "\n",
        "$$ g(x) = \\sum\\limits_{j = 1}^l w_jf_j(x) $$\n",
        "\n",
        "$w_j \\in \\mathbb{R}$, $\\space l = \\text{poly}(n)$. \n",
        "\n",
        "This is a *Pseudo-Boolean* function: a weighted sum of $f_j \\in \\mathcal{B}_{m < n}$ (Boolean functions that acts on a subset of the $n$ bits).\n",
        "\n",
        "**Theorem**: For $g \\in \\mathcal{R}_n$, the *unique* Hamiltonian representing $g$ is $\\hat{H}_g$ s.t:\n",
        "\n",
        "$$\\hat{H}_g = \\sum\\limits_{S ⊂ [n]}\\hat{g}(S) \\prod_{j \\in S} Z_j$$\n",
        "\n",
        "where the _fourier coefficients_: \n",
        "\n",
        "$$\\hat{g}(S) = \\frac{1}{2^n} \\sumb g(\\u{x})(-1)^{S ⋅ \\u{x}} = \\frac{1}{2^n} tr(\\hat{H}_g\\prod\\limits_{j \\in S} Z_j) $$\n",
        "\n",
        "And the following notation has been used:\n",
        "\n",
        "* $S \\cdot \\u{x} := \\sum\\limits_{j \\in S} x_j$\n",
        "* $[n] := \\{1, 2, \\dots, n\\}$\n",
        "* $ Z_j := I^{⊗(j - 1)} \\otimes Z \\otimes I^{⊗(n - j)}$ i.e. the Z-pauli operator applied to the $j^{th}$ qubit\n",
        "\n",
        "In particular, for a *Pseudo-Boolean* function, $ g(x) = \\sum\\limits_{j = 1}^l w_jf_j(x), \\space w_j \\in \\mathbb{R}$, $\\space l = \\text{poly}(n)$. \n",
        "\n",
        "$$\\hat{H}_g = \\sum\\limits_{j = 1}^l w_j\\hat{H}_{f_j} \\\\\n",
        "\\hat{g}(S) = \\sum\\limits_{j}w_j\\hat{f_j}(S) \\in \\mathbb{R}$$"
      ],
      "metadata": {
        "id": "82xK8QoE5tEA"
      }
    },
    {
      "cell_type": "markdown",
      "source": [
        "# QAOA for MAX-SAT #\n",
        "\n",
        "Building on the previous section, we will explore applying QAOA to the MAX-SAT problem, defined as follows:\n",
        "\n",
        "Let $\\{(c_i, w_i)\\}$ be a set of Boolean clauses with associated non-negative weights on variables $\\{x_i\\}$ where $c_i$ is a disjunction of literals $\\{x_i, ¬x_i\\}$. Find an assignment on $\\{x_i\\}$ s.t. the total weight of satisfied clauses is maximised.\n",
        "\n",
        "MAX-SAT is NP-complete, as is MAX-2-SAT.\n",
        "\n",
        "Recall that 3-SAT ~ SAT, i.e. we can map any MAX-SAT problem to a MAX-3-SAT problem.\n",
        "\n",
        "<font color=\"Orange\"> Slightly confused why we map SAT to 3SAT problems. According to [APMB20], \"there exists problem instances of\n",
        "high-density that appear not to be accessible\". Since clause density is defined as $m/n$ where $m$ is the number of clauses and $n$ the number of variables, are not just increasing $m$ by mapping to 3SAT, i.e. increasing the clause density and making our problem harder? Or as we not really mapping but instead choosing 3SAT because it is a standarised format and we can map anything to it if need be?</font>\n",
        "\n",
        "We define some utility classes for later use:"
      ],
      "metadata": {
        "id": "rEfS3x9skOS9"
      }
    },
    {
      "cell_type": "code",
      "source": [
        "from functools import reduce\n",
        "class Variable:\n",
        "  def __init__(self, index: int, is_negation: bool) -> None:\n",
        "    self.index = index\n",
        "    self.is_negation = is_negation\n",
        "\n",
        "  def __repr__(self) -> str:\n",
        "    return f'¬x{self.index}' if self.is_negation else f'x{self.index}'\n",
        "\n",
        "  def __str__(self) -> str:\n",
        "    return f'¬x{self.index}' if self.is_negation else f'x{self.index}'\n",
        "\n",
        "  def is_satisfied(self, assignment: str) -> bool:\n",
        "    ass = bool(int(assignment[self.index]))\n",
        "    return (self.is_negation and not ass) or (not self.is_negation and ass) \n",
        "\n",
        "class Clause:\n",
        "  def __init__(self, variables: List[Variable], weight: float) -> None:\n",
        "    self.variables = variables\n",
        "    self.weight = weight\n",
        "\n",
        "  def __repr__(self) -> str:\n",
        "    return '(' + ' ∨ '.join([v.__str__() for v in self.variables]) + ')'\n",
        "\n",
        "  def __str__(self) -> str:\n",
        "    return '(' + ' ∨ '.join([v.__str__() for v in self.variables]) + ')'\n",
        "\n",
        "  def get_variable(self, index: int) -> Variable:\n",
        "    return self.variables[index]\n",
        "\n",
        "  def is_satisfied(self, assignment: str) -> bool:\n",
        "    return any([v.is_satisfied(assignment) for v in self.variables])\n",
        "\n",
        "  def parity(self, vars: List[Variable] = None) -> int:\n",
        "    if vars is None:\n",
        "      vars = self.variables\n",
        "    r = reduce(lambda x, y : x ^ y, [not v.is_negation for v in vars], False)\n",
        "    return -1 if r else 1\n",
        "\n",
        "\n",
        "class CNF:\n",
        "  def __init__(self, clauses: List[Clause], num_vars: int) -> None:\n",
        "    self.clauses = clauses\n",
        "    self.num_vars = num_vars\n",
        "\n",
        "  def __repr__(self) -> str:\n",
        "    return '∧\\n'.join([c.__str__() for c in self.clauses]) + '\\n'\n",
        "\n",
        "  def __str__(self) -> str:\n",
        "    return '∧\\n'.join([c.__str__() for c in self.clauses]) + '\\n'\n",
        "\n",
        "  def get_clause(self, index: int) -> Variable:\n",
        "    return self.clauses[index]\n",
        "\n",
        "  def assignment_weight(self, assignment: str) -> int:\n",
        "    assert len(assignment) == self.num_vars\n",
        "    return sum([c.weight * c.is_satisfied(assignment) for c in self.clauses])\n",
        "      \n",
        "  def is_satisfied(self, assignment: str) -> bool:\n",
        "    assert len(assignment) == self.num_vars\n",
        "    return self.assignment_weight(assignment) == sum([c.weight for c in self.clauses])"
      ],
      "metadata": {
        "id": "-TpLSXCZJqD0"
      },
      "execution_count": null,
      "outputs": []
    },
    {
      "cell_type": "code",
      "source": [
        "# Example\n",
        "\n",
        "x0 = Variable(0, False) \n",
        "x1 = Variable(1, False) \n",
        "x2 = Variable(2, False) \n",
        "notx0 = Variable(0, True) \n",
        "notx1 = Variable(1, True) \n",
        "\n",
        "c1 = Clause([x0, x1, x2], 1)\n",
        "c2 = Clause([notx0, notx1, x2], 1)\n",
        "c3 = Clause([notx0, x1, x2], 1)\n",
        "print(f'Parity of {c1}: {c1.parity()}')\n",
        "print(f'Parity of {c3}: {c3.parity()}')\n",
        "\n",
        "cnf = CNF([c1, c2], 3)\n",
        "ass1 = \"001\"\n",
        "ass2 = \"000\"\n",
        "print(f'{cnf} is satisfied by {ass1}: {cnf.is_satisfied(ass1)}')\n",
        "print(f'{cnf} is satisfied by {ass2}: {cnf.is_satisfied(ass2)}')"
      ],
      "metadata": {
        "colab": {
          "base_uri": "https://localhost:8080/"
        },
        "id": "oI5I1fJlQa4W",
        "outputId": "9db20b59-1ebd-4052-eb3d-d648c2518a27"
      },
      "execution_count": null,
      "outputs": [
        {
          "output_type": "stream",
          "name": "stdout",
          "text": [
            "Parity of (x0 ∨ x1 ∨ x2): -1\n",
            "Parity of (¬x0 ∨ x1 ∨ x2): 1\n",
            "(x0 ∨ x1 ∨ x2)∧\n",
            "(¬x0 ∨ ¬x1 ∨ x2)\n",
            " is satisfied by 001: True\n",
            "(x0 ∨ x1 ∨ x2)∧\n",
            "(¬x0 ∨ ¬x1 ∨ x2)\n",
            " is satisfied by 000: False\n"
          ]
        }
      ]
    },
    {
      "cell_type": "code",
      "source": [
        "def assignment_weight(x: str, cnf: CNF) -> int:\n",
        "  return cnf.assignment_weight(x)\n",
        "\n",
        "def assignment_weighted_average(counts: Dict[str, int], cnf: CNF) -> float:\n",
        "  sums = [count * assignment_weight(ass, cnf) for (ass, count) in counts.items()]\n",
        "  return sum(sums) / sum(counts.values())"
      ],
      "metadata": {
        "id": "Z3sqXtGzhFDd"
      },
      "execution_count": null,
      "outputs": []
    },
    {
      "cell_type": "markdown",
      "source": [
        "## Cost Hamiltonian for MAX-3-SAT ##\n",
        "\n",
        "Maximising the total of weight of satisfied clauses corresponds to maximising:\n",
        "\n",
        "$$C(\\ux) = \\sum\\limits_{i = 1}^m w_i c_i(\\ux)$$\n",
        "\n",
        "Where $\\ux \\in \\bn^n$ is a bitstring corresponding to the assigment of each variable and $c_i(\\ux) = 1$ iff assignments in $\\ux$ satisfy $c_i$ and 0 otherwise.\n",
        "\n",
        "We identify this as a *Psuedo-Boolean* function and represent it using the theorems in the previous section:\n",
        "\n",
        "$$\\hat{H}_C = \\sum\\limits_{i = 1}^m w_i \\hat{H}_{c_i}$$\n",
        "\n",
        "Let $c_i = l_{c_{i1}} \\lor l_{c_{i2}} \\lor l_{c_{i3}}$, where $c_{ij} \\in \\{0, 1, \\dots, n\\}$ and $l_{c_{ij}} = x_{c_{ij}}$ or $\\neg x_{c_{ij}}$\n",
        "\n",
        "By rules of composition:\n",
        "\n",
        "$$\n",
        "\\be \n",
        "\\hat{H}_{c_i} &= \\hat{H}_{l_{c_{i1}} \\lor \\space l_{c_{i2}} \\lor \\space l_{c_{i3}}} \\\\\n",
        "&= \\hat{H}_{l_{c_{i1}}} + \\hat{H}_{l_{c_{i2}} \\lor \\space l_{c_{i3}}}- \\hat{H}_{l_{c_{i1}}} \\hat{H}_{l_{c_{i2}} \\lor \\space l_{c_{i3}}} \\\\\n",
        "&= \\hat{H}_{l_{c_{i1}}} + \\hat{H}_{l_{c_{i2}}} + \\hat{H}_{l_{c_{i3}}} - \\hat{H}_{l_{c_{i2}}} \\hat{H}_{l_{c_{i3}}}- \\hat{H}_{l_{c_{i1}}}\\hat{H}_{l_{c_{i2}}} - \\hat{H}_{l_{c_{i1}}}\\hat{H}_{l_{c_{i3}}} + \\hat{H}_{l_{c_{i1}}} \\hat{H}_{l_{c_{i2}}} \\hat{H}_{l_{c_{i3}}} \\\\\n",
        "\\en \n",
        "$$\n",
        "\n",
        "Recall for $f : \\bn^n \\rightarrow \\bn$ \n",
        "$$\\space f(\\ux) = x_i \\Rightarrow \\hat{H}_f = \\frac{1}{2}I - \\frac{1}{2}Z_i \\\\\n",
        "\\space f(\\ux) = \\neg x_i \\Rightarrow \\hat{H}_f = \\frac{1}{2}I + \\frac{1}{2}Z_i $$\n",
        "\n",
        "This gives \n",
        "\n",
        "$$\\hat{H}_{l_{c_{ij}}} = \\frac{1}{2}I + (-1)^{\\phi_{ij}}\\frac{1}{2}Z_{c_{ij}}$$\n",
        "\n",
        "where $l_{ij} = x_{c_{ij}} \\Rightarrow \\phi_{ij} = 1$ and $l_{ij} = \\neg x_{c_{ij}} \\Rightarrow \\phi_{ij} = 0$\n",
        "\n",
        "Combining these results:\n",
        "\n",
        "$$\n",
        "\\be \n",
        "\\hat{H}_{c_i} &= \\hat{H}_{l_{c_{i1}}} + \\hat{H}_{l_{c_{i2}}} + \\hat{H}_{l_{c_{i3}}} - \\hat{H}_{l_{c_{i2}}} \\hat{H}_{l_{c_{i3}}}- \\hat{H}_{l_{c_{i1}}}\\hat{H}_{l_{c_{i2}}} - \\hat{H}_{l_{c_{i1}}}\\hat{H}_{l_{c_{i3}}} + \\hat{H}_{l_{c_{i1}}} \\hat{H}_{l_{c_{i2}}} \\hat{H}_{l_{c_{i3}}} \\\\\n",
        "&= \\frac{1}{2}\\sum\\limits_{j = 1}^3 \\left(I + (-1)^{\\phi_{ij}}Z_{c_{ij}}\\right) - \\frac{1}{4}\\sum\\limits_{j = 1}^3 \\sum\\limits_{k > j}^3 \\left(I + (-1)^{\\phi_{ij}}Z_{c_{ij}}\\right)\\left(I + (-1)^{\\phi_{ik}}Z_{c_{ik}}\\right) + \\frac{1}{8}\\prod\\limits_{j = 1}^3 \\left(I + (-1)^{\\phi_{ij}}Z_{c_{ij}}\\right) \\\\\n",
        "&= I\\left(\\frac{3}{2} - \\frac{3}{4} + \\frac{1}{8}\\right) + \\sum\\limits_{j = 1}^3 Z_{c_{ij}} \\left( \\frac{1}{2}(-1)^{\\phi_{ij}} - \\frac{1}{2}(-1)^{\\phi_{ij}} + \\frac{1}{8}(-1)^{\\phi_{ij}} \\right) + \\sum\\limits_{j = 1}^3 \\sum\\limits_{k > j}^3 Z_{c_{ij}}Z_{c_{ik}}\\left(-\\frac{1}{4}(-1)^{\\phi_{ij} + \\phi_{ik}} + \\frac{1}{8}(-1)^{\\phi_{ij} + \\phi_{ik}} \\right) + \\frac{1}{8}(-1)^{\\sum\\limits_{j=1}^3 \\phi_{ij}}\\prod_{j = 1}^3Z_{c_{ij}}\\\\\n",
        "&= \\frac{7}{8}I + \\frac{1}{8}\\sum\\limits_{j = 1}^3 (-1)^{\\phi_{ij}}Z_{c_{ij}} - \\frac{1}{8}\\sum\\limits_{j = 1}^3 \\sum\\limits_{k >= j}^3 (-1)^{\\phi_{ij} + \\phi_{ik}}Z_{c_{ij}}Z_{c_{ik}} + \\frac{1}{8}(-1)^{\\sum\\limits_{j=1}^3 \\phi_{ij}}\\prod_{j = 1}^3Z_{c_{ij}}\\\\\n",
        "\\en \n",
        "$$\n",
        "\n",
        "$$\n",
        "⇒ \\hat{H}_{c_i} = \\frac{1}{8}\\left(7I + \\sum\\limits_{j = 1}^3 (-1)^{\\phi_{ij}}Z_{c_{ij}} - \\sum\\limits_{j = 1}^3 \\sum\\limits_{k >= j}^3 (-1)^{\\phi_{ij} + \\phi_{ik}}Z_{c_{ij}}Z_{c_{ik}} + (-1)^{\\sum\\limits_{j=1}^3 \\phi_{ij}}\\prod_{j = 1}^3Z_{c_{ij}}\\right)\n",
        "$$\n",
        "\n",
        "For the case where $c_i = x_a \\lor x_b \\lor x_c$, we see that this reduces to:\n",
        "\n",
        "$$\n",
        "\\be\n",
        "\\hat{H}_{c_i} &= \\frac{1}{8}\\left(7I + \\sum\\limits_{j = 1}^3 Z_{c_{ij}} - \\sum\\limits_{j = 1}^3 \\sum\\limits_{k >= j}^3 Z_{c_{ij}}Z_{c_{ik}} + \\prod_{j = 1}^3Z_{c_{ij}}\\right) \\\\\n",
        "&= \\frac{1}{8} \\left(I + Z_a + Z_b + Z_c - Z_aZ_b - Z_bZ_c - Z_aZ_c + Z_aZ_bZ_c \\right) \\\\\n",
        "&= I - \\frac{1}{8}\\prod_{j = 1}^3 (I + Z_j)\n",
        "\\en\n",
        "$$\n",
        "\n",
        "As in the table above.\n",
        "\n",
        "Finally, we deduce:\n",
        "\n",
        "$$\\hat{H}_C = \\sum\\limits_{i = 1}^m \\frac{1}{8}w_i\\left(\\sum\\limits_{j = 1}^3 (-1)^{\\phi_{ij}}Z_{c_{ij}} - \\sum\\limits_{j = 1}^3 \\sum\\limits_{k >= j}^3 (-1)^{\\phi_{ij} + \\phi_{ik}}Z_{c_{ij}}Z_{c_{ik}} + (-1)^{\\sum\\limits_{j=1}^3 \\phi_{ij}}\\prod_{j = 1}^3Z_{c_{ij}}\\right)$$\n",
        "\n",
        "Where we have ignored the constant term as it does not change the minimisation problem since it adds the same value to every eigenvalue.\n",
        "\n",
        "<font color=\"orange\"> Is there a cleaner way of doing this?^ It's all I could come up with! </font>\n",
        "\n",
        "The corresponding unitary operator \n",
        "\n",
        "$$\n",
        "\\be \n",
        "\\hat{U}_C(\\gamma) &= e^{-i\\gamma \\hat{H}_C} \\\\\n",
        "&= e^{-i\\gamma\\sum\\limits_{i = 1}^m \\frac{1}{8}w_i\\left(\\sum\\limits_{j = 1}^3 (-1)^{\\phi_{ij}}Z_{c_{ij}} - \\sum\\limits_{j = 1}^3 \\sum\\limits_{k >= j}^3 (-1)^{\\phi_{ij} + \\phi_{ik}}Z_{c_{ij}}Z_{c_{ik}} + (-1)^{\\sum\\limits_{j=1}^3 \\phi_{ij}}\\prod_{j = 1}^3Z_{c_{ij}}\\right)} \\\\\n",
        "&=\\prod\\limits_{i=1}^m e^{-i\\gamma \\frac{1}{8}w_i\\sum\\limits_{j = 1}^3 (-1)^{\\phi_{ij}}Z_{c_{ij}}} e^{i\\gamma \\frac{1}{8}w_i\\sum\\limits_{j = 1}^3 \\sum\\limits_{k >= j}^3 (-1)^{\\phi_{ij} + \\phi_{ik}}Z_{c_{ij}}Z_{c_{ik}}} e^{-i\\gamma \\frac{1}{8}w_i(-1)^{\\sum\\limits_{j=1}^3 \\phi_{ij}}\\prod_{j = 1}^3Z_{c_{ij}}} \\\\\n",
        "&=\\prod\\limits_{i=1}^m \\prod\\limits_{j=1}^3 \\prod\\limits_{k > j}^3 e^{-i\\gamma \\frac{1}{8}w_i(-1)^{\\phi_{ij}}Z_{c_{ij}}} e^{i\\gamma \\frac{1}{8}w_i (-1)^{\\phi_{ij} + \\phi_{ik}}Z_{c_{ij}}Z_{c_{ik}}} e^{-i\\gamma \\frac{1}{8}w_i(-1)^{\\sum\\limits_{j=1}^3 \\phi_{ij}}\\prod_{j = 1}^3Z_{c_{ij}}} \\\\\n",
        "&=\\prod\\limits_{i=1}^m \\prod\\limits_{j=1}^3 \\prod\\limits_{k > j}^3 R_{Z_{c_{ij}}}\\left(-\\frac{1}{4}\\gamma w_i(-1)^{\\phi_{ij}}\\right) R_{Z_{c_{ij}}Z_{c_{ik}}}\\left(\\frac{1}{4}\\gamma w_i (-1)^{\\phi_{ij} + \\phi_{ik}}\\right) R_{\\prod_{j = 1}^3Z_{c_{ij}}}\\left( -\\frac{1}{4}\\gamma w_i(-1)^{\\sum\\limits_{j=1}^3 \\phi_{ij}}\\right) \\\\\n",
        "&=\\prod\\limits_{i=1}^m \\prod\\limits_{j=1}^3 \\prod\\limits_{k > j}^3 R_{Z_{c_{ij}}}\\left(-\\frac{1}{4}\\gamma w_i(-1)^{\\phi_{ij}}\\right) R_{Z_{c_{ij}}Z_{c_{ik}}}\\left(\\frac{1}{4}\\gamma w_i (-1)^{\\phi_{ij} + \\phi_{ik}}\\right) \\hat{U}_{CX}^{c_{i1}c_{i2}}\\hat{U}_{CX}^{c_{i2}c_{i3}}R_{Z_k}\\left(-\\frac{1}{4}\\gamma w_i(-1)^{\\sum\\limits_{j=1}^3 \\phi_{ij}}\\right)\\hat{U}_{CX}^{c_{i2}c_{i3}}\\hat{U}_{CX}^{c_{i1}c_{i2}} \\\\\n",
        "\\en\n",
        "$$\n",
        "\n",
        "Where:\n",
        "* $R_{Z_i}(\\theta)$ is the operator corresponding to a rotation of the $i^{th}$ qubit by $\\theta$ about the z-axis on the bloch sphere\n",
        "* $R_{Z_iZ_j}(\\theta)$ is the operator corresponding to a rotation of the $j^{th}$ qubit by $\\theta$ about the z-axis on the bloch sphere, controlled by the $i^{th}$ qubit\n",
        "* $R_{Z_iZ_jZ_k}(\\theta)$ is the operator corresponding to a rotation of the $k^{th}$ qubit by $\\theta$ about the z-axis on the bloch sphere, controlled by the $i^{th}$ and $j^{th}$ qubits\n",
        "* We've used the fact that $[Z_i, Z_j] = 0$\n",
        "* We've used the identity $R_{Z_iZ_jZ_k}(\\theta) = \\hat{U}_{CX}^{ij}\\hat{U}_{CX}^{jk}R_{Z_k}(\\theta)\\hat{U}_{CX}^{jk}\\hat{U}_{CX}^{ij}$, where $\\hat{U}_{CX}^{ab}$ is the $CNOT$ gate, with qubit $a$ as the control and qubit $b$ as the target.\n",
        "\n",
        "This can be implemented as follows:\n"
      ],
      "metadata": {
        "id": "_bYWH52iuZVQ"
      }
    },
    {
      "cell_type": "code",
      "source": [
        "def max_3_sat_cost(circuit: QuantumCircuit, cnf: CNF, gamma: Parameter) -> QuantumCircuit:\n",
        "  for clause in cnf.clauses:\n",
        "    for j in clause.variables:\n",
        "      for k in [v for v in clause.variables if v != j]:\n",
        "\n",
        "        # RZZZ gate\n",
        "        angle_zzz = -0.25 * clause.weight * clause.parity() * gamma\n",
        "        circuit.cx(clause.get_variable(0).index, clause.get_variable(1).index)\n",
        "        circuit.cx(clause.get_variable(1).index, clause.get_variable(2).index)\n",
        "        circuit.rz(angle_zzz, k.index)\n",
        "        circuit.cx(clause.get_variable(1).index, clause.get_variable(2).index)\n",
        "        circuit.cx(clause.get_variable(0).index, clause.get_variable(1).index)\n",
        "\n",
        "        # RZZ gate\n",
        "        angle_zz = 0.25 * clause.weight * clause.parity([j, k]) * gamma\n",
        "        circuit.rz(angle_zz, k.index)\n",
        "\n",
        "      # RZ gate\n",
        "      angle_z = -0.25 * clause.weight * clause.parity([j]) * gamma\n",
        "      circuit.rz(angle_zz, j.index)\n",
        "\n",
        "  return circuit"
      ],
      "metadata": {
        "id": "cyY6LjVOZUYv"
      },
      "execution_count": null,
      "outputs": []
    },
    {
      "cell_type": "markdown",
      "source": [
        "## Procedure ##\n",
        "\n",
        "As before, we define the mixing Hamiltonian: \n",
        "\n",
        "$$\\hat{H}_B = \\sum\\limits_{i = 1}^n X_i $$\n",
        "\n",
        "with corresponding $\\ket{+}^n = \\frac{1}{\\sqrt{2^n}} \\sumb \\ketx$ the highest energy eigenstate.\n",
        "\n",
        "The unitary operator that corresponds to this is as follows:\n",
        "\n",
        "$$\\hat{U}_B(\\beta) = e^{-i\\beta \\hat{H}_B} = e^{-i\\beta \\sum\\limits_{i = 1}^n X_i } = \\prod\\limits_{i = 1}^n e^{-i\\beta X_i} = \\prod\\limits_{i = 1}^n R_{X_i}(2\\beta)$$\n",
        "\n",
        "Where $R_{X_i}(\\theta)$ is the operator corresponding to a rotation of the $i^{th}$ qubit by $\\theta$ about the x-axis on the bloch sphere and we've used the fact that $[X_i, X_j] = 0$"
      ],
      "metadata": {
        "id": "QWiT-evT2B1M"
      }
    },
    {
      "cell_type": "markdown",
      "source": [
        "## Example Applications ##\n",
        "\n",
        "\n",
        "**Example 1**\n",
        "\n",
        "We assume $w_i = 1$\n",
        "\n",
        "$$\n",
        "\\be \n",
        "c_1 &= x_0 \\lor x_1 \\lor x_2 \\\\\n",
        "c_2 &= x_0 \\lor x_1 \\lor \\neg x_2 \\\\\n",
        "c_3 &= x_0 \\lor \\neg x_1 \\lor x_2 \\\\\n",
        "c_4 &= x_0 \\lor \\neg x_1 \\lor \\neg x_2 \\\\\n",
        "c_5 &= \\neg x_0 \\lor x_1 \\lor x_2 \\\\\n",
        "c_6 &= \\neg x_0 \\lor x_1 \\lor \\neg x_2 \\\\\n",
        "c_7 &= \\neg x_0 \\lor \\neg x_1 \\lor x_2 \\\\\n",
        "\\en\n",
        "$$\n",
        "\n",
        "These clauses are (maximally) satisfied for $\\ux = 111$.\n",
        "\n",
        "We construct them and verify their satisfiability:"
      ],
      "metadata": {
        "id": "AnwMprqHWbwN"
      }
    },
    {
      "cell_type": "code",
      "source": [
        "x0 = Variable(0, False) \n",
        "x1 = Variable(1, False) \n",
        "x2 = Variable(2, False) \n",
        "notx0 = Variable(0, True) \n",
        "notx1 = Variable(1, True) \n",
        "notx2 = Variable(2, True) \n",
        "\n",
        "ex_c1 = Clause([x0, x1, x2], 1)\n",
        "ex_c2 = Clause([x0, x1, notx2], 1)\n",
        "ex_c3 = Clause([x0, notx1, x2], 1)\n",
        "ex_c4 = Clause([x0, notx1, notx2], 1)\n",
        "ex_c5 = Clause([notx0, x1, x2], 1)\n",
        "ex_c6 = Clause([notx0, x1, notx2], 1)\n",
        "ex_c7 = Clause([notx0, notx1, x2], 1)\n",
        "\n",
        "ex_cnf = CNF([ex_c1, ex_c2, ex_c3, ex_c4, ex_c5, ex_c6, ex_c7], 3)\n",
        "print(ex_cnf)\n",
        "for ass in [a + b + c for a in \"01\" for b in \"01\" for c in \"01\"]:\n",
        "  print(f'is satisfied by {ass}: {ex_cnf.is_satisfied(ass)}')\n"
      ],
      "metadata": {
        "colab": {
          "base_uri": "https://localhost:8080/"
        },
        "id": "LGBDrzWozS2v",
        "outputId": "ad81161a-c602-48e0-f4eb-5de0746b8f50"
      },
      "execution_count": null,
      "outputs": [
        {
          "output_type": "stream",
          "name": "stdout",
          "text": [
            "(x0 ∨ x1 ∨ x2)∧\n",
            "(x0 ∨ x1 ∨ ¬x2)∧\n",
            "(x0 ∨ ¬x1 ∨ x2)∧\n",
            "(x0 ∨ ¬x1 ∨ ¬x2)∧\n",
            "(¬x0 ∨ x1 ∨ x2)∧\n",
            "(¬x0 ∨ x1 ∨ ¬x2)∧\n",
            "(¬x0 ∨ ¬x1 ∨ x2)\n",
            "\n",
            "is satisfied by 000: False\n",
            "is satisfied by 001: False\n",
            "is satisfied by 010: False\n",
            "is satisfied by 011: False\n",
            "is satisfied by 100: False\n",
            "is satisfied by 101: False\n",
            "is satisfied by 110: False\n",
            "is satisfied by 111: True\n"
          ]
        }
      ]
    },
    {
      "cell_type": "markdown",
      "source": [
        "We construct the circuit as per previous sections."
      ],
      "metadata": {
        "id": "eNsKWGi67Vao"
      }
    },
    {
      "cell_type": "code",
      "source": [
        "def max_3_sat_circuit(cnf: CNF, p: int) -> QuantumCircuit:\n",
        "  n = cnf.num_vars\n",
        "  qc = QuantumCircuit(n)\n",
        "  \n",
        "  # Prepare initial state with Hadamard gates\n",
        "  for qubit in qc.qubits:\n",
        "    qc.h(qubit)\n",
        "  \n",
        "  # Creat p alternating mixer and cost gates\n",
        "  for i in range(p):\n",
        "\n",
        "    # Cost gates\n",
        "    gamma = Parameter(f\"y_{i}\")\n",
        "    qc = max_3_sat_cost(qc, cnf, gamma)\n",
        "    \n",
        "    # Mixer gates\n",
        "    beta = Parameter(f\"β_{i}\")\n",
        "    for qubit in qc.qubits:\n",
        "      qc.rx(2 * beta, qubit)\n",
        "  \n",
        "  qc.measure_all()\n",
        "  return qc"
      ],
      "metadata": {
        "id": "BNUsDZFaeowM"
      },
      "execution_count": null,
      "outputs": []
    },
    {
      "cell_type": "markdown",
      "source": [
        "We piece together the circuit and optimiser, running the algorithm."
      ],
      "metadata": {
        "id": "JSY4MSa77aNn"
      }
    },
    {
      "cell_type": "code",
      "source": [
        "def max_sat_params(cnf: CNF, p: int, init_params: List[float]) -> List[float]:\n",
        "  \"\"\" Finds the approximate max sat of a CNF\"\"\"\n",
        "  circuit = max_3_sat_circuit(cnf, p)\n",
        "  backend = Aer.get_backend('qasm_simulator')\n",
        "\n",
        "  def execute_average(param_values: List[float]) -> float:\n",
        "    bound_circuit = circuit.bind_parameters(param_values)\n",
        "    counts = backend.run(bound_circuit).result().get_counts()\n",
        "    # -1 * average because we want to maximise but are using scipy minimise\n",
        "    return -1 * assignment_weighted_average(counts, cnf)\n",
        "\n",
        "  result = minimize(execute_average, init_params, method='COBYLA')\n",
        "\n",
        "  print(result)\n",
        "\n",
        "  return result.x"
      ],
      "metadata": {
        "id": "sJ3W5JnVgwtJ"
      },
      "execution_count": null,
      "outputs": []
    },
    {
      "cell_type": "code",
      "source": [
        "opt_params = max_sat_params(ex_cnf, p=1, init_params=[1.0, 1.0])"
      ],
      "metadata": {
        "colab": {
          "base_uri": "https://localhost:8080/"
        },
        "id": "1J5dtsm9h35h",
        "outputId": "a9401c74-9e70-47cc-a2c1-4d2ec1a27827"
      },
      "execution_count": null,
      "outputs": [
        {
          "output_type": "stream",
          "name": "stdout",
          "text": [
            "     fun: -6.4384765625\n",
            "   maxcv: 0.0\n",
            " message: 'Optimization terminated successfully.'\n",
            "    nfev: 35\n",
            "  status: 1\n",
            " success: True\n",
            "       x: array([0.96326932, 0.72661465])\n"
          ]
        }
      ]
    },
    {
      "cell_type": "markdown",
      "source": [
        "We plot the output of a circuit with the bound optimal parameters and as expected $\\ket{111}$ is the most frequent measurement."
      ],
      "metadata": {
        "id": "0-2iHvMQ7fbs"
      }
    },
    {
      "cell_type": "code",
      "source": [
        "final_circuit = max_3_sat_circuit(ex_cnf, p=1)\n",
        "final_circuit = final_circuit.bind_parameters(opt_params)\n",
        "backend = Aer.get_backend('qasm_simulator')\n",
        "counts = backend.run(final_circuit, shots=1024).result().get_counts()\n",
        "plot_histogram(counts)"
      ],
      "metadata": {
        "colab": {
          "base_uri": "https://localhost:8080/",
          "height": 340
        },
        "id": "2wnKYlKmiBrI",
        "outputId": "df163112-b1c8-4c57-c649-9a1e1c744f21"
      },
      "execution_count": null,
      "outputs": [
        {
          "output_type": "execute_result",
          "data": {
            "text/plain": [
              "<Figure size 504x360 with 1 Axes>"
            ],
            "image/png": "[encoded data removed]"
          },
          "metadata": {},
          "execution_count": 22
        }
      ]
    },
    {
      "cell_type": "markdown",
      "source": [
        "**Example 2**\n",
        "\n",
        "$$\n",
        "\\be \n",
        "c_1 &= x_0 \\lor x_1 \\lor x_2&, \\space w_1 = 1 \\\\\n",
        "c_2 &= x_0 \\lor x_1 \\lor \\neg x_2&, \\space w_2 = 1  \\\\\n",
        "c_3 &= x_0 \\lor \\neg x_1 \\lor x_2&, \\space w_3 = 10  \\\\\n",
        "c_4 &= x_0 \\lor \\neg x_1 \\lor \\neg x_2 &, \\space w_4 = 10  \\\\\n",
        "c_5 &= \\neg x_0 \\lor x_1 \\lor x_2&, \\space w_5 = 10 \\\\\n",
        "c_6 &= \\neg x_0 \\lor x_1 \\lor \\neg x_2 &, \\space w_6 = 10  \\\\\n",
        "c_7 &= \\neg x_0 \\lor \\neg x_1 \\lor x_2 &, \\space w_7 = 10 \\\\\n",
        "c_8 &= \\neg x_0 \\lor \\neg x_1 \\lor \\neg x_2 &, \\space w_8 = 10\n",
        "\\en\n",
        "$$\n",
        "\n",
        "These clauses are unsatisfiable. However, they are maximally satisfied by $\\ux = 000$ and $\\ux = 001$\n",
        "\n",
        "We construct them and verify the above assignments are maximal:"
      ],
      "metadata": {
        "id": "-qIdMr3O8FBd"
      }
    },
    {
      "cell_type": "code",
      "source": [
        "x0 = Variable(0, False) \n",
        "x1 = Variable(1, False) \n",
        "x2 = Variable(2, False) \n",
        "notx0 = Variable(0, True) \n",
        "notx1 = Variable(1, True) \n",
        "notx2 = Variable(2, True) \n",
        "\n",
        "ex_c1 = Clause([x0, x1, x2], 1)\n",
        "ex_c2 = Clause([x0, x1, notx2], 1)\n",
        "ex_c3 = Clause([x0, notx1, x2], 10)\n",
        "ex_c4 = Clause([x0, notx1, notx2], 10)\n",
        "ex_c5 = Clause([notx0, x1, x2], 10)\n",
        "ex_c6 = Clause([notx0, x1, notx2], 10)\n",
        "ex_c7 = Clause([notx0, notx1, x2], 10)\n",
        "ex_c8 = Clause([notx0, notx1, notx2], 10)\n",
        "\n",
        "ex_cnf = CNF([ex_c1, ex_c2, ex_c3, ex_c4, ex_c5, ex_c6, ex_c7, ex_c8], 3)\n",
        "print(ex_cnf)\n",
        "for ass in [a + b + c for a in \"01\" for b in \"01\" for c in \"01\"]:\n",
        "  print(f'{ass} assignment weight: {ex_cnf.assignment_weight(ass)}')"
      ],
      "metadata": {
        "colab": {
          "base_uri": "https://localhost:8080/"
        },
        "outputId": "7270aac6-e1c8-45f1-efb3-30958406f0f8",
        "id": "mOCzgRnO8FBo"
      },
      "execution_count": null,
      "outputs": [
        {
          "output_type": "stream",
          "name": "stdout",
          "text": [
            "(x0 ∨ x1 ∨ x2)∧\n",
            "(x0 ∨ x1 ∨ ¬x2)∧\n",
            "(x0 ∨ ¬x1 ∨ x2)∧\n",
            "(x0 ∨ ¬x1 ∨ ¬x2)∧\n",
            "(¬x0 ∨ x1 ∨ x2)∧\n",
            "(¬x0 ∨ x1 ∨ ¬x2)∧\n",
            "(¬x0 ∨ ¬x1 ∨ x2)∧\n",
            "(¬x0 ∨ ¬x1 ∨ ¬x2)\n",
            "\n",
            "000 assignment weight: 61\n",
            "001 assignment weight: 61\n",
            "010 assignment weight: 52\n",
            "011 assignment weight: 52\n",
            "100 assignment weight: 52\n",
            "101 assignment weight: 52\n",
            "110 assignment weight: 52\n",
            "111 assignment weight: 52\n"
          ]
        }
      ]
    },
    {
      "cell_type": "code",
      "source": [
        "opt_params = max_sat_params(ex_cnf, p=1, init_params=[1.0, 1.0])"
      ],
      "metadata": {
        "colab": {
          "base_uri": "https://localhost:8080/"
        },
        "outputId": "173fd796-e09f-41e8-d620-16d7ce06ff67",
        "id": "2XFwJ49o8FCA"
      },
      "execution_count": null,
      "outputs": [
        {
          "output_type": "stream",
          "name": "stdout",
          "text": [
            "     fun: -56.5263671875\n",
            "   maxcv: 0.0\n",
            " message: 'Optimization terminated successfully.'\n",
            "    nfev: 27\n",
            "  status: 1\n",
            " success: True\n",
            "       x: array([1.06405502, 0.89484582])\n"
          ]
        }
      ]
    },
    {
      "cell_type": "markdown",
      "source": [
        "We plot the output of a circuit with the bound optimal parameters and as expected $\\ket{000}$ and $\\ket{001}$ are the most frequently measured states."
      ],
      "metadata": {
        "id": "q0oN6Gjx8FCC"
      }
    },
    {
      "cell_type": "code",
      "source": [
        "final_circuit = max_3_sat_circuit(ex_cnf, p=1)\n",
        "final_circuit = final_circuit.bind_parameters(opt_params)\n",
        "backend = Aer.get_backend('qasm_simulator')\n",
        "counts = backend.run(final_circuit, shots=1024).result().get_counts()\n",
        "plot_histogram(counts)"
      ],
      "metadata": {
        "colab": {
          "base_uri": "https://localhost:8080/",
          "height": 339
        },
        "outputId": "839ec4e2-c8cb-4e16-85e2-345983579f60",
        "id": "S4nYjtpL8FCD"
      },
      "execution_count": null,
      "outputs": [
        {
          "output_type": "execute_result",
          "data": {
            "text/plain": [
              "<Figure size 504x360 with 1 Axes>"
            ],
            "image/png": "[encoded data removed]"
          },
          "metadata": {},
          "execution_count": 27
        }
      ]
    },
    {
      "cell_type": "markdown",
      "source": [
        "# Bibliography #\n",
        "<a name=\"cite_note-1\"></a>[HAD21]. [^](#cite_ref-1)Stuart Hadfield. On the representation of Boolean and real functions as Hamiltonians for quantum computing."
      ],
      "metadata": {
        "id": "IPqAE4kF70qw"
      }
    }
  ]
}