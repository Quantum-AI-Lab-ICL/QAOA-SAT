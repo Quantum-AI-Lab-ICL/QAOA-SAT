{
 "cells": [
  {
   "attachments": {},
   "cell_type": "markdown",
   "metadata": {},
   "source": [
    "Example usage of library."
   ]
  },
  {
   "cell_type": "code",
   "execution_count": 1,
   "metadata": {},
   "outputs": [],
   "source": [
    "import os\n",
    "import sys\n",
    "nb_dir = os.path.split(os.getcwd())[0]\n",
    "if nb_dir not in sys.path:\n",
    "    sys.path.append(nb_dir)"
   ]
  },
  {
   "attachments": {},
   "cell_type": "markdown",
   "metadata": {},
   "source": [
    "Generating problems."
   ]
  },
  {
   "cell_type": "code",
   "execution_count": 2,
   "metadata": {},
   "outputs": [
    {
     "data": {
      "text/plain": [
       "(x0 ∨ x1 ∨ x2)∧\n",
       "(x0 ∨ x1 ∨ ¬x2)∧\n",
       "(x0 ∨ ¬x1 ∨ x2)∧\n",
       "(x0 ∨ ¬x1 ∨ ¬x2)∧\n",
       "(¬x0 ∨ x1 ∨ x2)∧\n",
       "(¬x0 ∨ x1 ∨ ¬x2)∧\n",
       "(¬x0 ∨ ¬x1 ∨ x2)"
      ]
     },
     "execution_count": 2,
     "metadata": {},
     "output_type": "execute_result"
    }
   ],
   "source": [
    "from formula.cnf.cnf import CNF\n",
    "from formula.cnf.disjunctive_clause import DisjunctiveClause\n",
    "from formula.variable import Variable\n",
    "\n",
    "x0 = Variable(0, False) \n",
    "x1 = Variable(1, False) \n",
    "x2 = Variable(2, False) \n",
    "notx0 = Variable(0, True) \n",
    "notx1 = Variable(1, True) \n",
    "notx2 = Variable(2, True) \n",
    "\n",
    "c1 = DisjunctiveClause([x0, x1, x2])\n",
    "c2 = DisjunctiveClause([x0, x1, notx2])\n",
    "c3 = DisjunctiveClause([x0, notx1, x2])\n",
    "c4 = DisjunctiveClause([x0, notx1, notx2])\n",
    "c5 = DisjunctiveClause([notx0, x1, x2])\n",
    "c6 = DisjunctiveClause([notx0, x1, notx2])\n",
    "c7 = DisjunctiveClause([notx0, notx1, x2])\n",
    "\n",
    "cnf = CNF([c1, c2, c3, c4, c5, c6, c7])\n",
    "cnf"
   ]
  },
  {
   "attachments": {},
   "cell_type": "markdown",
   "metadata": {},
   "source": [
    "Generating random problems."
   ]
  },
  {
   "cell_type": "code",
   "execution_count": 3,
   "metadata": {},
   "outputs": [],
   "source": [
    "from benchmark.cnf.random_cnf import RandomCNF\n",
    "from benchmark.cnf.generator.ksat_generator import KSATGenerator\n",
    "\n",
    "# Random ksat from generator\n",
    "ksg = KSATGenerator()\n",
    "rp = RandomCNF(generator=ksg)\n",
    "rks = rp.from_poisson(n=12, k=3, satisfiable=False)"
   ]
  },
  {
   "cell_type": "code",
   "execution_count": 4,
   "metadata": {},
   "outputs": [],
   "source": [
    "# Random knaesat\n",
    "rp = RandomCNF(type='knaesat')\n",
    "rkns = rp.from_poisson(n=12, k=5, satisfiable=True)[0]"
   ]
  },
  {
   "cell_type": "code",
   "execution_count": 5,
   "metadata": {},
   "outputs": [],
   "source": [
    "# Random ksat \n",
    "rp = RandomCNF(type=\"ksat\")\n",
    "rks = rp.from_poisson(n=12, k=5, satisfiable=True)[0]"
   ]
  },
  {
   "attachments": {},
   "cell_type": "markdown",
   "metadata": {},
   "source": [
    "Using classical solvers."
   ]
  },
  {
   "cell_type": "code",
   "execution_count": 10,
   "metadata": {},
   "outputs": [
    {
     "data": {
      "text/plain": [
       "(25.0, 2)"
      ]
     },
     "execution_count": 10,
     "metadata": {},
     "output_type": "execute_result"
    }
   ],
   "source": [
    "from k_sat.walkSATlm.wslm_solver import WSlmSolver\n",
    "\n",
    "wslm = WSlmSolver(breaks={1 : -10, 2 : -1})\n",
    "wslm.score(rkns, 0, \"1\"*12)"
   ]
  },
  {
   "cell_type": "code",
   "execution_count": 11,
   "metadata": {},
   "outputs": [
    {
     "data": {
      "text/plain": [
       "True"
      ]
     },
     "execution_count": 11,
     "metadata": {},
     "output_type": "execute_result"
    }
   ],
   "source": [
    "ass, t = wslm.sat(rkns, 100)\n",
    "rkns.is_satisfied(ass)"
   ]
  },
  {
   "attachments": {},
   "cell_type": "markdown",
   "metadata": {},
   "source": [
    "Using Qiskit solver."
   ]
  },
  {
   "cell_type": "code",
   "execution_count": 13,
   "metadata": {},
   "outputs": [
    {
     "name": "stdout",
     "output_type": "stream",
     "text": [
      "Encoding training formulas into quantum circuits\n",
      "Finding optimal parameters for training circuits\n",
      "Finding/evaluating satisfying assignment\n",
      "Samples drawn: 10\n",
      "Samples drawn: 20\n",
      "Samples drawn: 30\n",
      "Samples drawn: 40\n",
      "Samples drawn: 50\n",
      "Samples drawn: 60\n",
      "Samples drawn: 70\n"
     ]
    },
    {
     "data": {
      "text/plain": [
       "('100011011011', 72)"
      ]
     },
     "execution_count": 13,
     "metadata": {},
     "output_type": "execute_result"
    }
   ],
   "source": [
    "from k_sat.qiskit_solver.qiskit_solver import QiskitSolver\n",
    "q_solver = QiskitSolver()\n",
    "q_solver.sat(rkns)"
   ]
  },
  {
   "attachments": {},
   "cell_type": "markdown",
   "metadata": {},
   "source": [
    "Using PyTorch solver."
   ]
  },
  {
   "cell_type": "code",
   "execution_count": 12,
   "metadata": {},
   "outputs": [
    {
     "name": "stdout",
     "output_type": "stream",
     "text": [
      "Initialising network\n",
      "Finding optimal params\n"
     ]
    },
    {
     "name": "stderr",
     "output_type": "stream",
     "text": [
      "/home/andrew/Documents/QAOA-SAT/k_sat/pytorch_solver/pytorch_circuit.py:120: UserWarning: To copy construct from a tensor, it is recommended to use sourceTensor.clone().detach() or sourceTensor.clone().detach().requires_grad_(True), rather than torch.tensor(sourceTensor).\n",
      "  circuit = self.cost(circuit, self.gamma[i], torch.tensor(h))\n"
     ]
    },
    {
     "name": "stdout",
     "output_type": "stream",
     "text": [
      "Epoch 0, p_succ: 0.0004916066536679864\n",
      "Epoch 10, p_succ: 0.000949315435718745\n",
      "Epoch 20, p_succ: 0.0030902947764843702\n",
      "Epoch 30, p_succ: 0.00804518349468708\n",
      "Epoch 40, p_succ: 0.01150058675557375\n",
      "Epoch 50, p_succ: 0.012179323472082615\n",
      "Epoch 60, p_succ: 0.012033382430672646\n",
      "Epoch 70, p_succ: 0.012174098752439022\n",
      "Epoch 80, p_succ: 0.012217202223837376\n",
      "Epoch 90, p_succ: 0.012209984473884106\n",
      "Epoch 100, p_succ: 0.012217254377901554\n",
      "Epoch 110, p_succ: 0.012218100018799305\n",
      "Epoch 120, p_succ: 0.01221825648099184\n",
      "Epoch 130, p_succ: 0.012218594551086426\n",
      "Epoch 140, p_succ: 0.012218547984957695\n",
      "Epoch 150, p_succ: 0.012218589894473553\n",
      "Epoch 160, p_succ: 0.012218595482409\n",
      "Epoch 170, p_succ: 0.012218588031828403\n",
      "Epoch 180, p_succ: 0.012218603864312172\n",
      "Epoch 190, p_succ: 0.012218593619763851\n",
      "Epoch 200, p_succ: 0.012218595482409\n",
      "Epoch 210, p_succ: 0.012218593619763851\n",
      "Epoch 220, p_succ: 0.012218601070344448\n",
      "Epoch 230, p_succ: 0.012218598276376724\n",
      "Epoch 240, p_succ: 0.012218601070344448\n",
      "Epoch 250, p_succ: 0.012218591757118702\n",
      "tensor([0.0002, 0.0001, 0.0006,  ..., 0.0006, 0.0001, 0.0002],\n",
      "       grad_fn=<SelectBackward0>)\n",
      "Samples drawn: 10\n",
      "Samples drawn: 20\n",
      "Samples drawn: 30\n",
      "Samples drawn: 40\n",
      "Samples drawn: 50\n"
     ]
    },
    {
     "data": {
      "text/plain": [
       "('011100100100', 51)"
      ]
     },
     "execution_count": 12,
     "metadata": {},
     "output_type": "execute_result"
    }
   ],
   "source": [
    "from k_sat.pytorch_solver.pytorch_solver import PytorchSolver\n",
    "pt_solver = PytorchSolver()\n",
    "pt_solver.sat(rkns)"
   ]
  }
 ],
 "metadata": {
  "kernelspec": {
   "display_name": "venv",
   "language": "python",
   "name": "python3"
  },
  "language_info": {
   "codemirror_mode": {
    "name": "ipython",
    "version": 3
   },
   "file_extension": ".py",
   "mimetype": "text/x-python",
   "name": "python",
   "nbconvert_exporter": "python",
   "pygments_lexer": "ipython3",
   "version": "3.8.10"
  },
  "orig_nbformat": 4,
  "vscode": {
   "interpreter": {
    "hash": "29f951cdabef12836e9083df8eafb20f1eb0d7cdacd07dedd12ec492edce1f03"
   }
  }
 },
 "nbformat": 4,
 "nbformat_minor": 2
}
